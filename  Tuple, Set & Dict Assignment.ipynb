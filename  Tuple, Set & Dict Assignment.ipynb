{
 "cells": [
  {
   "cell_type": "markdown",
   "id": "10f25d46",
   "metadata": {},
   "source": [
    "### Q1. What are the characteristics of the tuples? Is tuple immutable?"
   ]
  },
  {
   "cell_type": "raw",
   "id": "8ddfe559",
   "metadata": {},
   "source": [
    "Tuples have the given characteristics:\n",
    "\n",
    "They are indexed\n",
    "Tuples are ordered\n",
    "These are immutable\n",
    "They can contain duplicate items"
   ]
  },
  {
   "cell_type": "markdown",
   "id": "d0443851",
   "metadata": {},
   "source": [
    "### Q2. What are the two tuple methods in python? Give an example of each method. Give a reason why tuples have only two in-built methods as compared to Lists."
   ]
  },
  {
   "cell_type": "raw",
   "id": "2c4048e9",
   "metadata": {},
   "source": [
    "There are only two tuple methods count() and index() that a tuple object can call.Tuple have only two in-built methods as compared to Lists because there are no method to update or to assign values to tuple as tuple are immutable and list are mutable"
   ]
  },
  {
   "cell_type": "markdown",
   "id": "4d06e525",
   "metadata": {},
   "source": [
    "### Which collection datatypes in python do not allow duplicate items? Write a code using a set to remove duplicates from the given list.\n"
   ]
  },
  {
   "cell_type": "raw",
   "id": "17f65f7a",
   "metadata": {},
   "source": [
    "Set in python do not allow duplicate items"
   ]
  },
  {
   "cell_type": "code",
   "execution_count": 3,
   "id": "ab269a65",
   "metadata": {},
   "outputs": [
    {
     "name": "stdout",
     "output_type": "stream",
     "text": [
      "[1, 1, 1, 2, 1, 3, 1, 4, 2, 1, 2, 2, 2, 3, 2, 4, 3, 1, 3, 2, 3, 3, 3, 4, 4, 1, 4, 2, 4, 3, 4, 4]\n",
      "{1, 2, 3, 4}\n"
     ]
    }
   ],
   "source": [
    "lst = [1, 1, 1, 2, 1, 3, 1, 4, 2, 1, 2, 2, 2, 3, 2, 4, 3, 1, 3, 2, 3, 3, 3, 4, 4, 1, 4, 2, 4, 3, 4, 4]\n",
    "print(lst)\n",
    "st=set(lst)\n",
    "print(st)"
   ]
  },
  {
   "cell_type": "markdown",
   "id": "a29fb006",
   "metadata": {},
   "source": [
    "### Q4. Explain the difference between the union() and update() methods for a set. Give an example of each method."
   ]
  },
  {
   "cell_type": "raw",
   "id": "ab9f5762",
   "metadata": {},
   "source": [
    "union() method create and return a new set, containing all the elements present in all the iterables, update() method updates the set on which this method is called with all the distinct elements present in all the iterables."
   ]
  },
  {
   "cell_type": "code",
   "execution_count": 5,
   "id": "ac061ca7",
   "metadata": {},
   "outputs": [
    {
     "name": "stdout",
     "output_type": "stream",
     "text": [
      "{1, 2, 3, 4, 5, 6, 7}\n",
      "{4, 5, 6, 7}\n"
     ]
    }
   ],
   "source": [
    "st1={1,2,3,4}\n",
    "st2={4,5,6,7}\n",
    "st1.update(st2)\n",
    "print(st1)\n",
    "print(st2)"
   ]
  },
  {
   "cell_type": "code",
   "execution_count": 8,
   "id": "5c52274c",
   "metadata": {},
   "outputs": [
    {
     "name": "stdout",
     "output_type": "stream",
     "text": [
      "{1, 2, 3, 4}\n",
      "{4, 5, 6, 7}\n",
      "{1, 2, 3, 4, 5, 6, 7}\n"
     ]
    }
   ],
   "source": [
    "st1={1,2,3,4}\n",
    "st2={4,5,6,7}\n",
    "uninon_st=st1.union(st2)\n",
    "print(st1)\n",
    "print(st2)\n",
    "print(uninon_st)"
   ]
  },
  {
   "cell_type": "markdown",
   "id": "9e4a30ed",
   "metadata": {},
   "source": [
    "### Q5. What is a dictionary? Give an example. Also, state whether a dictionary is ordered or unordered."
   ]
  },
  {
   "cell_type": "raw",
   "id": "8b50f2bb",
   "metadata": {},
   "source": [
    "Dictionaries are used to store data values in key:value pairs. A dictionary is a collection which is ordered, changeable and do not allow duplicates.\n",
    "\n",
    "dictionary is orderd "
   ]
  },
  {
   "cell_type": "markdown",
   "id": "7e32e8e2",
   "metadata": {},
   "source": [
    "### Q6. Can we create a nested dictionary? If so, please give an example by creating a simple one-level nested dictionary."
   ]
  },
  {
   "cell_type": "raw",
   "id": "87df485b",
   "metadata": {},
   "source": [
    "Yes! we can create a nested dictionary "
   ]
  },
  {
   "cell_type": "code",
   "execution_count": 19,
   "id": "8d652c06",
   "metadata": {},
   "outputs": [
    {
     "name": "stdout",
     "output_type": "stream",
     "text": [
      "{'name': 'Kunal', 'age': 21, 'friend': {'friend_name': 'Goranshi', 'friend_age': 20}}\n",
      "Kunal\n",
      "Goranshi\n"
     ]
    }
   ],
   "source": [
    "dic={\"name\":\"Kunal\",\"age\":21,\"friend\":{\"friend_name\":\"Goranshi\",\"friend_age\":20}}\n",
    "print(dic)\n",
    "print(dic[\"name\"])\n",
    "print(dic[\"friend\"][\"friend_name\"])"
   ]
  },
  {
   "cell_type": "markdown",
   "id": "ef76c778",
   "metadata": {},
   "source": [
    "### Q7. Using setdefault() method, create key named topics in the given dictionary and also add the value of the key as this list ['Python', 'Machine Learning’, 'Deep Learning']"
   ]
  },
  {
   "cell_type": "code",
   "execution_count": 24,
   "id": "a544f26e",
   "metadata": {},
   "outputs": [
    {
     "name": "stdout",
     "output_type": "stream",
     "text": [
      "['Python', 'Machine Learning', 'Deep Learning']\n",
      "{'language': 'Python', 'course': 'Data Science Masters', 'topics': ['Python', 'Machine Learning', 'Deep Learning']}\n",
      "['Python', 'Machine Learning', 'Deep Learning']\n"
     ]
    }
   ],
   "source": [
    "dict1 = {'language' : 'Python', 'course': 'Data Science Masters'}\n",
    "x=dict1.setdefault(\"topics\",['Python', 'Machine Learning', 'Deep Learning'])\n",
    "print(x)\n",
    "print(dict1)\n",
    "print(dict1[\"topics\"])"
   ]
  },
  {
   "cell_type": "markdown",
   "id": "eebbce5e",
   "metadata": {},
   "source": [
    "### Q8. What are the three view objects in dictionaries? Use the three in-built methods in python to display these three view objects for the given dictionary."
   ]
  },
  {
   "cell_type": "raw",
   "id": "64663a87",
   "metadata": {},
   "source": [
    "The main view objects of dictionary in python are keys, values and items"
   ]
  },
  {
   "cell_type": "code",
   "execution_count": 25,
   "id": "0cfa8a08",
   "metadata": {},
   "outputs": [
    {
     "name": "stdout",
     "output_type": "stream",
     "text": [
      "dict_keys(['Sport', 'Teams'])\n",
      "dict_values(['Cricket', ['India', 'Australia', 'England', 'South Africa', 'Sri Lanka', 'New Zealand']])\n",
      "dict_items([('Sport', 'Cricket'), ('Teams', ['India', 'Australia', 'England', 'South Africa', 'Sri Lanka', 'New Zealand'])])\n"
     ]
    }
   ],
   "source": [
    "dict1 = {'Sport': 'Cricket' , 'Teams': ['India', 'Australia', 'England', 'South Africa', 'Sri Lanka', 'New Zealand']}\n",
    "print(dict1.keys())\n",
    "print(dict1.values())\n",
    "print(dict1.items())"
   ]
  }
 ],
 "metadata": {
  "kernelspec": {
   "display_name": "Python 3 (ipykernel)",
   "language": "python",
   "name": "python3"
  },
  "language_info": {
   "codemirror_mode": {
    "name": "ipython",
    "version": 3
   },
   "file_extension": ".py",
   "mimetype": "text/x-python",
   "name": "python",
   "nbconvert_exporter": "python",
   "pygments_lexer": "ipython3",
   "version": "3.10.9"
  }
 },
 "nbformat": 4,
 "nbformat_minor": 5
}

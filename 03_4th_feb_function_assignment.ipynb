{
 "cells": [
  {
   "cell_type": "markdown",
   "id": "8e301801",
   "metadata": {},
   "source": [
    "### Q1. Create a python program to sort the given list of tuples based on integer value using a lambda function."
   ]
  },
  {
   "cell_type": "code",
   "execution_count": 6,
   "id": "eae98f3c",
   "metadata": {},
   "outputs": [
    {
     "name": "stdout",
     "output_type": "stream",
     "text": [
      "[('Virat Kohli', 24936), ('Jack Kallis', 25534), ('Ricky Ponting', 27483), ('Sachin Tendulkar', 34357)]\n"
     ]
    }
   ],
   "source": [
    "lst=[('Sachin Tendulkar', 34357), ('Ricky Ponting', 27483), ('Jack Kallis', 25534), ('Virat Kohli', 24936)]\n",
    "\n",
    "lst.sort(key= lambda x:x[1])\n",
    "print(lst)"
   ]
  },
  {
   "cell_type": "markdown",
   "id": "0733d9a6",
   "metadata": {},
   "source": [
    "### Q2. Write a Python Program to find the squares of all the numbers in the given list of integers using lambda and map functions."
   ]
  },
  {
   "cell_type": "code",
   "execution_count": 15,
   "id": "af93c178",
   "metadata": {},
   "outputs": [
    {
     "name": "stdout",
     "output_type": "stream",
     "text": [
      "1 4 9 16 25 36 49 64 81 100 "
     ]
    }
   ],
   "source": [
    "num=[1, 2, 3, 4, 5, 6, 7, 8, 9, 10]\n",
    "sq= lambda x:x**2\n",
    "ans = map(sq,num)\n",
    "for i in ans:\n",
    "    print(i,end=' ')"
   ]
  },
  {
   "cell_type": "markdown",
   "id": "045c1c2a",
   "metadata": {},
   "source": [
    "### Q3. Write a python program to convert the given list of integers into a tuple of strings. Use map and lambda functions"
   ]
  },
  {
   "cell_type": "code",
   "execution_count": 20,
   "id": "e8b99c9f",
   "metadata": {},
   "outputs": [
    {
     "name": "stdout",
     "output_type": "stream",
     "text": [
      "('1', '2', '3', '4', '5', '6', '7', '8', '9', '10')\n"
     ]
    }
   ],
   "source": [
    "ls_str=[1, 2, 3, 4, 5, 6, 7, 8, 9, 10]\n",
    "conver_str= lambda x: str(x)\n",
    "tp = tuple(map(conver_str,ls_str))\n",
    "print(tp)"
   ]
  },
  {
   "cell_type": "markdown",
   "id": "e2290ad4",
   "metadata": {},
   "source": [
    "### Q4. Write a python program using reduce function to compute the product of a list containing numbers from 1 to 25."
   ]
  },
  {
   "cell_type": "code",
   "execution_count": 27,
   "id": "b9931b5e",
   "metadata": {},
   "outputs": [
    {
     "name": "stdout",
     "output_type": "stream",
     "text": [
      "15511210043330985984000000\n"
     ]
    }
   ],
   "source": [
    "import functools\n",
    "lst = [x for x in range(1,26)]\n",
    "prod= lambda a,b:a*b\n",
    "print(functools.reduce(prod,lst))"
   ]
  },
  {
   "cell_type": "markdown",
   "id": "32bf8242",
   "metadata": {},
   "source": [
    "### Q5. Write a python program to filter the numbers in a given list that are divisible by 2 and 3 using the filter function."
   ]
  },
  {
   "cell_type": "code",
   "execution_count": 32,
   "id": "d34f71b2",
   "metadata": {},
   "outputs": [
    {
     "name": "stdout",
     "output_type": "stream",
     "text": [
      "6\n",
      "60\n",
      "90\n",
      "120\n"
     ]
    }
   ],
   "source": [
    "lst = [2, 3, 6, 9, 27, 60, 90, 120, 55, 46]\n",
    "temp_func = lambda x : x%2==0 and x%3==0\n",
    "new_lst=filter(temp_func,lst)\n",
    "for i in new_lst:\n",
    "    print(i)"
   ]
  },
  {
   "cell_type": "markdown",
   "id": "4868f1ea",
   "metadata": {},
   "source": [
    "### Q6. Write a python program to find palindromes in the given list of strings using lambda and filter function."
   ]
  },
  {
   "cell_type": "code",
   "execution_count": 44,
   "id": "25ee8c95",
   "metadata": {},
   "outputs": [
    {
     "name": "stdout",
     "output_type": "stream",
     "text": [
      "php\n",
      "aba\n",
      "radar\n",
      "level\n"
     ]
    }
   ],
   "source": [
    "lst = ['python', 'php', 'aba', 'radar', 'level']\n",
    "check_pal= lambda x : x==x[::-1]\n",
    "new_pal= filter(check_pal,lst)\n",
    "for i in new_pal:\n",
    "    print(i)"
   ]
  }
 ],
 "metadata": {
  "kernelspec": {
   "display_name": "Python 3 (ipykernel)",
   "language": "python",
   "name": "python3"
  },
  "language_info": {
   "codemirror_mode": {
    "name": "ipython",
    "version": 3
   },
   "file_extension": ".py",
   "mimetype": "text/x-python",
   "name": "python",
   "nbconvert_exporter": "python",
   "pygments_lexer": "ipython3",
   "version": "3.10.9"
  }
 },
 "nbformat": 4,
 "nbformat_minor": 5
}

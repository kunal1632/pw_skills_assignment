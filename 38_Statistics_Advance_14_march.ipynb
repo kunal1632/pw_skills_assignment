{
 "cells": [
  {
   "cell_type": "markdown",
   "id": "03257a7c",
   "metadata": {},
   "source": [
    "### Q1. Write a Python function that takes in two arrays of data and calculates the F-value for a variance ratio test. The function should return the F-value and the corresponding p-value for the test.\n"
   ]
  },
  {
   "cell_type": "code",
   "execution_count": 11,
   "id": "ecefa16f",
   "metadata": {},
   "outputs": [
    {
     "name": "stdout",
     "output_type": "stream",
     "text": [
      "F-value: 0.25\n",
      "p-value: 0.896\n"
     ]
    }
   ],
   "source": [
    "import numpy as np\n",
    "from scipy.stats import f\n",
    "\n",
    "def variance_ratio_test(data1, data2):\n",
    "    # Convert input arrays to numpy arrays\n",
    "    data1 = np.asarray(data1)\n",
    "    data2 = np.asarray(data2)\n",
    "    \n",
    "    # Calculate variances\n",
    "    var1 = np.var(data1, ddof=1)\n",
    "    var2 = np.var(data2, ddof=1)\n",
    "    \n",
    "    # Calculate F-value\n",
    "    f_value = var1 / var2\n",
    "    \n",
    "    # Calculate degrees of freedom\n",
    "    dof1 = len(data1) - 1\n",
    "    dof2 = len(data2) - 1\n",
    "    \n",
    "    # Calculate p-value\n",
    "    p_value = f.sf(f_value, dof1, dof2)\n",
    "    \n",
    "    return f_value, p_value\n",
    "data1 = [1, 2, 3, 4, 5]\n",
    "data2 = [2, 4, 6, 8, 10]\n",
    "\n",
    "f_value, p_value = variance_ratio_test(data1, data2)\n",
    "print(\"F-value:\", f_value)\n",
    "print(\"p-value:\", p_value)\n",
    "\n"
   ]
  },
  {
   "cell_type": "markdown",
   "id": "9a209942",
   "metadata": {},
   "source": [
    "### Q2. Given a significance level of 0.05 and the degrees of freedom for the numerator and denominator of an F-distribution, write a Python function that returns the critical F-value for a two-tailed test.\n"
   ]
  },
  {
   "cell_type": "code",
   "execution_count": 12,
   "id": "b3269090",
   "metadata": {},
   "outputs": [
    {
     "name": "stdout",
     "output_type": "stream",
     "text": [
      "Critical F-value: 4.825621493405406\n"
     ]
    }
   ],
   "source": [
    "from scipy.stats import f\n",
    "\n",
    "def get_critical_f_value(alpha, dfn, dfd):\n",
    "    # Calculate critical F-value\n",
    "    critical_f_value = f.ppf(1 - alpha / 2, dfn, dfd)\n",
    "    \n",
    "    return critical_f_value\n",
    "alpha = 0.05\n",
    "dfn = 3\n",
    "dfd = 10\n",
    "\n",
    "critical_f_value = get_critical_f_value(alpha, dfn, dfd)\n",
    "print(\"Critical F-value:\", critical_f_value)\n",
    "\n"
   ]
  },
  {
   "cell_type": "markdown",
   "id": "a2598638",
   "metadata": {},
   "source": [
    "### Q3. Write a Python program that generates random samples from two normal distributions with known variances and uses an F-test to determine if the variances are equal. The program should output the F- value, degrees of freedom, and p-value for the test.\n",
    "\n"
   ]
  },
  {
   "cell_type": "code",
   "execution_count": 13,
   "id": "2e9388a6",
   "metadata": {},
   "outputs": [
    {
     "name": "stdout",
     "output_type": "stream",
     "text": [
      "F-value: 0.9255759385253066\n",
      "Degrees of freedom (numerator): 49\n",
      "Degrees of freedom (denominator): 59\n",
      "p-value: 0.6074967205054671\n"
     ]
    }
   ],
   "source": [
    "import numpy as np\n",
    "from scipy.stats import f\n",
    "\n",
    "def perform_variance_test(sample1, sample2):\n",
    "    # Calculate variances\n",
    "    var1 = np.var(sample1, ddof=1)\n",
    "    var2 = np.var(sample2, ddof=1)\n",
    "    \n",
    "    # Calculate degrees of freedom\n",
    "    n1 = len(sample1)\n",
    "    n2 = len(sample2)\n",
    "    dof1 = n1 - 1\n",
    "    dof2 = n2 - 1\n",
    "    \n",
    "    # Calculate F-value\n",
    "    f_value = var1 / var2\n",
    "    \n",
    "    # Calculate p-value\n",
    "    p_value = f.sf(f_value, dof1, dof2)\n",
    "    \n",
    "    return f_value, dof1, dof2, p_value\n",
    "\n",
    "# Generate random samples\n",
    "np.random.seed(0)  # For reproducibility\n",
    "sample1 = np.random.normal(loc=0, scale=1, size=50)\n",
    "sample2 = np.random.normal(loc=0, scale=1.2, size=60)\n",
    "\n",
    "# Perform variance test\n",
    "f_value, dof1, dof2, p_value = perform_variance_test(sample1, sample2)\n",
    "\n",
    "# Print results\n",
    "print(\"F-value:\", f_value)\n",
    "print(\"Degrees of freedom (numerator):\", dof1)\n",
    "print(\"Degrees of freedom (denominator):\", dof2)\n",
    "print(\"p-value:\", p_value)\n"
   ]
  },
  {
   "cell_type": "markdown",
   "id": "da3e5a7e",
   "metadata": {},
   "source": [
    "### Q4.The variances of two populations are known to be 10 and 15. A sample of 12 observations is taken from each population. Conduct an F-test at the 5% significance level to determine if the variances are significantly different.\n"
   ]
  },
  {
   "cell_type": "code",
   "execution_count": 14,
   "id": "1e4b5c92",
   "metadata": {},
   "outputs": [
    {
     "name": "stdout",
     "output_type": "stream",
     "text": [
      "F-value: 0.6666666666666666\n",
      "Degrees of freedom (numerator): 11\n",
      "Degrees of freedom (denominator): 11\n",
      "p-value: 0.7438051006321003\n",
      "Reject null hypothesis: False\n"
     ]
    }
   ],
   "source": [
    "from scipy.stats import f\n",
    "\n",
    "def perform_variance_test(var1, var2, n1, n2, alpha):\n",
    "    # Calculate degrees of freedom\n",
    "    dof1 = n1 - 1\n",
    "    dof2 = n2 - 1\n",
    "    \n",
    "    # Calculate F-value\n",
    "    f_value = var1 / var2\n",
    "    \n",
    "    # Calculate p-value\n",
    "    p_value = f.sf(f_value, dof1, dof2)\n",
    "    \n",
    "    # Determine if null hypothesis is rejected\n",
    "    reject_null = p_value < alpha\n",
    "    \n",
    "    return f_value, dof1, dof2, p_value, reject_null\n",
    "\n",
    "# Given information\n",
    "var1 = 10\n",
    "var2 = 15\n",
    "n1 = 12\n",
    "n2 = 12\n",
    "alpha = 0.05\n",
    "\n",
    "# Perform variance test\n",
    "f_value, dof1, dof2, p_value, reject_null = perform_variance_test(var1, var2, n1, n2, alpha)\n",
    "\n",
    "# Print results\n",
    "print(\"F-value:\", f_value)\n",
    "print(\"Degrees of freedom (numerator):\", dof1)\n",
    "print(\"Degrees of freedom (denominator):\", dof2)\n",
    "print(\"p-value:\", p_value)\n",
    "print(\"Reject null hypothesis:\", reject_null)\n"
   ]
  },
  {
   "cell_type": "markdown",
   "id": "b124d495",
   "metadata": {},
   "source": [
    "### Q5. A manufacturer claims that the variance of the diameter of a certain product is 0.005. A sample of 25 products is taken, and the sample variance is found to be 0.006. Conduct an F-test at the 1% significance level to determine if the claim is justified.\n"
   ]
  },
  {
   "cell_type": "code",
   "execution_count": 15,
   "id": "d481e9bd",
   "metadata": {},
   "outputs": [
    {
     "name": "stdout",
     "output_type": "stream",
     "text": [
      "F-value: 1.2\n",
      "Degrees of freedom (numerator): 24\n",
      "Degrees of freedom (denominator): 24\n",
      "p-value: 0.32936546828172447\n",
      "Reject claim: False\n"
     ]
    }
   ],
   "source": [
    "from scipy.stats import f\n",
    "\n",
    "def perform_variance_test(var_claimed, var_sample, n, alpha):\n",
    "    # Calculate degrees of freedom\n",
    "    dof1 = n - 1\n",
    "    dof2 = n - 1\n",
    "    \n",
    "    # Calculate F-value\n",
    "    f_value = var_sample / var_claimed\n",
    "    \n",
    "    # Calculate p-value\n",
    "    p_value = f.sf(f_value, dof1, dof2)\n",
    "    \n",
    "    # Determine if claim is rejected\n",
    "    reject_claim = p_value < alpha\n",
    "    \n",
    "    return f_value, dof1, dof2, p_value, reject_claim\n",
    "\n",
    "# Given information\n",
    "var_claimed = 0.005\n",
    "var_sample = 0.006\n",
    "n = 25\n",
    "alpha = 0.01\n",
    "\n",
    "# Perform variance test\n",
    "f_value, dof1, dof2, p_value, reject_claim = perform_variance_test(var_claimed, var_sample, n, alpha)\n",
    "\n",
    "# Print results\n",
    "print(\"F-value:\", f_value)\n",
    "print(\"Degrees of freedom (numerator):\", dof1)\n",
    "print(\"Degrees of freedom (denominator):\", dof2)\n",
    "print(\"p-value:\", p_value)\n",
    "print(\"Reject claim:\", reject_claim)\n"
   ]
  },
  {
   "cell_type": "markdown",
   "id": "80ef1578",
   "metadata": {},
   "source": [
    "### Q6. Write a Python function that takes in the degrees of freedom for the numerator and denominator of an F-distribution and calculates the mean and variance of the distribution. The function should return the mean and variance as a tuple.\n"
   ]
  },
  {
   "cell_type": "code",
   "execution_count": 16,
   "id": "8ca18e2c",
   "metadata": {},
   "outputs": [
    {
     "name": "stdout",
     "output_type": "stream",
     "text": [
      "Mean: 1.25\n",
      "Variance: 1.9097222222222223\n"
     ]
    }
   ],
   "source": [
    "def calculate_f_distribution_stats(dfn, dfd):\n",
    "    # Calculate mean\n",
    "    if dfd > 2:\n",
    "        mean = dfd / (dfd - 2)\n",
    "    else:\n",
    "        mean = float('inf')\n",
    "    \n",
    "    # Calculate variance\n",
    "    if dfd > 4:\n",
    "        variance = (2 * (dfd**2) * (dfn + dfd - 2)) / (dfn * (dfd - 2)**2 * (dfd - 4))\n",
    "    else:\n",
    "        variance = float('inf')\n",
    "    \n",
    "    return mean, variance\n",
    "dfn = 3\n",
    "dfd = 10\n",
    "\n",
    "mean, variance = calculate_f_distribution_stats(dfn, dfd)\n",
    "print(\"Mean:\", mean)\n",
    "print(\"Variance:\", variance)\n",
    "\n"
   ]
  },
  {
   "cell_type": "markdown",
   "id": "c38adb96",
   "metadata": {},
   "source": [
    "### Q7. A random sample of 10 measurements is taken from a normal population with unknown variance. The sample variance is found to be 25. Another random sample of 15 measurements is taken from another normal population with unknown variance, and the sample variance is found to be 20. Conduct an F-test at the 10% significance level to determine if the variances are significantly different.\n"
   ]
  },
  {
   "cell_type": "code",
   "execution_count": 17,
   "id": "4a701e45",
   "metadata": {},
   "outputs": [
    {
     "name": "stdout",
     "output_type": "stream",
     "text": [
      "F-value: 1.25\n",
      "Degrees of freedom (numerator): 9\n",
      "Degrees of freedom (denominator): 14\n",
      "p-value: 0.34160971912929744\n",
      "Reject null hypothesis: False\n"
     ]
    }
   ],
   "source": [
    "from scipy.stats import f\n",
    "\n",
    "def perform_variance_test(var1, var2, n1, n2, alpha):\n",
    "    # Calculate degrees of freedom\n",
    "    dof1 = n1 - 1\n",
    "    dof2 = n2 - 1\n",
    "    \n",
    "    # Calculate F-value\n",
    "    f_value = var1 / var2\n",
    "    \n",
    "    # Calculate p-value\n",
    "    p_value = f.sf(f_value, dof1, dof2)\n",
    "    \n",
    "    # Determine if null hypothesis is rejected\n",
    "    reject_null = p_value < alpha\n",
    "    \n",
    "    return f_value, dof1, dof2, p_value, reject_null\n",
    "\n",
    "# Given information\n",
    "var1 = 25\n",
    "var2 = 20\n",
    "n1 = 10\n",
    "n2 = 15\n",
    "alpha = 0.1\n",
    "\n",
    "# Perform variance test\n",
    "f_value, dof1, dof2, p_value, reject_null = perform_variance_test(var1, var2, n1, n2, alpha)\n",
    "\n",
    "# Print results\n",
    "print(\"F-value:\", f_value)\n",
    "print(\"Degrees of freedom (numerator):\", dof1)\n",
    "print(\"Degrees of freedom (denominator):\", dof2)\n",
    "print(\"p-value:\", p_value)\n",
    "print(\"Reject null hypothesis:\", reject_null)\n"
   ]
  },
  {
   "cell_type": "markdown",
   "id": "31ce685e",
   "metadata": {},
   "source": [
    "### Q8. The following data represent the waiting times in minutes at two different restaurants on a Saturday night: Restaurant A: 24, 25, 28, 23, 22, 20, 27; Restaurant B: 31, 33, 35, 30, 32, 36. Conduct an F-test at the 5% significance level to determine if the variances are significantly different.\n"
   ]
  },
  {
   "cell_type": "code",
   "execution_count": 18,
   "id": "18cec60b",
   "metadata": {},
   "outputs": [
    {
     "name": "stdout",
     "output_type": "stream",
     "text": [
      "F-value: 1.4551907719609583\n",
      "Degrees of freedom (numerator): 6\n",
      "Degrees of freedom (denominator): 5\n",
      "p-value: 0.34874078739687414\n",
      "Reject null hypothesis: False\n"
     ]
    }
   ],
   "source": [
    "import numpy as np\n",
    "from scipy.stats import f\n",
    "\n",
    "def perform_variance_test(data1, data2, alpha):\n",
    "    # Convert input arrays to numpy arrays\n",
    "    data1 = np.asarray(data1)\n",
    "    data2 = np.asarray(data2)\n",
    "    \n",
    "    # Calculate variances\n",
    "    var1 = np.var(data1, ddof=1)\n",
    "    var2 = np.var(data2, ddof=1)\n",
    "    \n",
    "    # Calculate degrees of freedom\n",
    "    n1 = len(data1)\n",
    "    n2 = len(data2)\n",
    "    dof1 = n1 - 1\n",
    "    dof2 = n2 - 1\n",
    "    \n",
    "    # Calculate F-value\n",
    "    f_value = var1 / var2\n",
    "    \n",
    "    # Calculate p-value\n",
    "    p_value = f.sf(f_value, dof1, dof2)\n",
    "    \n",
    "    # Determine if null hypothesis is rejected\n",
    "    reject_null = p_value < alpha\n",
    "    \n",
    "    return f_value, dof1, dof2, p_value, reject_null\n",
    "\n",
    "# Given data\n",
    "data1 = [24, 25, 28, 23, 22, 20, 27]\n",
    "data2 = [31, 33, 35, 30, 32, 36]\n",
    "alpha = 0.05\n",
    "\n",
    "# Perform variance test\n",
    "f_value, dof1, dof2, p_value, reject_null = perform_variance_test(data1, data2, alpha)\n",
    "\n",
    "# Print results\n",
    "print(\"F-value:\", f_value)\n",
    "print(\"Degrees of freedom (numerator):\", dof1)\n",
    "print(\"Degrees of freedom (denominator):\", dof2)\n",
    "print(\"p-value:\", p_value)\n",
    "print(\"Reject null hypothesis:\", reject_null)\n"
   ]
  },
  {
   "cell_type": "markdown",
   "id": "d31a12c8",
   "metadata": {},
   "source": [
    "### Q9. The following data represent the test scores of two groups of students: Group A: 80, 85, 90, 92, 87, 83; Group B: 75, 78, 82, 79, 81, 84. Conduct an F-test at the 1% significance level to determine if the variances are significantly different."
   ]
  },
  {
   "cell_type": "code",
   "execution_count": 19,
   "id": "1935414e",
   "metadata": {},
   "outputs": [
    {
     "name": "stdout",
     "output_type": "stream",
     "text": [
      "F-value: 1.9442622950819677\n",
      "Degrees of freedom (numerator): 5\n",
      "Degrees of freedom (denominator): 5\n",
      "p-value: 0.2415521774535344\n",
      "Reject null hypothesis: False\n"
     ]
    }
   ],
   "source": [
    "import numpy as np\n",
    "from scipy.stats import f\n",
    "\n",
    "def perform_variance_test(data1, data2, alpha):\n",
    "    # Convert input arrays to numpy arrays\n",
    "    data1 = np.asarray(data1)\n",
    "    data2 = np.asarray(data2)\n",
    "    \n",
    "    # Calculate variances\n",
    "    var1 = np.var(data1, ddof=1)\n",
    "    var2 = np.var(data2, ddof=1)\n",
    "    \n",
    "    # Calculate degrees of freedom\n",
    "    n1 = len(data1)\n",
    "    n2 = len(data2)\n",
    "    dof1 = n1 - 1\n",
    "    dof2 = n2 - 1\n",
    "    \n",
    "    # Calculate F-value\n",
    "    f_value = var1 / var2\n",
    "    \n",
    "    # Calculate p-value\n",
    "    p_value = f.sf(f_value, dof1, dof2)\n",
    "    \n",
    "    # Determine if null hypothesis is rejected\n",
    "    reject_null = p_value < alpha\n",
    "    \n",
    "    return f_value, dof1, dof2, p_value, reject_null\n",
    "\n",
    "# Given data\n",
    "data1 = [80, 85, 90, 92, 87, 83]\n",
    "data2 = [75, 78, 82, 79, 81, 84]\n",
    "alpha = 0.01\n",
    "\n",
    "# Perform variance test\n",
    "f_value, dof1, dof2, p_value, reject_null = perform_variance_test(data1, data2, alpha)\n",
    "\n",
    "# Print results\n",
    "print(\"F-value:\", f_value)\n",
    "print(\"Degrees of freedom (numerator):\", dof1)\n",
    "print(\"Degrees of freedom (denominator):\", dof2)\n",
    "print(\"p-value:\", p_value)\n",
    "print(\"Reject null hypothesis:\", reject_null)\n"
   ]
  }
 ],
 "metadata": {
  "kernelspec": {
   "display_name": "Python 3 (ipykernel)",
   "language": "python",
   "name": "python3"
  },
  "language_info": {
   "codemirror_mode": {
    "name": "ipython",
    "version": 3
   },
   "file_extension": ".py",
   "mimetype": "text/x-python",
   "name": "python",
   "nbconvert_exporter": "python",
   "pygments_lexer": "ipython3",
   "version": "3.10.9"
  }
 },
 "nbformat": 4,
 "nbformat_minor": 5
}

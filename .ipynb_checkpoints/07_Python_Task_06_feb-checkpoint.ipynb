{
 "cells": [
  {
   "cell_type": "markdown",
   "id": "8eef8380",
   "metadata": {},
   "source": [
    "### Q1. Create a function which will take a list as an argument and return the product of all the numbers after creating a flat list. Use the below-given list as an argument for your function.\n",
    "### list1 = [1,2,3,4, [44,55,66, True], False, (34,56,78,89,34), {1,2,3,3,2,1}, {1:34, \"key2\": [55, 67, 78, 89], 4: (45, 22, 61, 34)}, [56, 'data science'], 'Machine Learning']"
   ]
  },
  {
   "cell_type": "code",
   "execution_count": 42,
   "id": "4d1d21af",
   "metadata": {},
   "outputs": [
    {
     "name": "stdout",
     "output_type": "stream",
     "text": [
      "4134711838987085478833841242112000\n"
     ]
    }
   ],
   "source": [
    "def list_product(l,product):\n",
    "    for i in l:\n",
    "       \n",
    "        if type(i) == int:\n",
    "            product=product*i\n",
    "        elif type(i) == list or type(i)==tuple or type(i)==set:\n",
    "            product=list_product(i,product)\n",
    "        elif type(i) == dict:\n",
    "            v= list(i.values())\n",
    "            v.append(list(i.keys()))\n",
    "            product=list_product(v,product)        \n",
    "        \n",
    "    return product\n",
    "\n",
    "\n",
    "list1 = [1,2,3,4, [44,55,66, True], False, (34,56,78,89,34), {1,2,3,3,2,1}, {1:34, \"key2\": [55, 67, 78, 89], 4: (45,\n",
    "22, 61, 34)}, [56, 'data science'], 'Machine Learning']\n",
    "ans=list_product(list1,1)\n",
    "print(ans)"
   ]
  },
  {
   "cell_type": "markdown",
   "id": "ebc09dac",
   "metadata": {},
   "source": [
    "### Q2. Write a python program for encrypting a message sent to you by your friend. The logic of encryption should be such that, for a the output should be z. For b, the output should be y. For c, the output should be x respectively. Also, the whitespace should be replaced with a dollar sign. Keep the punctuation marks unchanged. Input Sentence: I want to become a Data Scientist."
   ]
  },
  {
   "cell_type": "code",
   "execution_count": 69,
   "id": "7dc91f3f",
   "metadata": {},
   "outputs": [
    {
     "name": "stdout",
     "output_type": "stream",
     "text": [
      "r$dzmg$gl$yvxlnv$z$wzgz$hxrvmgrhg­\n"
     ]
    }
   ],
   "source": [
    "def encrypt(message):\n",
    "    message=message.lower()\n",
    "    encrypted_message=''\n",
    "    for i in message:\n",
    "        if i == \" \":\n",
    "            encrypted_message = encrypted_message+ \"$\"\n",
    "        elif type(i)==str:\n",
    "            encrypted_message= encrypted_message + (chr(ord('z')-ord(i)+ord('a')))\n",
    "        \n",
    "    return encrypted_message\n",
    "        \n",
    "message = \"I want to become a Data Scientist.\"\n",
    "ans= encrypt(message)\n",
    "print(ans)"
   ]
  }
 ],
 "metadata": {
  "kernelspec": {
   "display_name": "Python 3 (ipykernel)",
   "language": "python",
   "name": "python3"
  },
  "language_info": {
   "codemirror_mode": {
    "name": "ipython",
    "version": 3
   },
   "file_extension": ".py",
   "mimetype": "text/x-python",
   "name": "python",
   "nbconvert_exporter": "python",
   "pygments_lexer": "ipython3",
   "version": "3.10.9"
  }
 },
 "nbformat": 4,
 "nbformat_minor": 5
}

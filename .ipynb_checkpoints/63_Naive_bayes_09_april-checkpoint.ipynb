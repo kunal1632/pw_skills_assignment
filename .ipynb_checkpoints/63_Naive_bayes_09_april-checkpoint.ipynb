{
 "cells": [
  {
   "cell_type": "markdown",
   "id": "bd428017",
   "metadata": {},
   "source": [
    "### Q1. What is Bayes' theorem?\n"
   ]
  },
  {
   "cell_type": "markdown",
   "id": "8a4e8661",
   "metadata": {},
   "source": [
    "Sure, here's the explanation of Bayes' theorem in Jupyter Notebook markdown format:\n",
    "\n",
    "## Bayes' Theorem\n",
    "\n",
    "Bayes' theorem is a fundamental concept in probability theory and statistics, named after the Reverend Thomas Bayes, an 18th-century mathematician and Presbyterian minister. It provides a way to update our beliefs or knowledge about an event when new evidence or information becomes available. The theorem is a formal representation of how we should revise our initial beliefs in light of new data.\n",
    "\n",
    "Mathematically, Bayes' theorem can be expressed as follows:\n",
    "\n",
    "\\[$ P(A|B) = \\frac{P(B|A) \\cdot P(A)}{P(B)} \\$]\n",
    "\n",
    "Where:\n",
    "- \\( P(A|B) \\) is the posterior probability, which represents the probability of event A occurring given that event B has occurred. This is the updated probability after considering the new evidence.\n",
    "- \\( P(B|A) \\) is the likelihood, which represents the probability of observing event B given that event A has occurred.\n",
    "- \\( P(A) \\) is the prior probability, which represents our initial belief or knowledge about the probability of event A occurring before considering any new evidence.\n",
    "- \\( P(B) \\) is the marginal probability, which represents the overall probability of observing event B.\n",
    "\n",
    "In simple terms, Bayes' theorem allows us to calculate the probability of an event given new information related to that event. It is widely used in various fields, including statistics, machine learning, medical diagnosis, and artificial intelligence. The theorem is the foundation of Bayesian inference, which is a powerful method for updating and refining probabilities based on data and evidence."
   ]
  },
  {
   "cell_type": "markdown",
   "id": "67b587d7",
   "metadata": {},
   "source": [
    "### Q2. What is the formula for Bayes' theorem?\n"
   ]
  },
  {
   "cell_type": "markdown",
   "id": "c9fa21f6",
   "metadata": {},
   "source": [
    "The formula for Bayes' theorem is:\n",
    "\n",
    "\\[$ P(A|B) = \\frac{P(B|A) \\cdot P(A)}{P(B)} \\$]\n",
    "\n",
    "Where:\n",
    "- \\( P(A|B) \\) is the posterior probability, which represents the probability of event A occurring given that event B has occurred. This is the updated probability after considering the new evidence.\n",
    "- \\( P(B|A) \\) is the likelihood, which represents the probability of observing event B given that event A has occurred.\n",
    "- \\( P(A) \\) is the prior probability, which represents our initial belief or knowledge about the probability of event A occurring before considering any new evidence.\n",
    "- \\( P(B) \\) is the marginal probability, which represents the overall probability of observing event B.\n",
    "\n",
    "Bayes' theorem provides a way to update our beliefs about the occurrence of an event (A) based on new evidence (event B). It is a powerful tool in probability theory and is widely used in various fields, such as statistics, machine learning, medical diagnosis, and artificial intelligence. By using Bayes' theorem, we can make more informed decisions and predictions by incorporating new information into our existing knowledge."
   ]
  },
  {
   "cell_type": "markdown",
   "id": "01622cf8",
   "metadata": {},
   "source": [
    "### Q3. How is Bayes' theorem used in practice?\n"
   ]
  },
  {
   "cell_type": "markdown",
   "id": "f8a01241",
   "metadata": {},
   "source": [
    "1. Medical Diagnosis: Bayes' theorem is used in medical diagnosis to estimate the probability of a patient having a particular disease given certain symptoms. By combining the patient's symptoms with prior knowledge of the disease's prevalence and the likelihood of those symptoms occurring with the disease, doctors can make more accurate diagnoses.\n",
    "\n",
    "2. Spam Filtering: In email spam filtering, Bayes' theorem is used in Bayesian spam filters. These filters classify emails as spam or not spam based on the occurrence of certain words and phrases in the email content. The filter updates its knowledge about spam and legitimate emails over time, leading to more accurate spam identification.\n",
    "\n",
    "3. Machine Learning and AI: Bayes' theorem is a fundamental component of Bayesian machine learning algorithms. It is used for probabilistic modeling, classification, and regression tasks. Bayesian networks, for instance, use conditional probabilities to model complex relationships among variables.\n",
    "\n",
    "4. Natural Language Processing (NLP): In NLP, Bayes' theorem is applied in tasks such as sentiment analysis, language translation, and speech recognition. It helps to estimate the probability of certain sequences of words or phrases occurring in a particular context.\n",
    "\n",
    "5. A/B Testing: Bayes' theorem is used in A/B testing to determine the statistical significance of the results and to estimate the probability that a certain version of a webpage or application performs better than another.\n",
    "\n",
    "6. Fault Diagnosis: In engineering and system analysis, Bayes' theorem is used for fault diagnosis and reliability analysis. It helps identify the most likely cause of a system malfunction based on observed symptoms.\n",
    "\n",
    "7. Stock Market Analysis: In finance, Bayes' theorem is used in modeling stock price movements and predicting market trends by incorporating new market information and historical data.\n",
    "\n",
    "8. Criminal Investigations: Bayes' theorem can be applied in forensic science and criminal investigations to calculate the probability that a suspect matches the evidence found at a crime scene."
   ]
  },
  {
   "cell_type": "markdown",
   "id": "266fc184",
   "metadata": {},
   "source": [
    "### Q4. What is the relationship between Bayes' theorem and conditional probability?\n"
   ]
  },
  {
   "cell_type": "markdown",
   "id": "2f15686b",
   "metadata": {},
   "source": [
    "1. **Conditional Probability**: Conditional probability is the probability of an event A occurring given that another event B has already occurred. It is denoted as \\( P(A|B) \\) and is calculated as:\n",
    "\n",
    "   \\[$ P(A|B) = \\frac{P(A \\cap B)}{P(B)} \\$]\n",
    "\n",
    "   Here, \\( P(A \\cap B) \\) represents the joint probability of events A and B occurring together, and \\( P(B) \\) is the probability of event B occurring.\n",
    "\n",
    "2. **Bayes' Theorem**: Bayes' theorem, on the other hand, allows us to reverse the conditional probability and find the probability of event B occurring given that event A has already occurred. It is expressed as:\n",
    "\n",
    "   \\[$ P(B|A) = \\frac{P(A|B) \\cdot P(B)}{P(A)} \\$]\n",
    "\n",
    "   Here, \\( P(B|A) \\) represents the posterior probability of event B occurring given that event A has occurred. \\( P(A|B) \\) is the likelihood, \\( P(B) \\) is the prior probability, and \\( P(A) \\) is the marginal probability.\n",
    "\n",
    "The relationship between Bayes' theorem and conditional probability becomes apparent when we compare the two formulas. The numerator of Bayes' theorem is the same as the numerator of the conditional probability formula. Both calculate the joint probability of events A and B occurring together, but the denominator differs:\n",
    "\n",
    "- In conditional probability, the denominator is the probability of event B occurring.\n",
    "- In Bayes' theorem, the denominator is the probability of event A occurring.\n",
    "\n",
    "The key difference between the two lies in the direction of the conditioning. Conditional probability gives the probability of A given B, while Bayes' theorem allows us to update our knowledge about the probability of B given A based on the prior knowledge about the probability of A."
   ]
  },
  {
   "cell_type": "markdown",
   "id": "c469ce8a",
   "metadata": {},
   "source": [
    "### Q5. How do you choose which type of Naive Bayes classifier to use for any given problem?"
   ]
  },
  {
   "cell_type": "markdown",
   "id": "9f6466ac",
   "metadata": {},
   "source": [
    "1. Gaussian Naive Bayes:\n",
    "\n",
    "    - Suitable for continuous or real-valued features that follow a Gaussian (normal) distribution.\n",
    "    - Assumes that the features are normally distributed and estimates the mean and variance of each feature for each class.\n",
    "    - Works well when the feature distributions are approximately normal.\n",
    "    - Commonly used in cases where features represent real-valued measurements (e.g., height, weight, temperature).\n",
    "2. Multinomial Naive Bayes:\n",
    "\n",
    "    - Suitable for discrete features that represent counts or frequency of occurrences (e.g., word frequencies in a document).\n",
    "    - Commonly used in text classification problems, such as spam detection, sentiment analysis, and document categorization.\n",
    "    - Assumes that the features follow a multinomial distribution, and it estimates the probabilities of observing each term (word) for each class.\n",
    "3. Bernoulli Naive Bayes:\n",
    "\n",
    "    - Suitable for binary or boolean features (features that take only two possible values, such as presence or absence of a word in a document).\n",
    "    - Works well when the features represent presence or absence of specific characteristics.\n",
    "    - Commonly used in text classification tasks where binary features indicate whether a particular word appears in a document or not.\n",
    "\n",
    "To decide which type of Naive Bayes classifier to use, consider the nature of your data and the type of features you have. Here are some general guidelines:\n",
    "\n",
    "- Use Gaussian Naive Bayes if you have continuous data with normally distributed features. It's appropriate for data with real-valued features like measurements or sensor readings.\n",
    "\n",
    "- Use Multinomial Naive Bayes if your data consists of discrete features, such as word counts or frequency distributions, common in text analysis.\n",
    "\n",
    "- Use Bernoulli Naive Bayes if you have binary features, representing the presence or absence of certain characteristics. It's useful for tasks like binary text classification or when your features have a simple yes/no representation."
   ]
  },
  {
   "cell_type": "markdown",
   "id": "a56a1b56",
   "metadata": {},
   "source": [
    "### Q6. Assignment:\n",
    "### You have a dataset with two features, X1 and X2, and two possible classes, A and B. You want to use Naive Bayes to classify a new instance with features X1 = 3 and X2 = 4. The following table shows the frequency of each feature value for each class:\n",
    "\n",
    "Class X1=1 X1=2 X1=3 X2=1 X2=2 X2=3 X2=4\n",
    "\n",
    "A 3 3 4 4 3 3 3\n",
    "\n",
    "B 2 2 1 2 2 2 3\n",
    "\n",
    "### Assuming equal prior probabilities for each class, which class would Naive Bayes predict the new instance to belong to?"
   ]
  },
  {
   "cell_type": "markdown",
   "id": "357411e7",
   "metadata": {},
   "source": [
    "To predict the class of the new instance (X1 = 3, X2 = 4) using Naive Bayes, we need to calculate the posterior probability for each class (A and B) and then choose the class with the higher probability.\n",
    "\n",
    "The Naive Bayes classifier assumes that the features are conditionally independent given the class. Therefore, we can calculate the posterior probability for each class using the following formula:\n",
    "\n",
    "\\[$ P(Class|X1, X2) = P(Class) \\cdot P(X1|Class) \\cdot P(X2|Class) \\$]\n",
    "\n",
    "Given that we have equal prior probabilities for each class (P(A) = P(B) = 0.5), we can compute the likelihoods for each feature value given the class from the frequency table.\n",
    "\n",
    "Here's the calculation for Class A:\n",
    "\n",
    "\\[$ P(A|X1=3, X2=4) = 0.5 \\cdot \\frac{4}{10} \\cdot \\frac{3}{10} \\$]\n",
    "\n",
    "And for Class B:\n",
    "\n",
    "\\[$ P(B|X1=3, X2=4) = 0.5 \\cdot \\frac{1}{6} \\cdot \\frac{3}{6} \\$]\n",
    "\n",
    "Now, we can calculate the probabilities:\n",
    "\n",
    "\\[$ P(A|X1=3, X2=4) = 0.5 \\cdot \\frac{4}{10} \\cdot \\frac{3}{10} = 0.06 \\$]\n",
    "\n",
    "\\[$ P(B|X1=3, X2=4) = 0.5 \\cdot \\frac{1}{6} \\cdot \\frac{3}{6} = 0.04 \\$]\n",
    "\n",
    "Since \\( P(A|X1=3, X2=4) > P(B|X1=3, X2=4) \\), the Naive Bayes classifier would predict the new instance to belong to Class A."
   ]
  }
 ],
 "metadata": {
  "kernelspec": {
   "display_name": "Python 3 (ipykernel)",
   "language": "python",
   "name": "python3"
  },
  "language_info": {
   "codemirror_mode": {
    "name": "ipython",
    "version": 3
   },
   "file_extension": ".py",
   "mimetype": "text/x-python",
   "name": "python",
   "nbconvert_exporter": "python",
   "pygments_lexer": "ipython3",
   "version": "3.10.9"
  }
 },
 "nbformat": 4,
 "nbformat_minor": 5
}

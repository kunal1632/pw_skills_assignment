{
 "cells": [
  {
   "cell_type": "markdown",
   "id": "279dd682",
   "metadata": {},
   "source": [
    "### Q1. Pearson correlation coefficient is a measure of the linear relationship between two variables. Suppose you have collected data on the amount of time students spend studying for an exam and their final exam scores. Calculate the Pearson correlation coefficient between these two variables and interpret the result.\n"
   ]
  },
  {
   "cell_type": "markdown",
   "id": "8daa9959",
   "metadata": {},
   "source": [
    "To calculate the Pearson correlation coefficient between the amount of time students spend studying for an exam and their final exam scores, you need a dataset that contains paired observations of both variables for each student. Once you have that dataset, you can follow these steps:\n",
    "\n",
    "1. Calculate the mean (average) of the study time variable (let's call it X) and the mean of the exam scores variable (let's call it Y).\n",
    "2. Calculate the difference between each study time observation and the mean of study time (X - X̄) and the difference between each exam score observation and the mean of exam scores (Y - Ȳ).\n",
    "3. Multiply each pair of differences (X - X̄) and (Y - Ȳ).\n",
    "4. Sum up all the multiplied differences.\n",
    "5. Calculate the square root of the sum of the squared differences of study time (X - X̄)^2 and the sum of the squared differences of exam scores (Y - Ȳ)^2.\n",
    "6. Divide the sum of the multiplied differences by the product of the square roots calculated in step 5.\n",
    "7. This quotient is the Pearson correlation coefficient (r).\n",
    "\n",
    "The Pearson correlation coefficient (r) ranges from -1 to 1. The sign of the coefficient indicates the direction of the relationship, while the magnitude indicates the strength.\n",
    "\n",
    "- If the coefficient is close to +1, it indicates a strong positive linear relationship. This means that as study time increases, the exam scores tend to increase as well.\n",
    "- If the coefficient is close to -1, it indicates a strong negative linear relationship. This means that as study time increases, the exam scores tend to decrease.\n",
    "- If the coefficient is close to 0, it indicates a weak or no linear relationship between the variables. In this case, there is no consistent linear pattern between study time and exam scores."
   ]
  },
  {
   "cell_type": "markdown",
   "id": "d83f2506",
   "metadata": {},
   "source": [
    "### Q2. Spearman's rank correlation is a measure of the monotonic relationship between two variables. Suppose you have collected data on the amount of sleep individuals get each night and their overall job satisfaction level on a scale of 1 to 10. Calculate the Spearman's rank correlation between these two variables and interpret the result.\n"
   ]
  },
  {
   "cell_type": "markdown",
   "id": "ccda0cf0",
   "metadata": {},
   "source": [
    "To calculate Spearman's rank correlation coefficient between the amount of sleep individuals get each night and their overall job satisfaction level, you need to follow these steps:\n",
    "\n",
    "1. Collect data on both variables, ensuring you have paired observations for each individual.\n",
    "\n",
    "2. Assign ranks to the observations for each variable. For example, rank the sleep amounts from the lowest to the highest, and rank the job satisfaction levels accordingly.\n",
    "\n",
    "3. Calculate the difference between the ranks of each paired observation (ΔR).\n",
    "\n",
    "4. Square the differences (ΔR^2).\n",
    "\n",
    "5. Calculate the sum of squared differences (ΣΔR^2).\n",
    "\n",
    "6. Use the following formula to calculate the Spearman's rank correlation coefficient (ρ):\n",
    "\n",
    "ρ = 1 - (6 * ΣΔR^2) / (n * (n^2 - 1))\n",
    "\n",
    "Where:\n",
    "\n",
    "- ΣΔR^2 is the sum of squared differences.\n",
    "- n is the number of paired observations.\n",
    "\n",
    "The Spearman's rank correlation coefficient (ρ) also ranges from -1 to 1. Similar to the Pearson correlation coefficient, the sign and magnitude have specific interpretations:\n",
    "\n",
    "- If ρ is close to +1, it indicates a strong positive monotonic relationship. This means that as the amount of sleep individuals get increases, their job satisfaction tends to increase as well.\n",
    "- If ρ is close to -1, it indicates a strong negative monotonic relationship. This means that as the amount of sleep individuals get increases, their job satisfaction tends to decrease.\n",
    "- If ρ is close to 0, it indicates a weak or no monotonic relationship between the variables. In this case, there is no consistent monotonic pattern between sleep amount and job satisfaction."
   ]
  },
  {
   "cell_type": "markdown",
   "id": "0b4539ad",
   "metadata": {},
   "source": [
    "### Q3. Suppose you are conducting a study to examine the relationship between the number of hours of exercise per week and body mass index (BMI) in a sample of adults. You collected data on both variables for 50 participants. Calculate the Pearson correlation coefficient and the Spearman's rank correlation between these two variables and compare the results.\n"
   ]
  },
  {
   "cell_type": "markdown",
   "id": "1406d140",
   "metadata": {},
   "source": [
    "To calculate the Pearson correlation coefficient and the Spearman's rank correlation between the number of hours of exercise per week and body mass index (BMI) in a sample of 50 participants, you will need the paired observations for each participant. Once you have the dataset, you can follow these steps:\n",
    "\n",
    "1. Calculate the mean (average) of the exercise hours variable (let's call it X) and the mean of the BMI variable (let's call it Y).\n",
    "2. Calculate the difference between each exercise hours observation and the mean of exercise hours (X - X̄) and the difference between each BMI observation and the mean of BMI (Y - Ȳ).\n",
    "3. Multiply each pair of differences (X - X̄) and (Y - Ȳ).\n",
    "4. Sum up all the multiplied differences.\n",
    "5. Calculate the square root of the sum of the squared differences of exercise hours (X - X̄)^2 and the sum of the squared differences of BMI (Y - Ȳ)^2.\n",
    "6. Divide the sum of the multiplied differences by the product of the square roots calculated in step 5. This gives you the Pearson correlation coefficient (r).\n",
    "\n",
    "To calculate the Spearman's rank correlation coefficient, you will need to rank the observations for each variable (exercise hours and BMI) and follow these steps:\n",
    "\n",
    "1. Rank the exercise hours and BMI separately for each participant.\n",
    "\n",
    "2. Calculate the difference between the ranks of each paired observation (ΔR).\n",
    "\n",
    "3. Square the differences (ΔR^2).\n",
    "\n",
    "4. Calculate the sum of squared differences (ΣΔR^2).\n",
    "\n",
    "5. Use the formula to calculate the Spearman's rank correlation coefficient (ρ):\n",
    "\n",
    "ρ = 1 - (6 * ΣΔR^2) / (n * (n^2 - 1))\n",
    "\n",
    "Where:\n",
    "\n",
    "- ΣΔR^2 is the sum of squared differences.\n",
    "- n is the number of paired observations.\n",
    "\n",
    "After calculating both correlation coefficients, you can compare the results."
   ]
  },
  {
   "cell_type": "markdown",
   "id": "4890f5f2",
   "metadata": {},
   "source": [
    "### Q4. A researcher is interested in examining the relationship between the number of hours individuals spend watching television per day and their level of physical activity. The researcher collected data on both variables from a sample of 50 participants. Calculate the Pearson correlation coefficient between these two variables."
   ]
  },
  {
   "cell_type": "markdown",
   "id": "ba061ba7",
   "metadata": {},
   "source": [
    "To calculate the Pearson correlation coefficient between the number of hours individuals spend watching television per day and their level of physical activity, you need a dataset that contains paired observations for each participant. Once you have the dataset, you can follow these steps:\n",
    "\n",
    "1. Calculate the mean (average) of the number of hours spent watching television variable (let's call it X) and the mean of the physical activity level variable (let's call it Y).\n",
    "2. Calculate the difference between each observation of the number of hours spent watching television and the mean of X (X - X̄) and the difference between each observation of the physical activity level and the mean of Y (Y - Ȳ).\n",
    "3. Multiply each pair of differences (X - X̄) and (Y - Ȳ).\n",
    "4. Sum up all the multiplied differences.\n",
    "5. Calculate the square root of the sum of the squared differences of the number of hours spent watching television (X - X̄)^2 and the sum of the squared differences of the physical activity level (Y - Ȳ)^2.\n",
    "6. Divide the sum of the multiplied differences by the product of the square roots calculated in step 5. This gives you the Pearson correlation coefficient (r).\n",
    "\n",
    "Note that the Pearson correlation coefficient ranges from -1 to 1. The sign of the coefficient indicates the direction of the relationship, while the magnitude indicates the strength.\n",
    "\n",
    "- If the coefficient is close to +1, it indicates a strong positive linear relationship. This means that as the number of hours individuals spend watching television per day increases, their level of physical activity tends to increase.\n",
    "- If the coefficient is close to -1, it indicates a strong negative linear relationship. This means that as the number of hours individuals spend watching television per day increases, their level of physical activity tends to decrease.\n",
    "- If the coefficient is close to 0, it indicates a weak or no linear relationship between the variables. In this case, there is no consistent linear pattern between the number of hours spent watching television and the level of physical activity."
   ]
  },
  {
   "cell_type": "markdown",
   "id": "fa8c3595",
   "metadata": {},
   "source": [
    "### Q5. A survey was conducted to examine the relationship between age and preference for a particular brand of soft drink. The survey results are shown below:\n",
    "\n",
    "Age(Years) Soft drink Preference\n",
    "\n",
    "25 Coke\n",
    "\n",
    "42 Pepsi\n",
    "\n",
    "37 Mountain dew\n",
    "\n",
    "19 Coke\n",
    "\n",
    "31 Pepsi\n",
    "\n",
    "28 Coke \n"
   ]
  },
  {
   "cell_type": "markdown",
   "id": "c535a6df",
   "metadata": {},
   "source": [
    "\n",
    "To calculate the Pearson correlation coefficient between age and preference for a particular brand of soft drink, you need numerical values for both variables. In this case, you can assign numerical codes to each soft drink preference, such as 1 for Coke, 2 for Pepsi, and 3 for Mountain Dew. The dataset would then look like this:\n",
    "\n",
    "Age(Years) | Soft Drink Preference\n",
    "\n",
    "25 | 1\n",
    "\n",
    "42 | 2\n",
    "\n",
    "37 | 3\n",
    "\n",
    "19 | 1\n",
    "\n",
    "31 | 2\n",
    "\n",
    "28 | 1\n",
    "\n",
    "1. Calculate the mean (average) of the age variable (X̄) and the mean of the soft drink preference variable (Ȳ).\n",
    "\n",
    "- X̄ = (25 + 42 + 37 + 19 + 31 + 28) / 6\n",
    "- Ȳ = (1 + 2 + 3 + 1 + 2 + 1) / 6\n",
    "2. Calculate the difference between each age observation and the mean of age (X - X̄) and the difference between each soft drink preference observation and the mean of soft drink preference (Y - Ȳ).\n",
    "\n",
    "3. Multiply each pair of differences (X - X̄) and (Y - Ȳ).\n",
    "\n",
    "4. Sum up all the multiplied differences.\n",
    "\n",
    "5. Calculate the square root of the sum of the squared differences of age (X - X̄)^2 and the sum of the squared differences of soft drink preference (Y - Ȳ)^2.\n",
    "\n",
    "6. Divide the sum of the multiplied differences by the product of the square roots calculated in step 5. This gives you the Pearson correlation coefficient (r).\n",
    "\n",
    "After performing the calculations, let's say you find that the Pearson correlation coefficient between age and soft drink preference is r = -0.447."
   ]
  },
  {
   "cell_type": "markdown",
   "id": "6bfd7668",
   "metadata": {},
   "source": [
    "### A company is interested in examining the relationship between the number of sales calls made per day and the number of sales made per week. The company collected data on both variables from a sample of 30 sales representatives. Calculate the Pearson correlation coefficient between these two variables."
   ]
  },
  {
   "cell_type": "markdown",
   "id": "05f03095",
   "metadata": {},
   "source": [
    "Collect data on both variables, ensuring you have paired observations for each sales representative. Let's assume you have the following dataset:\n",
    "Sales Calls per Day | Sales per Week\n",
    "\n",
    "10 | 50\n",
    "\n",
    "8 | 45\n",
    "\n",
    "12 | 55\n",
    "\n",
    "\n",
    "Calculate the mean (average) of the sales calls per day variable (X̄) and the mean of the sales per week variable (Ȳ).\n",
    "\n",
    "Calculate the difference between each sales call observation and the mean of sales calls per day (X - X̄) and the difference between each sales per week observation and the mean of sales per week (Y - Ȳ).\n",
    "\n",
    "Multiply each pair of differences (X - X̄) and (Y - Ȳ).\n",
    "\n",
    "Sum up all the multiplied differences.\n",
    "\n",
    "Calculate the square root of the sum of the squared differences of sales calls per day (X - X̄)^2 and the sum of the squared differences of sales per week (Y - Ȳ)^2.\n",
    "\n",
    "Divide the sum of the multiplied differences by the product of the square roots calculated in step 6. This gives you the Pearson correlation coefficient (r).\n",
    "\n",
    "Once you perform these calculations on your specific dataset, you will obtain the Pearson correlation coefficient. The coefficient will range from -1 to 1, where the sign represents the direction of the relationship (positive or negative), and the magnitude represents the strength of the relationship."
   ]
  }
 ],
 "metadata": {
  "kernelspec": {
   "display_name": "Python 3 (ipykernel)",
   "language": "python",
   "name": "python3"
  },
  "language_info": {
   "codemirror_mode": {
    "name": "ipython",
    "version": 3
   },
   "file_extension": ".py",
   "mimetype": "text/x-python",
   "name": "python",
   "nbconvert_exporter": "python",
   "pygments_lexer": "ipython3",
   "version": "3.10.9"
  }
 },
 "nbformat": 4,
 "nbformat_minor": 5
}

{
 "cells": [
  {
   "cell_type": "markdown",
   "id": "b9421615",
   "metadata": {},
   "source": [
    "### Q1. What is multiprocessing in python? Why is it useful?"
   ]
  },
  {
   "cell_type": "markdown",
   "id": "653539b7",
   "metadata": {},
   "source": [
    "Multiprocessing is the ability of the system to run one or more processes in parallel. In simple words, multiprocessing uses the two or more CPU within the single computer system. This method is also capable to allocate the tasks between more than one process."
   ]
  },
  {
   "cell_type": "markdown",
   "id": "fd2c811e",
   "metadata": {},
   "source": [
    "### Q2. What are the differences between multiprocessing and multithreading?"
   ]
  },
  {
   "cell_type": "markdown",
   "id": "8955d4bc",
   "metadata": {},
   "source": [
    " multiprocessing in Python involves creating independent processes that have separate memory spaces and can run in parallel on multiple CPU cores, making it suitable for CPU-intensive tasks. Multithreading, on the other hand, involves creating threads within a single process that share the same memory space, making it more suitable for I/O-bound tasks where waiting for I/O operations can be overlapped. Multiprocessing provides true parallelism, while multithreading in CPython is subject to the Global Interpreter Lock (GIL), limiting parallel execution to one CPU core."
   ]
  },
  {
   "cell_type": "markdown",
   "id": "c62afda7",
   "metadata": {},
   "source": [
    "### Q3. Write a python code to create a process using the multiprocessing module."
   ]
  },
  {
   "cell_type": "code",
   "execution_count": 8,
   "id": "43ccdf48",
   "metadata": {},
   "outputs": [
    {
     "name": "stdout",
     "output_type": "stream",
     "text": [
      "The square of the number is: 1\n",
      "The square of the number is: 4\n",
      "The square of the number is: 9\n",
      "The square of the number is: 16\n",
      "The square of the number is: 25\n",
      "The square of the number is: 36\n",
      "The square of the number is: 49\n"
     ]
    }
   ],
   "source": [
    "import multiprocessing\n",
    "\n",
    "def sqa_num(num):\n",
    "    print(f\"The square of the number is: {num**2}\")\n",
    "\n",
    "if __name__== \"__main__\":\n",
    "    numbers = [1,2,3,4,5,6,7]\n",
    "    \n",
    "    processes = []\n",
    "\n",
    "for num in numbers:\n",
    "    process = multiprocessing.Process(target=sqa_num, args=(num,))\n",
    "    processes.append(process)\n",
    "    process.start()\n",
    "    \n",
    "for process in processes:\n",
    "    process.join()\n"
   ]
  },
  {
   "cell_type": "markdown",
   "id": "d50b9a8c",
   "metadata": {},
   "source": [
    "### Q4. What is a multiprocessing pool in python? Why is it used?"
   ]
  },
  {
   "cell_type": "markdown",
   "id": "fb40a7e9",
   "metadata": {},
   "source": [
    "a multiprocessing pool is a mechanism provided by the multiprocessing module to manage a pool of worker processes. It allows for parallel execution of a function across multiple input values, distributing the workload among the available processes. The pool abstracts the process creation and management, providing a convenient interface to submit tasks and retrieve their results. It is used to efficiently utilize system resources and increase the throughput of CPU-bound tasks by executing them in parallel across multiple processes, without the need for explicit process creation and management."
   ]
  },
  {
   "cell_type": "markdown",
   "id": "94ead1a7",
   "metadata": {},
   "source": [
    "### Q5. How can we create a pool of worker processes in python using the multiprocessing module?"
   ]
  },
  {
   "cell_type": "code",
   "execution_count": 13,
   "id": "0e29e893",
   "metadata": {},
   "outputs": [
    {
     "name": "stdout",
     "output_type": "stream",
     "text": [
      "[1, 4, 9, 16, 25, 36, 49]\n"
     ]
    }
   ],
   "source": [
    "import multiprocessing\n",
    "\n",
    "def sqaure(number):\n",
    "    result = number**2\n",
    "    return result\n",
    "\n",
    "if __name__ == \"__main__\":\n",
    "    pool=multiprocessing.Pool()\n",
    "    numbers=[1,2,3,4,5,6,7]\n",
    "    result = pool.map(sqaure,numbers)\n",
    "    pool.close()\n",
    "    pool.join()\n",
    "    print(result)"
   ]
  },
  {
   "cell_type": "markdown",
   "id": "8e749b3c",
   "metadata": {},
   "source": [
    "### Q6. Write a python program to create 4 processes, each process should print a different number using the multiprocessing module in python."
   ]
  },
  {
   "cell_type": "code",
   "execution_count": 14,
   "id": "34535306",
   "metadata": {},
   "outputs": [
    {
     "name": "stdout",
     "output_type": "stream",
     "text": [
      "1\n",
      "2\n",
      "3\n",
      "4\n",
      "All the processes are done\n"
     ]
    }
   ],
   "source": [
    "import multiprocessing\n",
    "\n",
    "def print_num(number):\n",
    "    print(number)\n",
    "    \n",
    "if __name__==\"__main__\":\n",
    "    numbers=[1,2,3,4]\n",
    "    processes=[]\n",
    "    \n",
    "    for number in numbers:\n",
    "        process=multiprocessing.Process(target=print_num,args=(number,))\n",
    "        processes.append(process)\n",
    "        process.start()\n",
    "        \n",
    "    for process in processes:\n",
    "        process.join()\n",
    "        \n",
    "        \n",
    "    print(\"All the processes are done\")"
   ]
  }
 ],
 "metadata": {
  "kernelspec": {
   "display_name": "Python 3 (ipykernel)",
   "language": "python",
   "name": "python3"
  },
  "language_info": {
   "codemirror_mode": {
    "name": "ipython",
    "version": 3
   },
   "file_extension": ".py",
   "mimetype": "text/x-python",
   "name": "python",
   "nbconvert_exporter": "python",
   "pygments_lexer": "ipython3",
   "version": "3.10.9"
  }
 },
 "nbformat": 4,
 "nbformat_minor": 5
}

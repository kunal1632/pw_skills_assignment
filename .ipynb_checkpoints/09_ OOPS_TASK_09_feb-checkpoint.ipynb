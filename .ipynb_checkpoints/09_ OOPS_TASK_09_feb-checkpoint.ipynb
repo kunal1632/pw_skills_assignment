{
 "cells": [
  {
   "cell_type": "markdown",
   "id": "406000d6",
   "metadata": {},
   "source": [
    "### Q1, Create a vehicle class with an init method having instance variables as name_of_vehicle, max_speed and average_of_vehicle."
   ]
  },
  {
   "cell_type": "code",
   "execution_count": 24,
   "id": "3614397e",
   "metadata": {},
   "outputs": [],
   "source": [
    "class vehicle:\n",
    "    def __init__(self,name_of_vehicle, max_speed, average_of_vehicle):\n",
    "        self.name_of_vehicle = name_of_vehicle\n",
    "        self.max_speed = max_speed\n",
    "        self.average_of_vehicle = average_of_vehicle"
   ]
  },
  {
   "cell_type": "markdown",
   "id": "4d0681b8",
   "metadata": {},
   "source": [
    "### Q2. Create a child class car from the vehicle class created in Que 1, which will inherit the vehicle class. Create a method named seating_capacity which takes capacity as an argument and returns the name of the vehicle and its seating capacity."
   ]
  },
  {
   "cell_type": "code",
   "execution_count": 26,
   "id": "24d372d6",
   "metadata": {},
   "outputs": [
    {
     "name": "stdout",
     "output_type": "stream",
     "text": [
      "swift has 4 seating capacity\n"
     ]
    }
   ],
   "source": [
    "class car(vehicle):\n",
    "    def seating_capacity(self,capacity):\n",
    "        return f\"{self.name_of_vehicle} has {capacity} seating capacity\"\n",
    "\n",
    "swift=car(\"swift\" ,100,20)\n",
    "print(swift.seating_capacity(4))"
   ]
  },
  {
   "cell_type": "markdown",
   "id": "cb87ecf1",
   "metadata": {},
   "source": [
    "### Q3. What is multiple inheritance? Write a python code to demonstrate multiple inheritance."
   ]
  },
  {
   "cell_type": "markdown",
   "id": "c3dff91f",
   "metadata": {},
   "source": [
    "When a class is derived from more than one base class it is called multiple Inheritance. The derived class inherits all the features of the base case."
   ]
  },
  {
   "cell_type": "code",
   "execution_count": 32,
   "id": "8b82e7db",
   "metadata": {},
   "outputs": [
    {
     "name": "stdout",
     "output_type": "stream",
     "text": [
      "class 1\n",
      "class 2\n",
      "class 3\n"
     ]
    }
   ],
   "source": [
    "class one:\n",
    "    def test_one(self):\n",
    "        print(\"class 1\")\n",
    "class two:\n",
    "    def test_two(self):\n",
    "        print(\"class 2\")\n",
    "        \n",
    "class three(one,two):\n",
    "    def test_three(self):\n",
    "        print(\"class 3\")\n",
    "    \n",
    "obj=three()\n",
    "\n",
    "obj.test_one()\n",
    "obj.test_two()\n",
    "obj.test_three()"
   ]
  },
  {
   "cell_type": "markdown",
   "id": "deb53744",
   "metadata": {},
   "source": [
    "### Q4. What are getter and setter in python? Create a class and create a getter and a setter method in this class."
   ]
  },
  {
   "cell_type": "markdown",
   "id": "d45140ed",
   "metadata": {},
   "source": [
    "\n",
    "Getters and setters are methods used to access and modify the attributes of a class. They provide an interface for reading and updating the values of private attributes and allow for better control over attribute access and modification."
   ]
  },
  {
   "cell_type": "code",
   "execution_count": 33,
   "id": "1c239e12",
   "metadata": {},
   "outputs": [
    {
     "name": "stdout",
     "output_type": "stream",
     "text": [
      "Kunal\n",
      "Goranshi\n"
     ]
    }
   ],
   "source": [
    "class Person:\n",
    "    def __init__(self, name):\n",
    "        self._name = name\n",
    "\n",
    "    def get_name(self):\n",
    "        return self._name\n",
    "\n",
    "    def set_name(self, new_name):\n",
    "        self._name = new_name\n",
    "\n",
    "\n",
    "person = Person(\"Kunal\")\n",
    "print(person.get_name())\n",
    "\n",
    "person.set_name(\"Goranshi\")\n",
    "print(person.get_name())\n"
   ]
  },
  {
   "cell_type": "markdown",
   "id": "70299baf",
   "metadata": {},
   "source": [
    "### Q5.What is method overriding in python? Write a python code to demonstrate method overriding."
   ]
  },
  {
   "cell_type": "markdown",
   "id": "30c3869d",
   "metadata": {},
   "source": [
    "when a subclass defines a method with the same name as a method in its parent class. The purpose of method overriding is to provide a different implementation of the method in the subclass, allowing the subclass to customize or extend the behavior inherited from the parent class."
   ]
  },
  {
   "cell_type": "code",
   "execution_count": 39,
   "id": "40ecef64",
   "metadata": {},
   "outputs": [
    {
     "name": "stdout",
     "output_type": "stream",
     "text": [
      "Animal makes a sound\n",
      "Cat makes meow sound\n"
     ]
    }
   ],
   "source": [
    "class animal:\n",
    "    def sound(self):\n",
    "        print(\"Animal makes a sound\")\n",
    "    \n",
    "class cat(animal):\n",
    "    def sound(self):\n",
    "        print(\"Cat makes meow sound\")\n",
    "        \n",
    "obj1=animal()\n",
    "obj2=cat()\n",
    "\n",
    "obj1.sound()\n",
    "obj2.sound()"
   ]
  }
 ],
 "metadata": {
  "kernelspec": {
   "display_name": "Python 3 (ipykernel)",
   "language": "python",
   "name": "python3"
  },
  "language_info": {
   "codemirror_mode": {
    "name": "ipython",
    "version": 3
   },
   "file_extension": ".py",
   "mimetype": "text/x-python",
   "name": "python",
   "nbconvert_exporter": "python",
   "pygments_lexer": "ipython3",
   "version": "3.10.9"
  }
 },
 "nbformat": 4,
 "nbformat_minor": 5
}

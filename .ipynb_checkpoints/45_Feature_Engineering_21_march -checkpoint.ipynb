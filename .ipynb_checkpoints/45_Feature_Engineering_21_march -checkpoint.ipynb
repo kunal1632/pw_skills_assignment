{
 "cells": [
  {
   "cell_type": "markdown",
   "id": "325086d1",
   "metadata": {},
   "source": [
    "### Q1. What is the difference between Ordinal Encoding and Label Encoding? Provide an example of when you might choose one over the other.\n"
   ]
  },
  {
   "cell_type": "markdown",
   "id": "6e0eb3dc",
   "metadata": {},
   "source": [
    "Ordinal Encoding and Label Encoding are both techniques used to transform categorical variables into numerical representations, but they differ in their approach and the types of variables they are suited for.\n",
    "\n",
    "Ordinal Encoding:\n",
    "\n",
    "1. In Ordinal Encoding, each unique category is assigned a unique integer value based on a predefined order or ranking.\n",
    "2. It is suitable when the categorical variable has an inherent order or hierarchy among its categories.\n",
    "3. For example, a variable representing education level can be encoded as \"High School\" -> 1, \"Bachelor's Degree\" -> 2, \"Master's Degree\" -> 3, and so on.\n",
    "4. Ordinal Encoding preserves the ordinal relationship between categories, which can be useful for certain algorithms that can leverage this information.\n",
    "\n",
    "Label Encoding:\n",
    "\n",
    "1. In Label Encoding, each unique category is assigned a unique integer value without considering any specific order or ranking.\n",
    "2. It is suitable when the categorical variable does not have an inherent order or the order is not important for the given task.\n",
    "3. For example, a variable representing colors can be encoded as \"Red\" -> 1, \"Blue\" -> 2, \"Green\" -> 3, and so on.\n",
    "4. Label Encoding is commonly used for algorithms that cannot interpret the ordinal relationship between categories or when the ordinality is not meaningful for the problem.\n",
    "\n",
    "When deciding between Ordinal Encoding and Label Encoding, consider the nature of the categorical variable and the requirements of the machine learning task. If the variable has a meaningful order, such as rankings or levels, and the order is relevant to the problem, then Ordinal Encoding is appropriate. On the other hand, if the variable represents categories without a natural order or the order is not meaningful for the problem, then Label Encoding can be used.\n",
    "\n",
    "For example, in a credit risk assessment task, the variable \"Credit Score Rating\" may have categories like \"Excellent,\" \"Good,\" \"Fair,\" and \"Poor\" representing different levels of creditworthiness. Since there is a clear order and ranking among these categories, Ordinal Encoding would be suitable to preserve the relationship between the categories and the target variable (e.g., likelihood of default)."
   ]
  },
  {
   "cell_type": "markdown",
   "id": "95fbd999",
   "metadata": {},
   "source": [
    "### Q2. Explain how Target Guided Ordinal Encoding works and provide an example of when you might use it in a machine learning project.\n"
   ]
  },
  {
   "cell_type": "markdown",
   "id": "81e343ed",
   "metadata": {},
   "source": [
    "Target Guided Ordinal Encoding is a technique used in machine learning to transform categorical variables into ordinal values based on the relationship between the categories and the target variable. It aims to capture the monotonicity between the categorical variable and the target variable, thereby providing valuable information for predictive models.\n",
    "\n",
    "Here's a step-by-step explanation of how Target Guided Ordinal Encoding works:\n",
    "\n",
    "1. Calculate the mean (or any other suitable statistic) of the target variable for each category of the categorical variable.\n",
    "2. Sort the categories based on their corresponding mean target values.\n",
    "3. Assign ordinal values to the categories in ascending order based on the sorted list. The lowest value is assigned to the category with the lowest mean target value, and the highest value is assigned to the category with the highest mean target value.\n",
    "4. Replace the original categorical values with the assigned ordinal values.\n",
    "\n",
    "Here's an example to illustrate the concept. Let's say we have a dataset with a categorical variable \"City\" and a binary target variable \"Churn\" indicating whether a customer has churned or not. The \"City\" variable has three categories: \"New York,\" \"San Francisco,\" and \"Seattle.\"\n",
    "\n",
    "Original data:\n",
    "\n",
    "- City: [\"New York\", \"San Francisco\", \"Seattle\", \"New York\", \"Seattle\", \"San Francisco\"]\n",
    "- Churn: [0, 1, 1, 0, 0, 1]\n",
    "\n",
    "Step 1: Calculate mean target values for each city category:\n",
    "\n",
    "- New York: 0.5 (average of 0 and 1)\n",
    "- San Francisco: 0.67 (average of 1 and 1)\n",
    "- Seattle: 0.33 (average of 0 and 0.5)\n",
    "\n",
    "Step 2: Sort the categories based on mean target values:\n",
    "- Seattle, New York, San Francisco\n",
    "\n",
    "Step 3: Assign ordinal values to the categories:\n",
    "\n",
    "- Seattle: 1\n",
    "- New York: 2\n",
    "- San Francisco: 3\n",
    "\n",
    "Transformed data:\n",
    "- City: [2, 3, 1, 2, 1, 3]\n",
    "- Churn: [0, 1, 1, 0, 0, 1]"
   ]
  },
  {
   "cell_type": "markdown",
   "id": "3a2d04be",
   "metadata": {},
   "source": [
    "### Q3. Define covariance and explain why it is important in statistical analysis. How is covariance calculated?\n"
   ]
  },
  {
   "cell_type": "markdown",
   "id": "8db3ba97",
   "metadata": {},
   "source": [
    "Covariance is a statistical measure that quantifies the relationship and the extent to which two variables vary together. It measures how changes in one variable are associated with changes in another variable. Covariance can help identify the direction (positive or negative) and the strength of the linear relationship between two variables.\n",
    "\n",
    "In statistical analysis, covariance is important for several reasons:\n",
    "\n",
    "1. Relationship between variables: Covariance helps determine whether two variables are positively or negatively related. If the covariance is positive, it indicates that when one variable increases, the other tends to increase as well. Conversely, a negative covariance suggests that when one variable increases, the other tends to decrease.\n",
    "\n",
    "2. Dependency assessment: Covariance is used to assess the dependency between variables. Variables with high positive covariance indicate a strong positive relationship, while variables with high negative covariance indicate a strong negative relationship. On the other hand, variables with low or close to zero covariance suggest a weak or no linear relationship.\n",
    "\n",
    "3. Portfolio diversification: Covariance is crucial in portfolio management and risk analysis. It helps assess the relationship between different assets or investment options. A portfolio with assets that have low or negative covariance can potentially reduce risk and enhance diversification. When assets have low covariance, their returns may not move in the same direction, providing a potential hedge against losses.\n",
    "\n",
    "Covariance is calculated using the following formula:\n",
    "\n",
    "cov(X, Y) = Σ((X[i] - X̄)(Y[i] - Ȳ)) / (n - 1)\n",
    "\n",
    "where:\n",
    "\n",
    "- X and Y are two variables for which covariance is calculated.\n",
    "- X[i] and Y[i] represent the individual values of X and Y.\n",
    "- X̄ and Ȳ are the means (averages) of X and Y, respectively.\n",
    "- n is the number of observations (data points) for X and Y."
   ]
  },
  {
   "cell_type": "markdown",
   "id": "a47880b8",
   "metadata": {},
   "source": [
    "### Q4. For a dataset with the following categorical variables: Color (red, green, blue), Size (small, medium, large), and Material (wood, metal, plastic), perform label encoding using Python's scikit-learn library. Show your code and explain the output.\n"
   ]
  },
  {
   "cell_type": "code",
   "execution_count": 1,
   "id": "67e56057",
   "metadata": {},
   "outputs": [
    {
     "name": "stdout",
     "output_type": "stream",
     "text": [
      "Encoded Color: [2 1 0]\n",
      "Encoded Size: [2 1 0]\n",
      "Encoded Material: [2 0 1]\n"
     ]
    }
   ],
   "source": [
    "from sklearn.preprocessing import LabelEncoder\n",
    "\n",
    "# Define the categorical variables\n",
    "color = ['red', 'green', 'blue']\n",
    "size = ['small', 'medium', 'large']\n",
    "material = ['wood', 'metal', 'plastic']\n",
    "\n",
    "# Initialize the LabelEncoder\n",
    "label_encoder = LabelEncoder()\n",
    "\n",
    "# Fit and transform the categorical variables\n",
    "color_encoded = label_encoder.fit_transform(color)\n",
    "size_encoded = label_encoder.fit_transform(size)\n",
    "material_encoded = label_encoder.fit_transform(material)\n",
    "\n",
    "# Print the encoded variables\n",
    "print(\"Encoded Color:\", color_encoded)\n",
    "print(\"Encoded Size:\", size_encoded)\n",
    "print(\"Encoded Material:\", material_encoded)\n"
   ]
  },
  {
   "cell_type": "markdown",
   "id": "00fb042b",
   "metadata": {},
   "source": [
    "### Q5. Calculate the covariance matrix for the following variables in a dataset: Age, Income, and Education level. Interpret the results.\n"
   ]
  },
  {
   "cell_type": "code",
   "execution_count": 5,
   "id": "072e60d2",
   "metadata": {},
   "outputs": [
    {
     "name": "stdout",
     "output_type": "stream",
     "text": [
      "Covariance Matrix:\n",
      "[[49.3  66.75 22.  ]\n",
      " [66.75 92.5  30.  ]\n",
      " [22.   30.   10.  ]]\n"
     ]
    }
   ],
   "source": [
    "import numpy as np\n",
    "\n",
    "age = [30, 40, 35, 28, 45] \n",
    "income = [50, 60, 55, 45, 70]   #in thousands\n",
    "education_level = [12, 16, 14, 10, 18]\n",
    "\n",
    "data = np.column_stack((age, income, education_level))\n",
    "\n",
    "covariance_matrix = np.cov(data, rowvar=False)\n",
    "\n",
    "print(\"Covariance Matrix:\")\n",
    "print(covariance_matrix)\n"
   ]
  },
  {
   "cell_type": "markdown",
   "id": "ca5815df",
   "metadata": {},
   "source": [
    "### Q6. You are working on a machine learning project with a dataset containing several categorical variables, including \"Gender\" (Male/Female), \"Education Level\" (High School/Bachelor's/Master's/PhD), and \"Employment Status\" (Unemployed/Part-Time/Full-Time). Which encoding method would you use for each variable, and why?\n"
   ]
  },
  {
   "cell_type": "markdown",
   "id": "b4b36661",
   "metadata": {},
   "source": [
    "For the given categorical variables in the machine learning project, here are the recommended encoding methods:\n",
    "\n",
    "\"Gender\" (Male/Female):\n",
    "\n",
    "Since \"Gender\" has two categories and there is no inherent order or hierarchy, label encoding can be used. Assigning numerical values like 0 for Male and 1 for Female would suffice.\n",
    "\"Education Level\" (High School/Bachelor's/Master's/PhD):\n",
    "\n",
    "\"Education Level\" represents categories with a meaningful order or hierarchy. In this case, ordinal encoding is suitable to preserve the ordinal relationship between the categories. Assigning numerical values based on the order, such as 0 for High School, 1 for Bachelor's, 2 for Master's, and 3 for PhD, would capture the relative levels of education.\n",
    "\"Employment Status\" (Unemployed/Part-Time/Full-Time):\n",
    "\n",
    "Similar to \"Education Level,\" \"Employment Status\" represents categories with a meaningful order. Therefore, ordinal encoding can be used to maintain the ordinal relationship between the categories. Assigning numerical values based on the order, such as 0 for Unemployed, 1 for Part-Time, and 2 for Full-Time, would capture the relative employment statuses."
   ]
  },
  {
   "cell_type": "markdown",
   "id": "d5ab5cae",
   "metadata": {},
   "source": [
    "### Q7. You are analyzing a dataset with two continuous variables, \"Temperature\" and \"Humidity\", and two categorical variables, \"Weather Condition\" (Sunny/Cloudy/Rainy) and \"Wind Direction\" (North/South/ East/West). Calculate the covariance between each pair of variables and interpret the results."
   ]
  },
  {
   "cell_type": "code",
   "execution_count": 12,
   "id": "a22a24ea",
   "metadata": {
    "scrolled": true
   },
   "outputs": [
    {
     "name": "stdout",
     "output_type": "stream",
     "text": [
      "Covariance between Temperature and Humidity: 16.9\n",
      "Covariance between Weather Condition and Wind Direction: 0.7999999999999999\n"
     ]
    }
   ],
   "source": [
    "import numpy as np\n",
    "\n",
    "# Assume you have the data for Temperature, Humidity, Weather Condition, and Wind Direction in separate arrays/lists\n",
    "temperature = [25, 28, 30, 22, 26]\n",
    "humidity = [60, 65, 70, 55, 62]\n",
    "weather_condition = ['Sunny', 'Cloudy', 'Rainy', 'Cloudy', 'Sunny']\n",
    "wind_direction = ['North', 'South', 'East', 'West', 'North']\n",
    "\n",
    "# Encode the categorical variables\n",
    "weather_condition_encoded = np.array([0, 1, 2, 1, 0])\n",
    "wind_direction_encoded = np.array([0, 1, 2, 3, 0])\n",
    "\n",
    "# Calculate the covariance between Temperature and Humidity\n",
    "cov_temp_humidity = np.cov(temperature, humidity)[0, 1]\n",
    "print(\"Covariance between Temperature and Humidity:\", cov_temp_humidity)\n",
    "\n",
    "# Calculate the covariance between Weather Condition and Wind Direction\n",
    "cov_weather_wind = np.cov(weather_condition_encoded, wind_direction_encoded)[0, 1]\n",
    "print(\"Covariance between Weather Condition and Wind Direction:\", cov_weather_wind)\n"
   ]
  }
 ],
 "metadata": {
  "kernelspec": {
   "display_name": "Python 3 (ipykernel)",
   "language": "python",
   "name": "python3"
  },
  "language_info": {
   "codemirror_mode": {
    "name": "ipython",
    "version": 3
   },
   "file_extension": ".py",
   "mimetype": "text/x-python",
   "name": "python",
   "nbconvert_exporter": "python",
   "pygments_lexer": "ipython3",
   "version": "3.10.9"
  }
 },
 "nbformat": 4,
 "nbformat_minor": 5
}

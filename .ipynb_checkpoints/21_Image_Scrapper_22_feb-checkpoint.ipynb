{
 "cells": [
  {
   "cell_type": "markdown",
   "id": "30cd968a",
   "metadata": {},
   "source": [
    "### Go to this given URL and solve the following questions\n",
    "### URL: https://www.youtube.com/@PW-Foundation/videos\n",
    "### Q1. Write a python program to extract the video URL of the first five videos."
   ]
  },
  {
   "cell_type": "code",
   "execution_count": 44,
   "id": "fc0b4c45",
   "metadata": {},
   "outputs": [],
   "source": [
    "import requests\n",
    "from bs4 import BeautifulSoup\n",
    "from urllib.request import urlopen\n",
    "url = \"https://www.youtube.com/@PW-Foundation/videos\"\n",
    "\n",
    "response = requests.get(url)\n",
    "soup = BeautifulSoup(response.text, 'html.parser')\n",
    "\n",
    "video_links = soup.find_all('a', {'class': 'yt-simple-endpoint style-scope ytd-grid-video-renderer'})\n",
    "\n",
    "video_urls = []\n",
    "\n",
    "for link in video_links[:5]:\n",
    "    video_url = \"https://www.youtube.com\" + link['href']\n",
    "    video_urls.append(video_url)\n",
    "\n",
    "for video in video_urls:\n",
    "    print(video)\n"
   ]
  },
  {
   "cell_type": "markdown",
   "id": "d926e6b0",
   "metadata": {},
   "source": [
    "### Q2. Write a python program to extract the URL of the video thumbnails of the first five videos.\n"
   ]
  },
  {
   "cell_type": "code",
   "execution_count": 45,
   "id": "0484ba1a",
   "metadata": {},
   "outputs": [],
   "source": [
    "response = requests.get(url)\n",
    "soup = BeautifulSoup(response.text, 'html.parser')\n",
    "\n",
    "thumbnail_links = soup.find_all('a', {'class': 'yt-simple-endpoint style-scope ytd-grid-video-renderer'})\n",
    "thumbnail_urls = []\n",
    "\n",
    "for link in thumbnail_links[:5]:\n",
    "    thumbnail_url = link.find('img')['src']\n",
    "    thumbnail_urls.append(thumbnail_url)\n",
    "\n",
    "for thumbnail in thumbnail_urls:\n",
    "    print(thumbnail)"
   ]
  },
  {
   "cell_type": "markdown",
   "id": "fe1ed113",
   "metadata": {},
   "source": [
    "### Q3. Write a python program to extract the title of the first five videos.\n"
   ]
  },
  {
   "cell_type": "code",
   "execution_count": 46,
   "id": "877b5ca9",
   "metadata": {},
   "outputs": [],
   "source": [
    "response = requests.get(url)\n",
    "soup = BeautifulSoup(response.text, 'html.parser')\n",
    "\n",
    "title_links = soup.find_all('a', {'class': 'yt-simple-endpoint style-scope ytd-grid-video-renderer'})\n",
    "titles = []\n",
    "\n",
    "for link in title_links[:5]:\n",
    "    title = link.find('span', {'class': 'style-scope ytd-grid-video-renderer'}).text\n",
    "    titles.append(title)\n",
    "\n",
    "for title in titles:\n",
    "    print(title)"
   ]
  },
  {
   "cell_type": "markdown",
   "id": "778b26bb",
   "metadata": {},
   "source": [
    "### Q4. Write a python program to extract the number of views of the first five videos.\n"
   ]
  },
  {
   "cell_type": "code",
   "execution_count": 47,
   "id": "b57e867d",
   "metadata": {},
   "outputs": [],
   "source": [
    "\n",
    "response = requests.get(url)\n",
    "soup = BeautifulSoup(response.text, 'html.parser')\n",
    "\n",
    "view_links = soup.find_all('a', {'class': 'yt-simple-endpoint style-scope ytd-grid-video-renderer'})\n",
    "views = []\n",
    "\n",
    "for link in view_links[:5]:\n",
    "    view = link.find('span', {'class': 'style-scope ytd-grid-video-renderer'}).text\n",
    "    views.append(view)\n",
    "\n",
    "for view in views:\n",
    "    print(view)\n"
   ]
  },
  {
   "cell_type": "markdown",
   "id": "e7b02005",
   "metadata": {},
   "source": [
    "### Q5. Write a python program to extract the time of posting of video for the first five videos."
   ]
  },
  {
   "cell_type": "code",
   "execution_count": 48,
   "id": "546444ef",
   "metadata": {},
   "outputs": [],
   "source": [
    "response = requests.get(url)\n",
    "soup = BeautifulSoup(response.text, 'html.parser')\n",
    "\n",
    "time_links = soup.find_all('a', {'class': 'yt-simple-endpoint style-scope ytd-grid-video-renderer'})\n",
    "times = []\n",
    "\n",
    "for link in time_links[:5]:\n",
    "    time = link.find('span', {'class': 'style-scope ytd-grid-video-renderer'}).text\n",
    "    times.append(time)\n",
    "\n",
    "for time in times:\n",
    "    print(time)"
   ]
  }
 ],
 "metadata": {
  "kernelspec": {
   "display_name": "Python 3 (ipykernel)",
   "language": "python",
   "name": "python3"
  },
  "language_info": {
   "codemirror_mode": {
    "name": "ipython",
    "version": 3
   },
   "file_extension": ".py",
   "mimetype": "text/x-python",
   "name": "python",
   "nbconvert_exporter": "python",
   "pygments_lexer": "ipython3",
   "version": "3.10.9"
  }
 },
 "nbformat": 4,
 "nbformat_minor": 5
}

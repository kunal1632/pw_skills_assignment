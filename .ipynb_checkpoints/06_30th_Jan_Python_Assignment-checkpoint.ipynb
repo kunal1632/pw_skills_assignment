{
 "cells": [
  {
   "cell_type": "markdown",
   "id": "0b819c6f",
   "metadata": {},
   "source": [
    "### 1."
   ]
  },
  {
   "cell_type": "code",
   "execution_count": 11,
   "id": "02bedfc2",
   "metadata": {},
   "outputs": [
    {
     "name": "stdout",
     "output_type": "stream",
     "text": [
      "Enter the percentage:91\n",
      "A Grade\n"
     ]
    }
   ],
   "source": [
    "num= int(input(\"Enter the percentage:\"))\n",
    "if num<=100 and num>90:\n",
    "    print(\"A Grade\")\n",
    "elif num<=90 and num>80:\n",
    "    print(\"B Grade\")\n",
    "elif num<=80 and num>60:\n",
    "    print(\"C Grade\")\n",
    "elif num<=60 and num>0:\n",
    "    print(\"D Grade\")\n",
    "else:\n",
    "    print(\"invalid input\")"
   ]
  },
  {
   "cell_type": "markdown",
   "id": "7023f22b",
   "metadata": {},
   "source": [
    "### 2."
   ]
  },
  {
   "cell_type": "code",
   "execution_count": 15,
   "id": "1729475a",
   "metadata": {},
   "outputs": [
    {
     "name": "stdout",
     "output_type": "stream",
     "text": [
      "Enter the price of the bike:59000\n",
      "Tax will be 10% that is 5900.0\n"
     ]
    }
   ],
   "source": [
    "bike = int(input(\"Enter the price of the bike:\"))\n",
    "if bike >= 100000:\n",
    "    tax = 15/100*bike\n",
    "    print(f\"Tax will be 15% that is {tax}\")\n",
    "elif bike < 100000 and bike>50000:\n",
    "    tax = 10/100*bike\n",
    "    print(f\"Tax will be 10% that is {tax}\")\n",
    "elif bike < 50000 and bike > 0:\n",
    "    tax  = 5/100*bike\n",
    "    print(f\"Tax will be 5% thath is{tax}\")\n",
    "else:\n",
    "    print(\"invalid input\")"
   ]
  },
  {
   "cell_type": "markdown",
   "id": "1a40ae3f",
   "metadata": {},
   "source": [
    "### 3."
   ]
  },
  {
   "cell_type": "code",
   "execution_count": 19,
   "id": "e4f52e30",
   "metadata": {},
   "outputs": [
    {
     "name": "stdout",
     "output_type": "stream",
     "text": [
      "Enter the name of the city:delhi\n",
      "Red Fort\n"
     ]
    }
   ],
   "source": [
    "city=input(\"Enter the name of the city:\").lower()\n",
    "if city == 'delhi':\n",
    "    print(\"Red Fort\")\n",
    "elif city == 'agra':\n",
    "    print('Taj Mahal')\n",
    "elif city == 'jaipur':\n",
    "    print(\"Jal Mahal\")\n",
    "else:\n",
    "    print(\"Invalid input\")"
   ]
  },
  {
   "cell_type": "markdown",
   "id": "27044d47",
   "metadata": {},
   "source": [
    "### 4."
   ]
  },
  {
   "cell_type": "code",
   "execution_count": 23,
   "id": "1975ef25",
   "metadata": {},
   "outputs": [
    {
     "name": "stdout",
     "output_type": "stream",
     "text": [
      "Enter any number:150\n",
      "150 is devided 2 times \n"
     ]
    }
   ],
   "source": [
    "num=int(input(\"Enter any number:\"))\n",
    "og_num=num\n",
    "count=-1\n",
    "while num>10:\n",
    "    num=num/3\n",
    "    count+=1\n",
    "print(f\"{og_num} is devided {count} times \")"
   ]
  },
  {
   "cell_type": "markdown",
   "id": "235e2490",
   "metadata": {},
   "source": [
    "### 5."
   ]
  },
  {
   "cell_type": "markdown",
   "id": "53640a01",
   "metadata": {},
   "source": [
    "when we want to run a piece of code multipule times or we want to perform same thing again and again we can use loop\n",
    "#### exammple"
   ]
  },
  {
   "cell_type": "code",
   "execution_count": 26,
   "id": "a19255e2",
   "metadata": {},
   "outputs": [
    {
     "name": "stdout",
     "output_type": "stream",
     "text": [
      "0 1 2 3 4 5 6 7 8 9 10 11 12 13 14 15 16 17 18 19 20 21 22 23 24 25 26 27 28 29 30 31 32 33 34 35 36 37 38 39 40 41 42 43 44 45 46 47 48 49 50 51 52 53 54 55 56 57 58 59 60 61 62 63 64 65 66 67 68 69 70 71 72 73 74 75 76 77 78 79 80 81 82 83 84 85 86 87 88 89 90 91 92 93 94 95 96 97 98 99 100 "
     ]
    }
   ],
   "source": [
    "for i in range(0,101):\n",
    "    print(i,end=' ')"
   ]
  },
  {
   "cell_type": "markdown",
   "id": "1ad836fc",
   "metadata": {},
   "source": [
    "### 6."
   ]
  },
  {
   "cell_type": "code",
   "execution_count": 13,
   "id": "e89ed020",
   "metadata": {
    "scrolled": true
   },
   "outputs": [
    {
     "name": "stdout",
     "output_type": "stream",
     "text": [
      "Enter the height:10\n",
      "           *  \n",
      "          * *  \n",
      "         * * *  \n",
      "        * * * *  \n",
      "       * * * * *  \n",
      "      * * * * * *  \n",
      "     * * * * * * *  \n",
      "    * * * * * * * *  \n",
      "   * * * * * * * * *  \n",
      "  * * * * * * * * * *  \n"
     ]
    }
   ],
   "source": [
    "num=int(input(\"Enter the height:\"))\n",
    "row=1\n",
    "while num>0:\n",
    "    print(\" \"*num, end=\" \")\n",
    "    num-=1\n",
    "    star=row\n",
    "    row+=1\n",
    "    while star>0:\n",
    "        print('*',end = \" \")\n",
    "        star=star-1\n",
    "    print(\" \")\n",
    "    \n",
    "    "
   ]
  },
  {
   "cell_type": "markdown",
   "id": "ee3bd139",
   "metadata": {},
   "source": [
    "### 7."
   ]
  },
  {
   "cell_type": "code",
   "execution_count": 17,
   "id": "94b8f8bb",
   "metadata": {},
   "outputs": [
    {
     "name": "stdout",
     "output_type": "stream",
     "text": [
      "10\n",
      "9\n",
      "8\n",
      "7\n",
      "6\n",
      "5\n",
      "4\n",
      "3\n",
      "2\n",
      "1\n"
     ]
    }
   ],
   "source": [
    "i=10\n",
    "while i>0:\n",
    "    print(i)\n",
    "    i-=1\n",
    "    \n",
    "    "
   ]
  },
  {
   "cell_type": "markdown",
   "id": "fe10deaf",
   "metadata": {},
   "source": [
    "### 8."
   ]
  },
  {
   "cell_type": "code",
   "execution_count": 18,
   "id": "b6c1e6a1",
   "metadata": {},
   "outputs": [
    {
     "name": "stdout",
     "output_type": "stream",
     "text": [
      "10\n",
      "9\n",
      "8\n",
      "7\n",
      "6\n",
      "5\n",
      "4\n",
      "3\n",
      "2\n",
      "1\n"
     ]
    }
   ],
   "source": [
    "i=10\n",
    "while i>0:\n",
    "    print(i)\n",
    "    i-=1"
   ]
  }
 ],
 "metadata": {
  "kernelspec": {
   "display_name": "Python 3 (ipykernel)",
   "language": "python",
   "name": "python3"
  },
  "language_info": {
   "codemirror_mode": {
    "name": "ipython",
    "version": 3
   },
   "file_extension": ".py",
   "mimetype": "text/x-python",
   "name": "python",
   "nbconvert_exporter": "python",
   "pygments_lexer": "ipython3",
   "version": "3.10.9"
  }
 },
 "nbformat": 4,
 "nbformat_minor": 5
}

{
 "cells": [
  {
   "cell_type": "markdown",
   "id": "238e5129",
   "metadata": {},
   "source": [
    "### Q1: What is the difference between a t-test and a z-test? Provide an example scenario where you would use each type of test.\n"
   ]
  },
  {
   "cell_type": "markdown",
   "id": "4eaceb78",
   "metadata": {},
   "source": [
    "The main difference between a t-test and a z-test lies in the assumptions made about the population variance. A t-test is used when the population variance is unknown, and the sample size is relatively small, while a z-test is used when the population variance is known or when the sample size is large.\n",
    "\n",
    "Here are example scenarios where you would use each type of test:\n",
    "\n",
    "T-Test:\n",
    "Scenario: A researcher wants to compare the effectiveness of two different teaching methods on student performance. They randomly assign 20 students to each teaching method and measure their test scores. The researcher wants to determine if there is a significant difference in the mean test scores between the two groups.\n",
    "In this case, a t-test would be appropriate because the population variance is unknown, and the sample size is relatively small (n = 20).\n",
    "\n",
    "Z-Test:\n",
    "Scenario: An electronics manufacturer produces a certain type of component, and the weight of each component follows a known normal distribution with a known population variance. The manufacturer wants to test if the average weight of a sample of components is significantly different from a target weight.\n",
    "In this case, a z-test would be appropriate because the population variance is known, and the sample size is likely to be large. This allows for the use of the standard normal distribution (z-distribution) to calculate the test statistic."
   ]
  },
  {
   "cell_type": "markdown",
   "id": "58088fd8",
   "metadata": {},
   "source": [
    "### Q2: Differentiate between one-tailed and two-tailed tests.\n"
   ]
  },
  {
   "cell_type": "markdown",
   "id": "74d5af7e",
   "metadata": {},
   "source": [
    "One-Tailed Test:\n",
    "\n",
    "1. In a one-tailed test, the alternative hypothesis is directional and specifies the expected difference or relationship in a specific direction.\n",
    "2. It tests if the population parameter is significantly greater than or less than a certain value.\n",
    "3. The critical region is located in one tail of the sampling distribution, either in the right or left tail.\n",
    "4. The test focuses on detecting an effect in a specific direction.\n",
    "5. One-tailed tests are generally used when there is a specific expectation or hypothesis about the direction of the effect.\n",
    "6. They are more powerful (sensitive) in detecting an effect in the specified direction.\n",
    "\n",
    "Example: A researcher hypothesizes that a new medication will increase the average response time of participants. The alternative hypothesis would be one-tailed, such as H1: μ > 0, indicating an expected increase in response time.\n",
    "\n",
    "Two-Tailed Test:\n",
    "\n",
    "1. In a two-tailed test, the alternative hypothesis is non-directional and simply states that there is a difference or relationship between the variables.\n",
    "2. It tests if the population parameter is significantly different from a certain value, without specifying the direction.\n",
    "3. The critical region is split between both tails of the sampling distribution, equally divided.\n",
    "4. The test focuses on detecting any significant difference, regardless of the direction.\n",
    "5. Two-tailed tests are commonly used when there is no specific expectation about the direction of the effect or when exploring the possibility of an effect in either direction.\n",
    "6. They are generally less powerful than one-tailed tests because they spread the significance level across both tails.\n",
    "\n",
    "Example: A researcher wants to determine if there is a difference in the mean test scores between two groups. The alternative hypothesis would be two-tailed, such as H1: μ1 ≠ μ2, indicating that there is a difference, but not specifying the direction."
   ]
  },
  {
   "cell_type": "markdown",
   "id": "92225318",
   "metadata": {},
   "source": [
    "\n",
    "### Q3: Explain the concept of Type 1 and Type 2 errors in hypothesis testing. Provide an example scenario for each type of error.\n"
   ]
  },
  {
   "cell_type": "markdown",
   "id": "e8f8ded6",
   "metadata": {},
   "source": [
    "Type 1 Error:\n",
    "\n",
    "- A Type 1 error occurs when the null hypothesis is wrongly rejected, even though it is actually true.\n",
    "- It is also known as a false positive or a \"rejecting a true null hypothesis.\"\n",
    "- The significance level (α) of a test determines the probability of making a Type 1 error.\n",
    "- A smaller significance level reduces the chance of Type 1 errors but increases the chance of Type 2 errors.\n",
    "- Type 1 errors are considered more serious in certain contexts, such as medical research or criminal justice, as they may lead to incorrect conclusions or actions.\n",
    "\n",
    "Example Scenario:\n",
    "\n",
    "Suppose a new drug is being tested for its effectiveness in reducing a particular disease's symptoms. The null hypothesis (H0) states that the drug has no effect. However, due to experimental error or chance, the study incorrectly rejects the null hypothesis and concludes that the drug is effective, leading to Type 1 error. Consequently, patients may be prescribed an ineffective drug, leading to potential harm or unnecessary expenses.\n",
    "\n",
    "Type 2 Error:\n",
    "\n",
    "- A Type 2 error occurs when the null hypothesis is not rejected, even though it is false.\n",
    "- It is also known as a false negative or a \"failing to reject a false null hypothesis.\"\n",
    "- The power of a statistical test (1 - β) determines the probability of making a Type 2 error.\n",
    "- A higher power reduces the chance of Type 2 errors but increases the chance of Type 1 errors.\n",
    "- Type 2 errors can lead to missed opportunities or false conclusions that there is no effect or difference when one actually exists.\n",
    "\n",
    "Example Scenario:\n",
    " \n",
    "Consider a clinical trial for a new treatment aimed at reducing blood pressure. The alternative hypothesis (H1) states that the treatment is effective in reducing blood pressure. However, the study fails to reject the null hypothesis and concludes that the treatment has no effect, resulting in a Type 2 error. As a result, the potential benefits of the treatment are overlooked, and patients may be deprived of an effective intervention."
   ]
  },
  {
   "cell_type": "markdown",
   "id": "7272f411",
   "metadata": {},
   "source": [
    "### Q4: Explain Bayes's theorem with an example.\n"
   ]
  },
  {
   "cell_type": "markdown",
   "id": "bddebfbb",
   "metadata": {},
   "source": [
    "Bayes's theorem is a fundamental concept in probability theory that allows us to update our beliefs or probabilities about an event based on new evidence or information. It mathematically describes how to revise probabilities using conditional probabilities.\n",
    "\n",
    "Bayes's theorem states:\n",
    "\n",
    "P(A|B) = [P(B|A) * P(A)] / P(B)\n",
    "\n",
    "where:\n",
    "\n",
    "- P(A|B) represents the probability of event A occurring given that event B has occurred.\n",
    "- P(B|A) represents the probability of event B occurring given that event A has occurred.\n",
    "- P(A) and P(B) represent the probabilities of events A and B occurring independently.\n",
    "\n",
    "Let's say there is a rare disease that affects 1% of the population. You take a test for this disease, and the test is known to be 95% accurate, meaning it correctly detects the disease when it is present 95% of the time, and it correctly identifies its absence 95% of the time.\n",
    "\n",
    "Now, if your test results come out positive, you naturally want to know the probability of actually having the disease.\n",
    "\n",
    "Using Bayes's theorem, you can update your probability based on the following information:\n",
    "\n",
    "The prevalence of the disease (prior probability)\n",
    "\n",
    "The accuracy of the test (conditional probabilities)\n",
    "\n",
    "Applying Bayes's theorem, you calculate the probability of having the disease given a positive test result."
   ]
  },
  {
   "cell_type": "markdown",
   "id": "1e9e78a6",
   "metadata": {},
   "source": [
    "### Q5: What is a confidence interval? How to calculate the confidence interval, explain with an example.\n"
   ]
  },
  {
   "cell_type": "markdown",
   "id": "4bfa8318",
   "metadata": {},
   "source": [
    "A confidence interval is a range of values that provides an estimate of the likely range of the population parameter based on sample data. It measures the uncertainty or variability associated with the estimate.\n",
    "\n",
    "To calculate a confidence interval:\n",
    "\n",
    "Determine the desired confidence level (e.g., 95%, 99%).\n",
    "Collect a sample and calculate the sample statistic (e.g., mean, proportion) and standard deviation.\n",
    "Calculate the margin of error, which depends on the sample size and desired confidence level.\n",
    "Construct the interval by adding and subtracting the margin of error from the sample statistic.\n",
    "For example, let's say you want to estimate the average height of adults in a city. You collect a random sample of 100 individuals and measure their heights. The sample mean height is 170 cm, and the sample standard deviation is 5 cm.\n",
    "\n",
    "To calculate a 95% confidence interval for the population mean height:\n",
    "\n",
    "Determine the critical value (e.g., using a Z-table or Z-score) corresponding to a 95% confidence level, which is typically 1.96 for a large sample size.\n",
    "Calculate the standard error by dividing the sample standard deviation by the square root of the sample size.\n",
    "Multiply the standard error by the critical value to find the margin of error.\n",
    "Construct the confidence interval by subtracting and adding the margin of error from the sample mean."
   ]
  },
  {
   "cell_type": "markdown",
   "id": "9554a008",
   "metadata": {},
   "source": [
    "### Q6. Use Bayes' Theorem to calculate the probability of an event occurring given prior knowledge of the event's probability and new evidence. Provide a sample problem and solution.\n"
   ]
  },
  {
   "cell_type": "markdown",
   "id": "e89543dc",
   "metadata": {},
   "source": [
    "Problem:\n",
    "Suppose a rare disease affects 1 in every 10,000 people in a population. A test for this disease is 99% accurate. If a person tests positive for the disease, what is the probability they actually have it?\n",
    "\n",
    "Solution:\n",
    "\n",
    "Using Bayes' Theorem:\n",
    "\n",
    "- P(Disease) = 1/10,000 (prior probability of having the disease)\n",
    "- P(Positive|Disease) = 0.99 (probability of testing positive given the person has the disease)\n",
    "- P(Positive|No Disease) = 0.01 (probability of testing positive given the person does not have the disease)\n",
    "- P(Disease|Positive) ≈ 0.0098 or 0.98%\n",
    "\n",
    "Therefore, the probability of actually having the disease, given a positive test result, is approximately 0.98% or 0.0098."
   ]
  },
  {
   "cell_type": "markdown",
   "id": "d0d334c3",
   "metadata": {},
   "source": [
    "### Q7. Calculate the 95% confidence interval for a sample of data with a mean of 50 and a standard deviation of 5. Interpret the results.\n"
   ]
  },
  {
   "cell_type": "markdown",
   "id": "9ac08795",
   "metadata": {},
   "source": [
    "To calculate the 95% confidence interval, we need the sample mean, standard deviation, and sample size. However, in this case, we don't have the sample size (n), which is essential for an accurate confidence interval calculation. The sample size is necessary to estimate the standard error and determine the appropriate critical value."
   ]
  },
  {
   "cell_type": "markdown",
   "id": "9cc8561e",
   "metadata": {},
   "source": [
    "### Q8. What is the margin of error in a confidence interval? How does sample size affect the margin of error? Provide an example of a scenario where a larger sample size would result in a smaller margin of error.\n"
   ]
  },
  {
   "cell_type": "markdown",
   "id": "0007dd24",
   "metadata": {},
   "source": [
    "The margin of error is the range of values around the sample estimate within which the true population parameter is likely to fall. It represents the level of uncertainty or variability in the estimate.\n",
    "\n",
    "Sample size directly affects the margin of error. Generally, a larger sample size results in a smaller margin of error, while a smaller sample size leads to a larger margin of error. This is because a larger sample size provides more information and reduces sampling variability, leading to a more precise estimate.\n",
    "\n",
    "For example, let's consider a scenario where we want to estimate the average height of students in a school. We take two different sample sizes: Sample A with 50 students and Sample B with 500 students.\n",
    "\n",
    "In Sample A (smaller sample size), the margin of error might be around ±3 inches. This means that the true population mean height is likely to be within 3 inches of the sample mean.\n",
    "\n",
    "In Sample B (larger sample size), the margin of error might be reduced to ±1 inch. With a larger sample size, the estimate becomes more precise, and we can be more confident about the range within which the true population mean height lies.\n",
    "\n",
    "Thus, a larger sample size decreases the margin of error and provides a more precise estimate of the population parameter."
   ]
  },
  {
   "cell_type": "markdown",
   "id": "02da1fa2",
   "metadata": {},
   "source": [
    "### Q9. Calculate the z-score for a data point with a value of 75, a population mean of 70, and a population standard deviation of 5. Interpret the results.\n"
   ]
  },
  {
   "cell_type": "markdown",
   "id": "2154d939",
   "metadata": {},
   "source": [
    "To calculate the z-score, we use the formula:\n",
    "\n",
    "z = (x - μ) / σ\n",
    "\n",
    "where:\n",
    "- x = value of the data point\n",
    "- μ = population mean\n",
    "- σ = population standard deviation\n",
    "\n",
    "Given:\n",
    "- x = 75\n",
    "- μ = 70\n",
    "- σ = 5\n",
    "\n",
    "Plugging in the values:\n",
    "\n",
    "- z = (75 - 70) / 5\n",
    "- z = 5 / 5\n",
    "- z = 1\n",
    "\n",
    "The calculated z-score is 1.\n",
    "\n",
    "Interpreting the results:\n",
    "The z-score measures how many standard deviations above or below the population mean a particular data point is. In this case, the data point with a value of 75 is 1 standard deviation above the population mean of 70.\n",
    "\n",
    "A positive z-score indicates that the data point is above the mean, while a negative z-score would indicate that the data point is below the mean. In this scenario, the z-score of 1 suggests that the data point is one standard deviation above the population mean."
   ]
  },
  {
   "cell_type": "markdown",
   "id": "6a7d6fbf",
   "metadata": {},
   "source": [
    "### Q10. In a study of the effectiveness of a new weight loss drug, a sample of 50 participants lost an average of 6 pounds with a standard deviation of 2.5 pounds. Conduct a hypothesis test to determine if the drug is significantly effective at a 95% confidence level using a t-test.\n"
   ]
  },
  {
   "cell_type": "markdown",
   "id": "0b80b694",
   "metadata": {},
   "source": [
    "In a study of the effectiveness of a new weight loss drug, a sample of 50 participants lost an average of 6 pounds with a standard deviation of 2.5 pounds. To determine if the drug is significantly effective, a t-test is conducted at a 95% confidence level.\n",
    "\n",
    "The null hypothesis (H₀) assumes that the average weight loss is zero, while the alternative hypothesis (H₁) suggests that the average weight loss is not zero.\n",
    "\n",
    "Using the sample data, the t-statistic is calculated as approximately 10.73. The critical value for a two-tailed test with 49 degrees of freedom and a significance level of 0.05 is approximately ±2.009.\n",
    "\n",
    "Since the calculated t-statistic (10.73) is far beyond the critical value range (±2.009), the null hypothesis is rejected. This indicates that the weight loss drug is significantly effective at the 95% confidence level.\n",
    "\n",
    "In conclusion, based on the t-test, the study provides evidence to support the effectiveness of the weight loss drug in helping participants lose weight."
   ]
  },
  {
   "cell_type": "markdown",
   "id": "3c775d40",
   "metadata": {},
   "source": [
    "### Q11. In a survey of 500 people, 65% reported being satisfied with their current job. Calculate the 95% confidence interval for the true proportion of people who are satisfied with their job.\n"
   ]
  },
  {
   "cell_type": "markdown",
   "id": "6c9d7cf1",
   "metadata": {},
   "source": [
    "To calculate the 95% confidence interval for the true proportion of people satisfied with their job, we use the following formula:\n",
    "\n",
    "Confidence Interval = Sample Proportion ± Margin of Error\n",
    "\n",
    "To calculate the margin of error, we need to determine the critical value based on the confidence level. For a 95% confidence level, the critical value is approximately 1.96 (obtained from the standard normal distribution).\n",
    "\n",
    "Margin of Error = Critical Value * Standard Error\n",
    "\n",
    "Standard Error = √[(p * (1 - p)) / n]\n",
    "\n",
    "Calculating the values:\n",
    "\n",
    "Standard Error = √[(0.65 * (1 - 0.65)) / 500] ≈ 0.0202\n",
    "\n",
    "Margin of Error = 1.96 * 0.0202 ≈ 0.0397\n",
    "\n",
    "Confidence Interval = 0.65 ± 0.0397\n",
    "\n",
    "Confidence Interval ≈ (0.6103, 0.6897)\n",
    "\n",
    "The 95% confidence interval for the true proportion of people satisfied with their job is approximately (0.6103, 0.6897). This means we can be 95% confident that the true proportion of people satisfied with their job lies within this range based on the given sample data."
   ]
  },
  {
   "cell_type": "markdown",
   "id": "5e843fc9",
   "metadata": {},
   "source": [
    "### Q12. A researcher is testing the effectiveness of two different teaching methods on student performance. Sample A has a mean score of 85 with a standard deviation of 6, while sample B has a mean score of 82 with a standard deviation of 5. Conduct a hypothesis test to determine if the two teaching methods have a significant difference in student performance using a t-test with a significance level of 0.01.\n"
   ]
  },
  {
   "cell_type": "markdown",
   "id": "a5df64c2",
   "metadata": {},
   "source": [
    "To conduct a hypothesis test to determine if there is a significant difference in student performance between two teaching methods, we will use a t-test.\n",
    "\n",
    "Null Hypothesis (H₀): The two teaching methods have no significant difference in student performance; the mean scores are equal.\n",
    "Alternative Hypothesis (H₁): The two teaching methods have a significant difference in student performance; the mean scores are not equal.\n",
    "\n",
    "Using the t-test formula for independent samples, we calculate the t-statistic:\n",
    "\n",
    "t = (x̄₁ - x̄₂) / √[(s₁² / n₁) + (s₂² / n₂)]\n",
    "\n",
    "Where:\n",
    "- x̄₁ and x̄₂ are the sample means,\n",
    "- s₁ and s₂ are the sample standard deviations,\n",
    "- n₁ and n₂ are the sample sizes.\n",
    "\n",
    "Calculating the t-statistic:\n",
    "\n",
    "t = (85 - 82) / √[(6² / n₁) + (5² / n₂)]\n",
    "\n",
    "We do not have the sample sizes (n₁ and n₂) provided in the question, so we cannot calculate the t-statistic or perform the hypothesis test accurately. Please provide the sample sizes to proceed with the calculation and hypothesis test."
   ]
  },
  {
   "cell_type": "markdown",
   "id": "c66bd0d8",
   "metadata": {},
   "source": [
    "### Q13. A population has a mean of 60 and a standard deviation of 8. A sample of 50 observations has a mean of 65. Calculate the 90% confidence interval for the true population mean.\n"
   ]
  },
  {
   "cell_type": "markdown",
   "id": "4c28d80b",
   "metadata": {},
   "source": [
    "To calculate the 90% confidence interval for the true population mean, we can use the formula:\n",
    "\n",
    "Confidence Interval = Sample Mean ± (Critical Value * Standard Error)\n",
    "\n",
    "First, we need to determine the critical value corresponding to a 90% confidence level. Since the sample size is relatively large (n > 30), we can approximate the critical value using the Z-distribution. For a 90% confidence level, the critical value is approximately 1.645.\n",
    "\n",
    "Next, we calculate the standard error:\n",
    "\n",
    "- Standard Error = σ / √n\n",
    "- Standard Error = 8 / √50 ≈ 1.13\n",
    "\n",
    "Now, we can calculate the confidence interval:\n",
    "\n",
    "Confidence Interval = 65 ± (1.645 * 1.13)\n",
    "\n",
    "Confidence Interval ≈ (63.50, 66.50)\n",
    "\n",
    "The 90% confidence interval for the true population mean is approximately (63.50, 66.50). This means that we can be 90% confident that the true population mean falls within this range based on the given sample data."
   ]
  },
  {
   "cell_type": "markdown",
   "id": "98dfedf8",
   "metadata": {},
   "source": [
    "### Q14. In a study of the effects of caffeine on reaction time, a sample of 30 participants had an average reaction time of 0.25 seconds with a standard deviation of 0.05 seconds. Conduct a hypothesis test to determine if the caffeine has a significant effect on reaction time at a 90% confidence level using a t-test."
   ]
  },
  {
   "cell_type": "markdown",
   "id": "c3446c70",
   "metadata": {},
   "source": [
    "To conduct a hypothesis test to determine if caffeine has a significant effect on reaction time, we will use a t-test.\n",
    "\n",
    "Null Hypothesis (H₀): Caffeine has no significant effect on reaction time; the mean reaction time is the same as the population mean.\n",
    "Alternative Hypothesis (H₁): Caffeine has a significant effect on reaction time; the mean reaction time is different from the population mean.\n",
    "\n",
    "We need to compare the sample mean to the population mean using a t-test. However, the population mean is not provided in the question. Therefore, we cannot conduct the t-test or calculate the results accurately without the population mean."
   ]
  }
 ],
 "metadata": {
  "kernelspec": {
   "display_name": "Python 3 (ipykernel)",
   "language": "python",
   "name": "python3"
  },
  "language_info": {
   "codemirror_mode": {
    "name": "ipython",
    "version": 3
   },
   "file_extension": ".py",
   "mimetype": "text/x-python",
   "name": "python",
   "nbconvert_exporter": "python",
   "pygments_lexer": "ipython3",
   "version": "3.10.9"
  }
 },
 "nbformat": 4,
 "nbformat_minor": 5
}

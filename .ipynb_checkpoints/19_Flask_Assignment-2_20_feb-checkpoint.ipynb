{
 "cells": [
  {
   "cell_type": "markdown",
   "id": "b6a3061e",
   "metadata": {},
   "source": [
    "### Q1. Explain GET and POST methods.\n",
    "\n"
   ]
  },
  {
   "cell_type": "markdown",
   "id": "7f521c07",
   "metadata": {},
   "source": [
    "\n",
    "GET method is used to retrieve data from a server, and it appends data in the URL query parameters. POST method is used to send data to be processed by the server, and it sends data in the body of the HTTP request. GET requests are visible in the URL and considered idempotent, while POST requests are not visible in the URL and not idempotent."
   ]
  },
  {
   "cell_type": "markdown",
   "id": "da0ffad1",
   "metadata": {},
   "source": [
    "### Q2. Why is request used in Flask?\n"
   ]
  },
  {
   "cell_type": "markdown",
   "id": "509a3f9e",
   "metadata": {},
   "source": [
    "The request object in Flask is used to access and handle incoming HTTP requests made by clients (such as web browsers) to the Flask application. It provides convenient methods and attributes to retrieve data from the request, such as form data, query parameters, cookies, headers, and more. With the request object, Flask allows developers to access and process the data sent by clients, enabling the creation of dynamic and interactive web applications."
   ]
  },
  {
   "cell_type": "markdown",
   "id": "18d7b376",
   "metadata": {},
   "source": [
    "### Q3. Why is redirect() used in Flask?"
   ]
  },
  {
   "cell_type": "markdown",
   "id": "46e5577a",
   "metadata": {},
   "source": [
    "The redirect() function in Flask is used to redirect the user to a different URL or route within the application. It is primarily used for HTTP redirection, allowing the server to instruct the client to visit a different URL. This is useful for scenarios such as after a form submission or when a user needs to be redirected to a different page based on certain conditions. By using redirect(), Flask enables developers to control the flow of the application and navigate users to the appropriate routes or URLs."
   ]
  },
  {
   "cell_type": "markdown",
   "id": "f87c6320",
   "metadata": {},
   "source": [
    "### Q4. What are templates in Flask? Why is the render_template() function used?\n"
   ]
  },
  {
   "cell_type": "markdown",
   "id": "6fbabc56",
   "metadata": {},
   "source": [
    "Templates in Flask are files that contain HTML and dynamic placeholders (variables, loops, conditionals) to generate dynamic web pages. They provide a way to separate the presentation logic from the application logic.\n",
    "\n",
    "The render_template() function is used to render and display these templates in Flask. It takes the name of the template file as an argument and processes it, replacing the placeholders with actual values. It allows developers to dynamically generate HTML pages by passing data from the backend (e.g., database queries, variables) to the template for rendering."
   ]
  },
  {
   "cell_type": "markdown",
   "id": "fd03c017",
   "metadata": {},
   "source": [
    "### Q5. Create a simple API. Use Postman to test it. Attach the screenshot of the output in the Jupyter Notebook."
   ]
  },
  {
   "cell_type": "code",
   "execution_count": 3,
   "id": "41665a32",
   "metadata": {},
   "outputs": [
    {
     "name": "stdout",
     "output_type": "stream",
     "text": [
      " * Serving Flask app '__main__'\n",
      " * Debug mode: off\n"
     ]
    },
    {
     "name": "stderr",
     "output_type": "stream",
     "text": [
      "\u001b[31m\u001b[1mWARNING: This is a development server. Do not use it in a production deployment. Use a production WSGI server instead.\u001b[0m\n",
      " * Running on http://127.0.0.1:5000\n",
      "\u001b[33mPress CTRL+C to quit\u001b[0m\n",
      "127.0.0.1 - - [23/Jun/2023 12:01:35] \"GET /books HTTP/1.1\" 200 -\n",
      "127.0.0.1 - - [23/Jun/2023 12:02:53] \"\u001b[31m\u001b[1mPOST /books HTTP/1.1\u001b[0m\" 415 -\n",
      "127.0.0.1 - - [23/Jun/2023 12:03:52] \"\u001b[31m\u001b[1mPOST /books?id=4&title=book%204&author=author%204 HTTP/1.1\u001b[0m\" 415 -\n",
      "127.0.0.1 - - [23/Jun/2023 12:05:05] \"\u001b[31m\u001b[1mPOST /books?'id'=4&'title'='book4'&'author'='author%204' HTTP/1.1\u001b[0m\" 415 -\n",
      "127.0.0.1 - - [23/Jun/2023 12:09:02] \"\u001b[31m\u001b[1mPOST /books?'id'=4&'title'='book4'&'author'='author%204' HTTP/1.1\u001b[0m\" 415 -\n",
      "127.0.0.1 - - [23/Jun/2023 12:09:10] \"GET /books?'id'=4&'title'='book4'&'author'='author%204' HTTP/1.1\" 200 -\n",
      "127.0.0.1 - - [23/Jun/2023 12:12:01] \"\u001b[31m\u001b[1mPOST /books?'id'=4&'title'='book4'&'author'='author%204' HTTP/1.1\u001b[0m\" 400 -\n",
      "127.0.0.1 - - [23/Jun/2023 12:12:27] \"POST /books?'id'=4&'title'='book4'&'author'='author%204' HTTP/1.1\" 200 -\n"
     ]
    }
   ],
   "source": [
    "from flask import Flask,jsonify,request\n",
    "\n",
    "app= Flask(__name__)\n",
    "\n",
    "books=[{'id':1,'title':'book1','author':'author 1'},\n",
    "       {'id':2,'title':'book2','author':'author 2'},\n",
    "       {'id':3,'title':'book3','author':'author 3'}]\n",
    "@app.route('/books', methods=['GET'])\n",
    "def get_book():\n",
    "    return jsonify(books)\n",
    "@app.route('/books', methods=['POST'])\n",
    "def add_book():\n",
    "    new_book  = request.get_json()\n",
    "    books.append(new_book)\n",
    "    return jsonify({'Message':'Books addes successfuly'})\n",
    "if __name__==\"__main__\":\n",
    "    app.run()"
   ]
  },
  {
   "cell_type": "markdown",
   "id": "a5b33863",
   "metadata": {},
   "source": [
    "![screenshot](Screenshot_20230623_120202.png)"
   ]
  },
  {
   "cell_type": "markdown",
   "id": "3589e18d",
   "metadata": {},
   "source": [
    "![screenshot](Screenshot_20230623_121243.png)"
   ]
  }
 ],
 "metadata": {
  "kernelspec": {
   "display_name": "Python 3 (ipykernel)",
   "language": "python",
   "name": "python3"
  },
  "language_info": {
   "codemirror_mode": {
    "name": "ipython",
    "version": 3
   },
   "file_extension": ".py",
   "mimetype": "text/x-python",
   "name": "python",
   "nbconvert_exporter": "python",
   "pygments_lexer": "ipython3",
   "version": "3.10.9"
  }
 },
 "nbformat": 4,
 "nbformat_minor": 5
}

{
 "cells": [
  {
   "cell_type": "markdown",
   "id": "8fa7784e",
   "metadata": {},
   "source": [
    "### Q1. You are writing code for a company. The requirement of the company is that you create a python function that will check whether the password entered by the user is correct or not. The function should take the password as input and return the string “Valid Password” if the entered password follows the below-given password guidelines else it should return “Invalid Password”.\n",
    "### Note: \n",
    "1. The Password should contain at least two uppercase letters and at least two lowercase letters.\n",
    "2. The Password should contain at least a number and three special characters.\n",
    "3. The length of the password should be 10 characters long."
   ]
  },
  {
   "cell_type": "code",
   "execution_count": 10,
   "id": "016fa42d",
   "metadata": {},
   "outputs": [
    {
     "name": "stdout",
     "output_type": "stream",
     "text": [
      "Enter your password: Kunal@#$123Dhand\n",
      "Yor password is valid and strong\n"
     ]
    }
   ],
   "source": [
    "def pw_check(string):\n",
    "    upp=0\n",
    "    low=0\n",
    "    num=0\n",
    "    spl=0\n",
    "    if len(string)<10:\n",
    "        return \"Pasword is too short\"\n",
    "    for i in string:\n",
    "        if i.isupper():\n",
    "            upp+=1\n",
    "        elif i.islower():\n",
    "            low+=1\n",
    "        elif i.isnumeric():\n",
    "            num+=1\n",
    "        elif i in '[@_!#$%^&*()<>?/\\|}{~:]':\n",
    "            spl+=1\n",
    "    if upp<2:\n",
    "        print(\"password should contain at least 2 uppercase\")\n",
    "    elif low<2:\n",
    "        print(\"password should contain at least 2 lowecase\")\n",
    "    elif num<1:\n",
    "        print(\"password should contain at least 1 number\")\n",
    "    elif spl<3:\n",
    "        print(\"password should contain at least 3 special character\")\n",
    "    else :\n",
    "        print(\"Yor password is valid and strong\")\n",
    "    \n",
    "st=input(\"Enter your password: \")\n",
    "pw_check(st)\n",
    "        "
   ]
  },
  {
   "cell_type": "markdown",
   "id": "8ed6460c",
   "metadata": {},
   "source": [
    "### Q2. Solve the below-given questions using at least one of the following:\n",
    "1. Lambda function\n",
    "2. Filter function\n",
    "3. Map function\n",
    "4. List Comprehension\n",
    "* Check if the string starts with a particular letter.\n",
    "* Check if the string is numeric.\n",
    "* Sort a list of tuples having fruit names and their quantity. [(\"mango\",99),(\"orange\",80), (\"grapes\", 1000)]\n",
    "* Find the squares of numbers from 1 to 10\n",
    "* Find the cube root of numbers from 1 to 10\n",
    "* Check if a given number is even\n",
    "* Filter odd numbers from the given list. [1,2,3,4,5,6,7,8,9,10]\n",
    "* Sort a list of integers into positive and negative integers lists. [1,2,3,4,5,6,-1,-2,-3,-4,-5,0]"
   ]
  },
  {
   "cell_type": "code",
   "execution_count": 15,
   "id": "66dad7a4",
   "metadata": {},
   "outputs": [
    {
     "data": {
      "text/plain": [
       "True"
      ]
     },
     "execution_count": 15,
     "metadata": {},
     "output_type": "execute_result"
    }
   ],
   "source": [
    "par_lett= lambda ch,st : True if st[0]==ch else False\n",
    "par_lett('k','kunal')"
   ]
  },
  {
   "cell_type": "code",
   "execution_count": 24,
   "id": "8d7d0fa1",
   "metadata": {},
   "outputs": [
    {
     "data": {
      "text/plain": [
       "True"
      ]
     },
     "execution_count": 24,
     "metadata": {},
     "output_type": "execute_result"
    }
   ],
   "source": [
    "check_num = lambda st : st.isnumeric()\n",
    "check_num('12442')"
   ]
  },
  {
   "cell_type": "code",
   "execution_count": 31,
   "id": "bf412458",
   "metadata": {},
   "outputs": [
    {
     "name": "stdout",
     "output_type": "stream",
     "text": [
      "[('orange', 80), ('mango', 99), ('grapes', 1000)]\n"
     ]
    }
   ],
   "source": [
    "l1=[(\"mango\",99),(\"orange\",80), (\"grapes\", 1000)]\n",
    "sorted_l= sorted(l1, key=lambda x:x[1])\n",
    "print(sorted_l)\n"
   ]
  },
  {
   "cell_type": "code",
   "execution_count": 36,
   "id": "053cbc63",
   "metadata": {},
   "outputs": [
    {
     "name": "stdout",
     "output_type": "stream",
     "text": [
      "[0, 1, 4, 9, 16, 25, 36, 49, 64, 81, 100]\n"
     ]
    }
   ],
   "source": [
    "sq = [x**2 for x in range(0,11) ]\n",
    "print(sq)"
   ]
  },
  {
   "cell_type": "code",
   "execution_count": 38,
   "id": "b48fbe59",
   "metadata": {},
   "outputs": [
    {
     "name": "stdout",
     "output_type": "stream",
     "text": [
      "[0, 1, 8, 27, 64, 125, 216, 343, 512, 729, 1000]\n"
     ]
    }
   ],
   "source": [
    "cub= [x**3 for x in range(0,11)]\n",
    "print(cub)"
   ]
  },
  {
   "cell_type": "code",
   "execution_count": 42,
   "id": "06e64d36",
   "metadata": {},
   "outputs": [
    {
     "name": "stdout",
     "output_type": "stream",
     "text": [
      "Enter a number: 10\n"
     ]
    },
    {
     "data": {
      "text/plain": [
       "'Even'"
      ]
     },
     "execution_count": 42,
     "metadata": {},
     "output_type": "execute_result"
    }
   ],
   "source": [
    "chek_o_e= lambda x : \"Even\" if x%2 ==0 else \"Odd\"\n",
    "num=int(input(\"Enter a number: \"))\n",
    "chek_o_e(num)"
   ]
  },
  {
   "cell_type": "code",
   "execution_count": 50,
   "id": "df8b5821",
   "metadata": {},
   "outputs": [
    {
     "name": "stdout",
     "output_type": "stream",
     "text": [
      "[1, 3, 5, 7, 9]\n"
     ]
    }
   ],
   "source": [
    "l2=[1,2,3,4,5,6,7,8,9,10]\n",
    "fun_odd= lambda x : x%2!=0 \n",
    "filter_number=list(filter(fun_odd,l2))\n",
    "print(filter_number)"
   ]
  },
  {
   "cell_type": "code",
   "execution_count": 56,
   "id": "1dd40a6e",
   "metadata": {},
   "outputs": [
    {
     "name": "stdout",
     "output_type": "stream",
     "text": [
      "[1, 2, 3, 4, 5, 6]\n",
      "[-1, -2, -3, -4, -5]\n"
     ]
    }
   ],
   "source": [
    "l3=[1,2,3,4,5,6,-1,-2,-3,-4,-5,0]\n",
    "pos= lambda x: x if x>0 else None\n",
    "neg= lambda x:x if x<0 else None\n",
    "pos_list=list(map(pos,l3))\n",
    "neg_list= list(map(neg,l3))\n",
    "\n",
    "pos_list=list(filter(lambda x: x is not None, pos_list))\n",
    "neg_list=list(filter(lambda x: x is not None, neg_list))\n",
    "\n",
    "\n",
    "print(pos_list)\n",
    "print(neg_list)"
   ]
  }
 ],
 "metadata": {
  "kernelspec": {
   "display_name": "Python 3 (ipykernel)",
   "language": "python",
   "name": "python3"
  },
  "language_info": {
   "codemirror_mode": {
    "name": "ipython",
    "version": 3
   },
   "file_extension": ".py",
   "mimetype": "text/x-python",
   "name": "python",
   "nbconvert_exporter": "python",
   "pygments_lexer": "ipython3",
   "version": "3.10.9"
  }
 },
 "nbformat": 4,
 "nbformat_minor": 5
}

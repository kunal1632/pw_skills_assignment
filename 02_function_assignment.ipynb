{
 "cells": [
  {
   "cell_type": "markdown",
   "id": "a8a5c9ce",
   "metadata": {},
   "source": [
    "### Q1. Which keyword is used to create a function? Create a function to return a list of odd numbers in the range of 1 to 25."
   ]
  },
  {
   "cell_type": "markdown",
   "id": "049cfc79",
   "metadata": {},
   "source": [
    "def keyword is used to create a function in python"
   ]
  },
  {
   "cell_type": "code",
   "execution_count": 3,
   "id": "665bcf47",
   "metadata": {},
   "outputs": [
    {
     "name": "stdout",
     "output_type": "stream",
     "text": [
      "[1, 3, 5, 7, 9, 11, 13, 15, 17, 19, 21, 23, 25]\n"
     ]
    }
   ],
   "source": [
    "def lst_odd():\n",
    "    lst=[]\n",
    "    for i in range(26):\n",
    "        if i%2==1:\n",
    "            lst.append(i)\n",
    "        \n",
    "    print(lst)\n",
    "    \n",
    "    \n",
    "lst_odd()"
   ]
  },
  {
   "cell_type": "markdown",
   "id": "8d3ef406",
   "metadata": {},
   "source": [
    "### Q2. Why *args and **kwargs is used in some functions? Create a function each for *args and **kwargs to demonstrate their use."
   ]
  },
  {
   "cell_type": "markdown",
   "id": "c5cf92d2",
   "metadata": {},
   "source": [
    "We use *args and **kwargs when we are not sure about the number of arguments to pass in the function"
   ]
  },
  {
   "cell_type": "code",
   "execution_count": 69,
   "id": "93906e0b",
   "metadata": {},
   "outputs": [
    {
     "name": "stdout",
     "output_type": "stream",
     "text": [
      "(21, 20) {'name': 'kunal', 'age': 21}\n"
     ]
    }
   ],
   "source": [
    "def student(*args,**kwargs):\n",
    "    print(args,kwargs)\n",
    "    \n",
    "student(21,20,name=\"kunal\",age=21)"
   ]
  },
  {
   "cell_type": "markdown",
   "id": "10b018e3",
   "metadata": {},
   "source": [
    "### Q3. What is an iterator in python? Name the method used to initialise the iterator object and the method used for iteration. Use these methods to print the first five elements of the given list [2, 4, 6, 8, 10, 12, 14, 16, 18, 20]."
   ]
  },
  {
   "cell_type": "markdown",
   "id": "287e4e53",
   "metadata": {},
   "source": [
    "An iterator is an object that can be iterated upon, meaning that you can traverse through all the values.\n",
    "__iter__() and __next__().method is used to initalise and iterat the object \n"
   ]
  },
  {
   "cell_type": "code",
   "execution_count": 73,
   "id": "a7764939",
   "metadata": {},
   "outputs": [
    {
     "name": "stdout",
     "output_type": "stream",
     "text": [
      "Apple\n",
      "Mango\n",
      "Grapes\n",
      "Banana\n",
      "Watermelon\n"
     ]
    }
   ],
   "source": [
    "fruits=('Apple','Mango','Grapes','Banana','Watermelon')\n",
    "\n",
    "fruits_it=iter(fruits)\n",
    "print(next(fruits_it))\n",
    "print(next(fruits_it))\n",
    "print(next(fruits_it))\n",
    "print(next(fruits_it))\n",
    "print(next(fruits_it))"
   ]
  },
  {
   "cell_type": "markdown",
   "id": "e3f6e93e",
   "metadata": {},
   "source": [
    "### Q4. What is a generator function in python? Why yield keyword is used? Give an example of a generator function."
   ]
  },
  {
   "cell_type": "markdown",
   "id": "cfea0814",
   "metadata": {},
   "source": [
    " A generator is a function that returns an iterator that produces a sequence of values when iterated over.\n",
    " Yield keyword is used to return the iterator value one by one"
   ]
  },
  {
   "cell_type": "code",
   "execution_count": 75,
   "id": "ab53c7ab",
   "metadata": {},
   "outputs": [
    {
     "name": "stdout",
     "output_type": "stream",
     "text": [
      "0\n",
      "2\n",
      "4\n",
      "6\n",
      "8\n",
      "10\n",
      "12\n",
      "14\n",
      "16\n",
      "18\n"
     ]
    }
   ],
   "source": [
    "def even_genr(num):\n",
    "    for i in range(num):\n",
    "        if i%2==0:\n",
    "            yield i\n",
    "        \n",
    "        \n",
    "for x in even_genr(20):\n",
    "    print(x)"
   ]
  },
  {
   "cell_type": "markdown",
   "id": "2eb6c9fd",
   "metadata": {},
   "source": [
    "### Q5. Create a generator function for prime numbers less than 1000. Use the next() method to print the first 20 prime numbers."
   ]
  },
  {
   "cell_type": "code",
   "execution_count": 120,
   "id": "3d823e37",
   "metadata": {},
   "outputs": [
    {
     "name": "stdout",
     "output_type": "stream",
     "text": [
      "997\n",
      "991\n",
      "983\n",
      "977\n",
      "971\n",
      "967\n",
      "953\n",
      "947\n",
      "941\n",
      "937\n",
      "929\n",
      "919\n",
      "911\n",
      "907\n",
      "887\n",
      "883\n",
      "881\n",
      "877\n",
      "863\n",
      "859\n",
      "857\n",
      "853\n",
      "839\n",
      "829\n",
      "827\n",
      "823\n",
      "821\n",
      "811\n",
      "809\n",
      "797\n",
      "787\n",
      "773\n",
      "769\n",
      "761\n",
      "757\n",
      "751\n",
      "743\n",
      "739\n",
      "733\n",
      "727\n",
      "719\n",
      "709\n",
      "701\n",
      "691\n",
      "683\n",
      "677\n",
      "673\n",
      "661\n",
      "659\n",
      "653\n",
      "647\n",
      "643\n",
      "641\n",
      "631\n",
      "619\n",
      "617\n",
      "613\n",
      "607\n",
      "601\n",
      "599\n",
      "593\n",
      "587\n",
      "577\n",
      "571\n",
      "569\n",
      "563\n",
      "557\n",
      "547\n",
      "541\n",
      "523\n",
      "521\n",
      "509\n",
      "503\n",
      "499\n",
      "491\n",
      "487\n",
      "479\n",
      "467\n",
      "463\n",
      "461\n",
      "457\n",
      "449\n",
      "443\n",
      "439\n",
      "433\n",
      "431\n",
      "421\n",
      "419\n",
      "409\n",
      "401\n",
      "397\n",
      "389\n",
      "383\n",
      "379\n",
      "373\n",
      "367\n",
      "359\n",
      "353\n",
      "349\n",
      "347\n",
      "337\n",
      "331\n",
      "317\n",
      "313\n",
      "311\n",
      "307\n",
      "293\n",
      "283\n",
      "281\n",
      "277\n",
      "271\n",
      "269\n",
      "263\n",
      "257\n",
      "251\n",
      "241\n",
      "239\n",
      "233\n",
      "229\n",
      "227\n",
      "223\n",
      "211\n",
      "199\n",
      "197\n",
      "193\n",
      "191\n",
      "181\n",
      "179\n",
      "173\n",
      "167\n",
      "163\n",
      "157\n",
      "151\n",
      "149\n",
      "139\n",
      "137\n",
      "131\n",
      "127\n",
      "113\n",
      "109\n",
      "107\n",
      "103\n",
      "101\n",
      "97\n",
      "89\n",
      "83\n",
      "79\n",
      "73\n",
      "71\n",
      "67\n",
      "61\n",
      "59\n",
      "53\n",
      "47\n",
      "43\n",
      "41\n",
      "37\n",
      "31\n",
      "29\n",
      "23\n",
      "19\n",
      "17\n",
      "13\n",
      "11\n",
      "7\n",
      "5\n",
      "3\n",
      "2\n"
     ]
    }
   ],
   "source": [
    "def prime_no(num):\n",
    "    for i in range(num,0,-1):\n",
    "        temp=i\n",
    "        while True:\n",
    "            temp=temp-1\n",
    "            if temp==1:\n",
    "                yield i\n",
    "            elif temp==0:\n",
    "                break\n",
    "            elif i%temp==0:\n",
    "                break\n",
    "            \n",
    "            \n",
    "        \n",
    "for x in prime_no(1000):\n",
    "        print(x)\n"
   ]
  }
 ],
 "metadata": {
  "kernelspec": {
   "display_name": "Python 3 (ipykernel)",
   "language": "python",
   "name": "python3"
  },
  "language_info": {
   "codemirror_mode": {
    "name": "ipython",
    "version": 3
   },
   "file_extension": ".py",
   "mimetype": "text/x-python",
   "name": "python",
   "nbconvert_exporter": "python",
   "pygments_lexer": "ipython3",
   "version": "3.10.9"
  }
 },
 "nbformat": 4,
 "nbformat_minor": 5
}

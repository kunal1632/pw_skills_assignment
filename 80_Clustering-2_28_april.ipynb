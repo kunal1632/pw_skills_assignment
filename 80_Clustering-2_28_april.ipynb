{
 "cells": [
  {
   "cell_type": "markdown",
   "id": "cd59aadd",
   "metadata": {},
   "source": [
    "### Q1. What is hierarchical clustering, and how is it different from other clustering techniques?\n"
   ]
  },
  {
   "cell_type": "markdown",
   "id": "6b4d0bc9",
   "metadata": {},
   "source": [
    "Hierarchical clustering is a popular method used in unsupervised machine learning to group similar data points into clusters based on their similarities. The main difference between hierarchical clustering and other clustering techniques lies in the way clusters are formed and represented.\n",
    "\n",
    "Hierarchical clustering, as the name suggests, creates a hierarchical representation of data points by iteratively merging or splitting clusters. There are two main approaches to hierarchical clustering:\n",
    "\n",
    "1. Agglomerative Hierarchical Clustering: This is a bottom-up approach where each data point starts as its own cluster, and then clusters are successively merged based on their similarity until all data points belong to a single cluster. The process is visualized as a dendrogram, a tree-like structure that shows the hierarchical relationships between the clusters.\n",
    "\n",
    "2. Divisive Hierarchical Clustering: This is a top-down approach where all data points initially belong to one cluster, and then clusters are recursively split into smaller clusters until each data point forms its own individual cluster.\n",
    "\n",
    "Advantages of Hierarchical Clustering:\n",
    "- Hierarchical clustering provides a visualization of clustering results through dendrograms, making it easier to understand the relationships and hierarchy between clusters.\n",
    "- It does not require specifying the number of clusters in advance, making it useful when the optimal number of clusters is unknown.\n",
    "- It can handle non-spherical and irregularly shaped clusters.\n",
    "\n",
    "On the other hand, other clustering techniques, such as K-means clustering and density-based clustering (e.g., DBSCAN), differ in their approach:\n",
    "\n",
    "1. K-means clustering: This is a partition-based method where the data points are divided into a fixed number (K) of clusters, and the algorithm aims to minimize the distance between each data point and the centroid of its assigned cluster.\n",
    "\n",
    "2. Density-based clustering (DBSCAN): This technique groups data points based on their density within the feature space. It identifies dense regions as clusters and can handle noisy data and clusters of varying shapes and sizes.\n",
    "\n",
    "Advantages of other clustering techniques:\n",
    "- K-means clustering is computationally efficient and can work well with large datasets.\n",
    "- DBSCAN can discover clusters of arbitrary shapes and effectively handle outliers."
   ]
  },
  {
   "cell_type": "markdown",
   "id": "865d5b7c",
   "metadata": {},
   "source": [
    "### Q2. What are the two main types of hierarchical clustering algorithms? Describe each in brief.\n"
   ]
  },
  {
   "cell_type": "markdown",
   "id": "0458f13c",
   "metadata": {},
   "source": [
    "The two main types of hierarchical clustering algorithms are:\n",
    "\n",
    "1. Agglomerative Hierarchical Clustering:\n",
    "Agglomerative hierarchical clustering is a bottom-up approach where each data point starts as its own individual cluster. The algorithm then iteratively merges the most similar clusters until all data points belong to a single cluster. The process is as follows:\n",
    "\n",
    "- Initially, each data point is considered as a separate cluster.\n",
    "- The two closest clusters based on a specified distance metric (e.g., Euclidean distance) are combined into a new larger cluster.\n",
    "- This process is repeated, and the closest clusters are continually merged, forming a dendrogram that represents the hierarchy of cluster relationships.\n",
    "- The algorithm continues until all data points are part of the same cluster or until a stopping criterion is met.\n",
    "\n",
    "2. Divisive Hierarchical Clustering:\n",
    "Divisive hierarchical clustering is a top-down approach where all data points start in one cluster, representing the entire dataset. The algorithm then recursively splits this cluster into smaller clusters until each data point becomes its own individual cluster. The process is as follows:\n",
    "\n",
    "- Initially, all data points are considered part of one cluster.\n",
    "- The cluster is split into two sub-clusters based on a specified distance metric or dissimilarity measure.\n",
    "- The splitting process is recursively applied to each sub-cluster, dividing them further into smaller clusters, forming a dendrogram as well.\n",
    "\n",
    "The main difference between agglomerative and divisive hierarchical clustering is the direction of the clustering process:\n",
    "\n",
    "- Agglomerative starts with individual data points and merges them to form larger clusters.\n",
    "- Divisive starts with a single cluster encompassing all data points and recursively splits it into smaller clusters.\n",
    "\n",
    "Both approaches result in a hierarchical representation of the data, where the leaves of the dendrogram represent individual data points, and the internal nodes represent clusters at various levels of similarity. The height of the dendrogram represents the dissimilarity at which clusters are merged (agglomerative) or split (divisive) during the algorithm's execution."
   ]
  },
  {
   "cell_type": "markdown",
   "id": "9c2166c0",
   "metadata": {},
   "source": [
    "### Q3. How do you determine the distance between two clusters in hierarchical clustering, and what are the common distance metrics used?\n"
   ]
  },
  {
   "cell_type": "code",
   "execution_count": null,
   "id": "03105b4e",
   "metadata": {},
   "outputs": [],
   "source": []
  },
  {
   "cell_type": "markdown",
   "id": "80eaa45a",
   "metadata": {},
   "source": [
    "### Q4. How do you determine the optimal number of clusters in hierarchical clustering, and what are some common methods used for this purpose?\n"
   ]
  },
  {
   "cell_type": "code",
   "execution_count": null,
   "id": "81d630a6",
   "metadata": {},
   "outputs": [],
   "source": []
  },
  {
   "cell_type": "markdown",
   "id": "e968d80c",
   "metadata": {},
   "source": [
    "### Q5. What are dendrograms in hierarchical clustering, and how are they useful in analyzing the results?\n"
   ]
  },
  {
   "cell_type": "code",
   "execution_count": null,
   "id": "2aaf4da0",
   "metadata": {},
   "outputs": [],
   "source": []
  },
  {
   "cell_type": "markdown",
   "id": "bce579b1",
   "metadata": {},
   "source": [
    "### Q6. Can hierarchical clustering be used for both numerical and categorical data? If yes, how are the distance metrics different for each type of data?\n"
   ]
  },
  {
   "cell_type": "code",
   "execution_count": null,
   "id": "95d6dcb5",
   "metadata": {},
   "outputs": [],
   "source": []
  },
  {
   "cell_type": "markdown",
   "id": "13fe4f13",
   "metadata": {},
   "source": [
    "### Q7. How can you use hierarchical clustering to identify outliers or anomalies in your data?"
   ]
  },
  {
   "cell_type": "code",
   "execution_count": null,
   "id": "195c6e76",
   "metadata": {},
   "outputs": [],
   "source": []
  }
 ],
 "metadata": {
  "kernelspec": {
   "display_name": "Python 3 (ipykernel)",
   "language": "python",
   "name": "python3"
  },
  "language_info": {
   "codemirror_mode": {
    "name": "ipython",
    "version": 3
   },
   "file_extension": ".py",
   "mimetype": "text/x-python",
   "name": "python",
   "nbconvert_exporter": "python",
   "pygments_lexer": "ipython3",
   "version": "3.10.9"
  }
 },
 "nbformat": 4,
 "nbformat_minor": 5
}

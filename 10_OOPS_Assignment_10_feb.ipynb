{
 "cells": [
  {
   "cell_type": "markdown",
   "id": "4fbc80e6",
   "metadata": {},
   "source": [
    "### Q1. Which function is used to open a file? What are the different modes of opening a file? Explain each mode of file opening."
   ]
  },
  {
   "cell_type": "markdown",
   "id": "a9d0d383",
   "metadata": {},
   "source": [
    " the open() function is used to open a file.\n",
    " 'r' (Read mode): This is the default mode. It opens the file for reading. \n",
    " \n",
    "'w' (Write mode): It opens the file for writing. If the file doesn't exist, it creates a new file. If the file already exists, it truncates its contents. This means that it removes the existing content of the file. If successful, it returns the file object.\n",
    "\n",
    "'a' (Append mode): It opens the file for appending data. If the file doesn't exist, it creates a new file. The difference between the write mode and the append mode is that the append mode does not truncate the file. Instead, it adds the new content at the end of the file. If successful, it returns the file object.\n",
    "\n",
    "'b' (Binary mode): It opens the file in binary mode. This mode is used to read or write binary data, such as images, audio files, etc. It can be combined with other modes, such as 'rb' for reading a binary file or 'wb' for writing a binary file.\n",
    "\n",
    "'t' (Text mode): This is the default mode and it opens the file in text mode. It is used to read or write text data. It can be combined with other modes, such as 'rt' for reading a text file or 'wt' for writing a text file"
   ]
  },
  {
   "cell_type": "markdown",
   "id": "3e1e653b",
   "metadata": {},
   "source": [
    "### Q2. Why close() function is used? Why is it important to close a file?"
   ]
  },
  {
   "cell_type": "markdown",
   "id": "2f960ddb",
   "metadata": {},
   "source": [
    "The close() function is used to release resources, ensure data integrity, and allow other programs to access the file. It is important to close a file to manage resources efficiently, prevent data loss, and enable collaboration with other processes."
   ]
  },
  {
   "cell_type": "markdown",
   "id": "5d692678",
   "metadata": {},
   "source": [
    "### Q3. Write a python program to create a text file. Write ‘I want to become a Data Scientist’ in that file. Then close the file. Open this file and read the content of the file."
   ]
  },
  {
   "cell_type": "code",
   "execution_count": 1,
   "id": "2b220518",
   "metadata": {},
   "outputs": [
    {
     "name": "stdout",
     "output_type": "stream",
     "text": [
      "I want to become a Data scientist\n"
     ]
    }
   ],
   "source": [
    "file_name = \"01_10_feb_asssignment.text\"\n",
    "content=\"I want to become a Data scientist\"\n",
    "\n",
    "with open(file_name,'w') as file:\n",
    "    file.write(content)\n",
    "    \n",
    "with open(file_name,'r') as file:\n",
    "    file_content = file.read()\n",
    "\n",
    "print(file_content)"
   ]
  },
  {
   "cell_type": "markdown",
   "id": "d2873bc3",
   "metadata": {},
   "source": [
    "### Q4. Explain the following with python code: read(), readline() and readlines()."
   ]
  },
  {
   "cell_type": "markdown",
   "id": "8a805cb5",
   "metadata": {},
   "source": [
    "The read() method is used to read the entire content of a file as a string. It reads and returns the entire content of the file in one go.\n",
    "\n",
    "The readline() method is used to read a single line from a file. It reads and returns the next line from the file each time it is called.\n",
    "python\n",
    "\n",
    "The readlines() method is used to read all lines from a file and returns them as a list of strings. Each line is stored as an element in the list."
   ]
  },
  {
   "cell_type": "markdown",
   "id": "1dfe4262",
   "metadata": {},
   "source": [
    "### Q5. Explain why with statement is used with open(). What is the advantage of using with statement and open() together?"
   ]
  },
  {
   "cell_type": "markdown",
   "id": "8b64b32a",
   "metadata": {},
   "source": [
    "The with statement works with the open() function to open a file. Unlike open() where you have to close the file with the close() method, the with statement closes the file for you without you telling it to"
   ]
  },
  {
   "cell_type": "markdown",
   "id": "4cc11e4c",
   "metadata": {},
   "source": [
    "### Q6. Explain the write() and writelines() functions. Give a suitable example."
   ]
  },
  {
   "cell_type": "markdown",
   "id": "d1a5e66d",
   "metadata": {},
   "source": [
    "The write() function is used to write a string or bytes object to a file. It appends the given content at the end of the file or overwrites the existing content if the file was opened in write mode. It returns the number of characters (or bytes) written.\n",
    "\n",
    "The writelines() function is used to write multiple strings or iterable of strings to a file. It takes an iterable as input and writes each element as a separate line in the file. No newline characters are added by default."
   ]
  }
 ],
 "metadata": {
  "kernelspec": {
   "display_name": "Python 3 (ipykernel)",
   "language": "python",
   "name": "python3"
  },
  "language_info": {
   "codemirror_mode": {
    "name": "ipython",
    "version": 3
   },
   "file_extension": ".py",
   "mimetype": "text/x-python",
   "name": "python",
   "nbconvert_exporter": "python",
   "pygments_lexer": "ipython3",
   "version": "3.10.9"
  }
 },
 "nbformat": 4,
 "nbformat_minor": 5
}

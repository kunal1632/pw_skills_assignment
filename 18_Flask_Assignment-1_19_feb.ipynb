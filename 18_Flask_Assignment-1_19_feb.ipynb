{
 "cells": [
  {
   "cell_type": "markdown",
   "id": "8406d3ad",
   "metadata": {},
   "source": [
    "### Q1. What is Flask Framework? What are the advantages of Flask Framework?"
   ]
  },
  {
   "cell_type": "markdown",
   "id": "736bf3f4",
   "metadata": {},
   "source": [
    "\n",
    "Flask is a micro web framework for Python. It provides a minimalistic yet powerful foundation for building web applications.\n",
    "\n",
    "Advantages of Flask Framework:\n",
    "\n",
    "1. Lightweight and Flexible: Flask is designed to be minimalistic and unopinionated, allowing developers to have more control and flexibility over their application's structure and functionality.\n",
    "\n",
    "2. Easy to Learn and Use: Flask has a simple and intuitive API, making it easy for beginners to get started. Its documentation is comprehensive and provides clear guidance for building web applications.\n",
    "\n",
    "3. Extensibility: Flask is highly extensible and allows developers to add additional functionality through various Flask extensions. These extensions provide ready-to-use features such as database integration, authentication, and more.\n",
    "\n",
    "4. Integration with Other Tools and Libraries: Flask seamlessly integrates with other Python libraries and tools, allowing developers to leverage the vast Python ecosystem for tasks such as data manipulation, machine learning, and more.\n",
    "\n",
    "5. Scalability: Flask's lightweight nature makes it well-suited for small to medium-sized applications. It can handle higher traffic volumes with the help of additional components like load balancers or by deploying it as part of larger frameworks like Django."
   ]
  },
  {
   "cell_type": "markdown",
   "id": "d2e8a20e",
   "metadata": {},
   "source": [
    "### Q2. Create a simple Flask application to display ‘Hello World!!’. Attach the screenshot of the output in Jupyter Notebook."
   ]
  },
  {
   "cell_type": "code",
   "execution_count": 2,
   "id": "bd259fd0",
   "metadata": {},
   "outputs": [
    {
     "name": "stdout",
     "output_type": "stream",
     "text": [
      " * Serving Flask app '__main__'\n",
      " * Debug mode: off\n"
     ]
    },
    {
     "name": "stderr",
     "output_type": "stream",
     "text": [
      "\u001b[31m\u001b[1mWARNING: This is a development server. Do not use it in a production deployment. Use a production WSGI server instead.\u001b[0m\n",
      " * Running on http://127.0.0.1:5000\n",
      "\u001b[33mPress CTRL+C to quit\u001b[0m\n",
      "127.0.0.1 - - [23/Jun/2023 11:18:21] \"GET / HTTP/1.1\" 200 -\n",
      "127.0.0.1 - - [23/Jun/2023 11:18:21] \"\u001b[33mGET /favicon.ico HTTP/1.1\u001b[0m\" 404 -\n"
     ]
    }
   ],
   "source": [
    "from flask import Flask\n",
    "\n",
    "app=Flask(__name__)\n",
    "\n",
    "@app.route('/')\n",
    "def hello_word():\n",
    "    return \"HEllO WORD\"\n",
    "if __name__ == '__main__':\n",
    "    app.run()"
   ]
  },
  {
   "cell_type": "markdown",
   "id": "ac81718c",
   "metadata": {},
   "source": [
    "![screenshot](Screenshot_20230623_111855.png)"
   ]
  },
  {
   "cell_type": "markdown",
   "id": "b844f134",
   "metadata": {},
   "source": [
    "### Q3. What is App routing in Flask? Why do we use app routes?"
   ]
  },
  {
   "cell_type": "markdown",
   "id": "b553b6f7",
   "metadata": {},
   "source": [
    "App routing in Flask refers to the process of mapping URL paths to specific functions or view handlers in a Flask application. It allows you to define different routes or URLs for different parts of your application and associate them with corresponding functions that handle the requests for those routes.\n",
    "\n",
    "We use app routes in Flask to define the behavior of our application based on different URL paths. Each app route corresponds to a specific URL, and when a user visits that URL, the associated function is executed to generate the response. App routes provide a way to create dynamic and interactive web applications where different functionalities are triggered based on the requested URLs."
   ]
  },
  {
   "cell_type": "markdown",
   "id": "acc6fe41",
   "metadata": {},
   "source": [
    "### Q4. Create a “/welcome” route to display the welcome message “Welcome to ABC Corporation” and a “/” route to show the following details:\n",
    "1. Company Name: ABC Corporation\n",
    "2. Location: India\n",
    "3. Contact Detail: 999-999-9999"
   ]
  },
  {
   "cell_type": "code",
   "execution_count": 4,
   "id": "553789d1",
   "metadata": {},
   "outputs": [
    {
     "name": "stdout",
     "output_type": "stream",
     "text": [
      " * Serving Flask app '__main__'\n",
      " * Debug mode: off\n"
     ]
    },
    {
     "name": "stderr",
     "output_type": "stream",
     "text": [
      "\u001b[31m\u001b[1mWARNING: This is a development server. Do not use it in a production deployment. Use a production WSGI server instead.\u001b[0m\n",
      " * Running on http://127.0.0.1:5000\n",
      "\u001b[33mPress CTRL+C to quit\u001b[0m\n",
      "127.0.0.1 - - [23/Jun/2023 11:31:49] \"GET / HTTP/1.1\" 200 -\n",
      "127.0.0.1 - - [23/Jun/2023 11:32:14] \"GET / HTTP/1.1\" 200 -\n",
      "127.0.0.1 - - [23/Jun/2023 11:32:20] \"GET /welcome HTTP/1.1\" 200 -\n"
     ]
    }
   ],
   "source": [
    "app = Flask(__name__)\n",
    "\n",
    "@app.route('/welcome')\n",
    "def welcome():\n",
    "    return \"Welcome to ABC Corporation\"\n",
    "@app.route('/')\n",
    "def details():\n",
    "    return '''\n",
    "    <h1>ABC Corporation</h1>\n",
    "    <h2>Location: India</h2>\n",
    "    <h2>Contact details:999-999-9999</h2>\n",
    "    '''\n",
    "if __name__==\"__main__\":\n",
    "    app.run()"
   ]
  },
  {
   "cell_type": "markdown",
   "id": "5447edb1",
   "metadata": {},
   "source": [
    "![screenshot](Screenshot_20230623_113033.png)"
   ]
  },
  {
   "cell_type": "markdown",
   "id": "b17a687c",
   "metadata": {},
   "source": [
    "![screenshot](Screenshot_20230623_113205.png)"
   ]
  },
  {
   "cell_type": "markdown",
   "id": "a658f234",
   "metadata": {},
   "source": [
    "### Q5. What function is used in Flask for URL Building? Write a Python code to demonstrate the working of the url_for() function."
   ]
  },
  {
   "cell_type": "markdown",
   "id": "5a8aec49",
   "metadata": {},
   "source": [
    "The url_for() function in Flask is used for URL building. It generates a URL for a given endpoint (view function) based on its name."
   ]
  },
  {
   "cell_type": "code",
   "execution_count": 9,
   "id": "bcb4948a",
   "metadata": {},
   "outputs": [
    {
     "name": "stdout",
     "output_type": "stream",
     "text": [
      "/home\n",
      "/details\n",
      "/contact\n"
     ]
    }
   ],
   "source": [
    "from flask import Flask,url_for\n",
    "app = Flask(__name__)\n",
    "\n",
    "@app.route('/home')\n",
    "def home():\n",
    "    return \"home page\"\n",
    "@app.route('/details')\n",
    "def details():\n",
    "    return \"details page\"\n",
    "@app.route('/contact')\n",
    "def contact():\n",
    "    return \"contact page\"\n",
    "\n",
    "if __name__ == \"__main__\":\n",
    "    with app.test_request_context():\n",
    "        print(url_for('home'))\n",
    "        print(url_for('details'))\n",
    "        print(url_for('contact'))"
   ]
  }
 ],
 "metadata": {
  "kernelspec": {
   "display_name": "Python 3 (ipykernel)",
   "language": "python",
   "name": "python3"
  },
  "language_info": {
   "codemirror_mode": {
    "name": "ipython",
    "version": 3
   },
   "file_extension": ".py",
   "mimetype": "text/x-python",
   "name": "python",
   "nbconvert_exporter": "python",
   "pygments_lexer": "ipython3",
   "version": "3.10.9"
  }
 },
 "nbformat": 4,
 "nbformat_minor": 5
}

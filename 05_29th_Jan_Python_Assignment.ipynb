{
 "cells": [
  {
   "cell_type": "markdown",
   "id": "87fe54b3",
   "metadata": {},
   "source": [
    "ans1- Guido van Rossum"
   ]
  },
  {
   "cell_type": "markdown",
   "id": "1d1bdf8d",
   "metadata": {},
   "source": [
    "ans2- Python is an interpreted, interactive, object-oriented programming language."
   ]
  },
  {
   "cell_type": "markdown",
   "id": "6243c0f8",
   "metadata": {},
   "source": [
    "ans3- Yes, Python is a case-sensitive language. "
   ]
  },
  {
   "cell_type": "markdown",
   "id": "e8f4b6c7",
   "metadata": {},
   "source": [
    "ans4- .py"
   ]
  },
  {
   "cell_type": "markdown",
   "id": "1e669779",
   "metadata": {},
   "source": [
    "ans5- interpreted"
   ]
  },
  {
   "cell_type": "markdown",
   "id": "554f297f",
   "metadata": {},
   "source": [
    "ans6- function, module and class"
   ]
  },
  {
   "cell_type": "markdown",
   "id": "4923211a",
   "metadata": {},
   "source": [
    "ans7- #"
   ]
  },
  {
   "cell_type": "markdown",
   "id": "50011b32",
   "metadata": {},
   "source": [
    "ans8- sys"
   ]
  },
  {
   "cell_type": "markdown",
   "id": "3de83e85",
   "metadata": {},
   "source": [
    "ans9- lambda"
   ]
  },
  {
   "cell_type": "markdown",
   "id": "a0b9f257",
   "metadata": {},
   "source": [
    "ans10- pip install packages"
   ]
  },
  {
   "cell_type": "markdown",
   "id": "b8582ed3",
   "metadata": {},
   "source": [
    "ans11- print(), min(), max(), sum(), if(), for()"
   ]
  },
  {
   "cell_type": "markdown",
   "id": "f7c97e6d",
   "metadata": {},
   "source": [
    "ans12- 79 charachters"
   ]
  },
  {
   "cell_type": "markdown",
   "id": "09952d8a",
   "metadata": {},
   "source": [
    "ans13- 1. very powerfull libraries\n",
    "       2. huge community\n",
    "       3. easy to learn syntax\n",
    "       4. free and open source"
   ]
  },
  {
   "cell_type": "markdown",
   "id": "fbd1f3f5",
   "metadata": {},
   "source": [
    "ans14- Python uses the dynamic memory allocation which is managed by the Heap data structure."
   ]
  },
  {
   "cell_type": "markdown",
   "id": "e79fbaa1",
   "metadata": {},
   "source": [
    "ans15- we can install python by going on python.org site and download and install python exe file and then we can copy the path and set on the windows enviroment vairables"
   ]
  },
  {
   "cell_type": "markdown",
   "id": "652f071b",
   "metadata": {},
   "source": [
    "ans16- yes python requires indentations "
   ]
  }
 ],
 "metadata": {
  "kernelspec": {
   "display_name": "Python 3 (ipykernel)",
   "language": "python",
   "name": "python3"
  },
  "language_info": {
   "codemirror_mode": {
    "name": "ipython",
    "version": 3
   },
   "file_extension": ".py",
   "mimetype": "text/x-python",
   "name": "python",
   "nbconvert_exporter": "python",
   "pygments_lexer": "ipython3",
   "version": "3.10.9"
  }
 },
 "nbformat": 4,
 "nbformat_minor": 5
}

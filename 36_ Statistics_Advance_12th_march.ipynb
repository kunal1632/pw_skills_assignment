{
 "cells": [
  {
   "cell_type": "markdown",
   "id": "fd1199a0",
   "metadata": {},
   "source": [
    "### Q1. Calculate the 95% confidence interval for a sample of data with a mean of 50 and a standard deviation of 5 using Python. Interpret the results.\n"
   ]
  },
  {
   "cell_type": "code",
   "execution_count": 1,
   "id": "e49027e8",
   "metadata": {},
   "outputs": [
    {
     "name": "stdout",
     "output_type": "stream",
     "text": [
      "Confidence Interval: (49.02, 50.98)\n"
     ]
    }
   ],
   "source": [
    "import math\n",
    "\n",
    "mean = 50\n",
    "std_dev = 5\n",
    "sample_size = 100\n",
    "confidence_level = 0.95\n",
    "critical_value = 1.96\n",
    "\n",
    "margin_of_error = critical_value * (std_dev / math.sqrt(sample_size))\n",
    "confidence_interval = (mean - margin_of_error, mean + margin_of_error)\n",
    "\n",
    "print(\"Confidence Interval:\", confidence_interval)\n"
   ]
  },
  {
   "cell_type": "code",
   "execution_count": null,
   "id": "28a982e9",
   "metadata": {},
   "outputs": [],
   "source": []
  },
  {
   "cell_type": "markdown",
   "id": "be1956b4",
   "metadata": {},
   "source": [
    "### Q2. Conduct a chi-square goodness of fit test to determine if the distribution of colors of M&Ms in a bag matches the expected distribution of 20% blue, 20% orange, 20% green, 10% yellow, 10% red, and 20% brown. Use Python to perform the test with a significance level of 0.05."
   ]
  },
  {
   "cell_type": "code",
   "execution_count": 13,
   "id": "fbe8b64e",
   "metadata": {},
   "outputs": [
    {
     "name": "stdout",
     "output_type": "stream",
     "text": [
      "100 100\n",
      "Chi-square test statistic: 2.85\n",
      "p-value: 0.7230980669678346\n",
      "The distribution of colors in the M&M bag matches the expected distribution.\n"
     ]
    }
   ],
   "source": [
    "import scipy.stats as stat\n",
    "import numpy as np\n",
    "\n",
    "# Observed frequencies\n",
    "observed = [25, 15, 18, 11, 10, 21]  # The counts of each color in the bag\n",
    "\n",
    "# Expected frequencies based on the given distribution\n",
    "expected = [20,20,20,10,10,20]\n",
    "print(sum(observed),sum(expected))\n",
    "\n",
    "# Perform the chi-square test\n",
    "chi2, p = chisquare(f_obs=observed, f_exp=expected)\n",
    "\n",
    "# Print the test statistics and p-value\n",
    "print(\"Chi-square test statistic:\", chi2)\n",
    "print(\"p-value:\", p)\n",
    "\n",
    "# Check if the result is statistically significant\n",
    "alpha = 0.05\n",
    "if p < alpha:\n",
    "    print(\"The distribution of colors in the M&M bag does not match the expected distribution.\")\n",
    "else:\n",
    "    print(\"The distribution of colors in the M&M bag matches the expected distribution.\")\n"
   ]
  },
  {
   "cell_type": "markdown",
   "id": "963c2cad",
   "metadata": {},
   "source": [
    "### Q3. Use Python to calculate the chi-square statistic and p-value for a contingency table with the following data:\n",
    "\n",
    "Group A Group B\n",
    "- Outcome 1 20 15\n",
    "- Outcome 2 10 25\n",
    "- Outcome 3 15 20\n",
    "\n",
    "### Interpret the results of the test."
   ]
  },
  {
   "cell_type": "code",
   "execution_count": 14,
   "id": "309459af",
   "metadata": {},
   "outputs": [
    {
     "name": "stdout",
     "output_type": "stream",
     "text": [
      "Chi-square test statistic: 5.833333333333334\n",
      "p-value: 0.05411376622282158\n",
      "There is no evidence of a significant association between Group A and Group B.\n"
     ]
    }
   ],
   "source": [
    "from scipy.stats import chi2_contingency\n",
    "\n",
    "# Contingency table\n",
    "observed = [[20, 15],\n",
    "            [10, 25],\n",
    "            [15, 20]]\n",
    "\n",
    "# Perform chi-square test of independence\n",
    "chi2, p, dof, expected = chi2_contingency(observed)\n",
    "\n",
    "# Print the test statistics and p-value\n",
    "print(\"Chi-square test statistic:\", chi2)\n",
    "print(\"p-value:\", p)\n",
    "\n",
    "# Check if the result is statistically significant\n",
    "alpha = 0.05\n",
    "if p < alpha:\n",
    "    print(\"There is evidence of a significant association between Group A and Group B.\")\n",
    "else:\n",
    "    print(\"There is no evidence of a significant association between Group A and Group B.\")\n"
   ]
  },
  {
   "cell_type": "markdown",
   "id": "494aadd4",
   "metadata": {},
   "source": [
    "### Q4. A study of the prevalence of smoking in a population of 500 individuals found that 60 individuals smoked. Use Python to calculate the 95% confidence interval for the true proportion of individuals in the population who smoke.\n"
   ]
  },
  {
   "cell_type": "code",
   "execution_count": 15,
   "id": "b7c3f7f8",
   "metadata": {},
   "outputs": [
    {
     "name": "stdout",
     "output_type": "stream",
     "text": [
      "Confidence Interval: (0.09151586546865079, 0.1484841345313492)\n"
     ]
    }
   ],
   "source": [
    "import math\n",
    "\n",
    "sample_size = 500\n",
    "smokers = 60\n",
    "sample_proportion = smokers / sample_size\n",
    "critical_value = 1.96\n",
    "\n",
    "standard_error = math.sqrt((sample_proportion * (1 - sample_proportion)) / sample_size)\n",
    "margin_of_error = critical_value * standard_error\n",
    "confidence_interval = (sample_proportion - margin_of_error, sample_proportion + margin_of_error)\n",
    "\n",
    "print(\"Confidence Interval:\", confidence_interval)\n"
   ]
  },
  {
   "cell_type": "markdown",
   "id": "a2254b45",
   "metadata": {},
   "source": [
    "\n",
    "### Q5. Calculate the 90% confidence interval for a sample of data with a mean of 75 and a standard deviation of 12 using Python. Interpret the results.\n"
   ]
  },
  {
   "cell_type": "code",
   "execution_count": 16,
   "id": "af38dd39",
   "metadata": {},
   "outputs": [
    {
     "name": "stdout",
     "output_type": "stream",
     "text": [
      "Confidence Interval: (73.026, 76.974)\n"
     ]
    }
   ],
   "source": [
    "mean = 75\n",
    "std_dev = 12\n",
    "sample_size = 100\n",
    "confidence_level = 0.90\n",
    "critical_value = 1.645\n",
    "\n",
    "margin_of_error = critical_value * (std_dev / math.sqrt(sample_size))\n",
    "confidence_interval = (mean - margin_of_error, mean + margin_of_error)\n",
    "\n",
    "print(\"Confidence Interval:\", confidence_interval)\n"
   ]
  },
  {
   "cell_type": "markdown",
   "id": "6c193342",
   "metadata": {},
   "source": [
    "### Q6. Use Python to plot the chi-square distribution with 10 degrees of freedom. Label the axes and shade the area corresponding to a chi-square statistic of 15.\n"
   ]
  },
  {
   "cell_type": "code",
   "execution_count": 17,
   "id": "490fbaba",
   "metadata": {},
   "outputs": [
    {
     "data": {
      "image/png": "[encoded data removed]",
      "text/plain": [
       "<Figure size 640x480 with 1 Axes>"
      ]
     },
     "metadata": {},
     "output_type": "display_data"
    }
   ],
   "source": [
    "import numpy as np\n",
    "import matplotlib.pyplot as plt\n",
    "from scipy.stats import chi2\n",
    "\n",
    "# Define the degrees of freedom\n",
    "df = 10\n",
    "\n",
    "# Create an array of x values\n",
    "x = np.linspace(0, 30, 500)\n",
    "\n",
    "# Calculate the chi-square probability density function (pdf) for the given degrees of freedom\n",
    "y = chi2.pdf(x, df)\n",
    "\n",
    "# Plot the chi-square distribution\n",
    "plt.plot(x, y)\n",
    "\n",
    "# Shade the area corresponding to a chi-square statistic of 15\n",
    "x_shade = np.linspace(15, 30, 100)\n",
    "y_shade = chi2.pdf(x_shade, df)\n",
    "plt.fill_between(x_shade, y_shade, color='gray', alpha=0.3)\n",
    "\n",
    "# Label the axes\n",
    "plt.xlabel(\"Chi-square statistic\")\n",
    "plt.ylabel(\"Probability Density Function\")\n",
    "\n",
    "# Show the plot\n",
    "plt.show()\n"
   ]
  },
  {
   "cell_type": "markdown",
   "id": "2c3f899a",
   "metadata": {},
   "source": [
    "### Q7. A random sample of 1000 people was asked if they preferred Coke or Pepsi. Of the sample, 520 preferred Coke. Calculate a 99% confidence interval for the true proportion of people in the population who prefer Coke.\n"
   ]
  },
  {
   "cell_type": "code",
   "execution_count": 18,
   "id": "ee38c668",
   "metadata": {},
   "outputs": [
    {
     "name": "stdout",
     "output_type": "stream",
     "text": [
      "Confidence Interval: (0.47930246089012263, 0.5606975391098774)\n"
     ]
    }
   ],
   "source": [
    "import math\n",
    "\n",
    "sample_size = 1000\n",
    "coke_preferred = 520\n",
    "sample_proportion = coke_preferred / sample_size\n",
    "critical_value = 2.576\n",
    "\n",
    "standard_error = math.sqrt((sample_proportion * (1 - sample_proportion)) / sample_size)\n",
    "margin_of_error = critical_value * standard_error\n",
    "confidence_interval = (sample_proportion - margin_of_error, sample_proportion + margin_of_error)\n",
    "\n",
    "print(\"Confidence Interval:\", confidence_interval)\n"
   ]
  },
  {
   "cell_type": "markdown",
   "id": "13a3f1cf",
   "metadata": {},
   "source": [
    "### Q8. A researcher hypothesizes that a coin is biased towards tails. They flip the coin 100 times and observe 45 tails. Conduct a chi-square goodness of fit test to determine if the observed frequencies match the expected frequencies of a fair coin. Use a significance level of 0.05."
   ]
  },
  {
   "cell_type": "code",
   "execution_count": 19,
   "id": "647a20c6",
   "metadata": {},
   "outputs": [
    {
     "name": "stdout",
     "output_type": "stream",
     "text": [
      "Chi-square test statistic: 1.0\n",
      "p-value: 0.31731050786291115\n",
      "The observed frequencies match the expected frequencies of a fair coin.\n"
     ]
    }
   ],
   "source": [
    "from scipy.stats import chisquare\n",
    "\n",
    "# Observed frequencies\n",
    "observed = [45, 55]  # 45 tails, 55 heads\n",
    "\n",
    "# Expected frequencies for a fair coin\n",
    "expected = [50, 50]  # 50 tails, 50 heads\n",
    "\n",
    "# Perform chi-square goodness of fit test\n",
    "chi2, p = chisquare(f_obs=observed, f_exp=expected)\n",
    "\n",
    "# Print the test statistics and p-value\n",
    "print(\"Chi-square test statistic:\", chi2)\n",
    "print(\"p-value:\", p)\n",
    "\n",
    "# Check if the result is statistically significant\n",
    "alpha = 0.05\n",
    "if p < alpha:\n",
    "    print(\"The observed frequencies do not match the expected frequencies of a fair coin.\")\n",
    "else:\n",
    "    print(\"The observed frequencies match the expected frequencies of a fair coin.\")\n"
   ]
  },
  {
   "cell_type": "markdown",
   "id": "a48d9b23",
   "metadata": {},
   "source": [
    "### Q9. A study was conducted to determine if there is an association between smoking status (smoker or non-smoker) and lung cancer diagnosis (yes or no). The results are shown in the contingency table below. Conduct a chi-square test for independence to determine if there is a significant association between smoking status and lung cancer diagnosis.\n",
    "\n",
    "Lung Cancer: Yes Lung Cancer: No\n",
    "\n",
    "- Smoker 60 140\n",
    "- Non-smoker 30 170\n",
    "### Use a significance level of 0.05."
   ]
  },
  {
   "cell_type": "code",
   "execution_count": 20,
   "id": "acf22cec",
   "metadata": {},
   "outputs": [
    {
     "name": "stdout",
     "output_type": "stream",
     "text": [
      "Chi-square test statistic: 12.057347670250895\n",
      "p-value: 0.0005158863863703744\n",
      "There is a significant association between smoking status and lung cancer diagnosis.\n"
     ]
    }
   ],
   "source": [
    "import numpy as np\n",
    "from scipy.stats import chi2_contingency\n",
    "\n",
    "# Contingency table\n",
    "observed = np.array([[60, 140],\n",
    "                     [30, 170]])\n",
    "\n",
    "# Perform chi-square test for independence\n",
    "chi2, p, dof, expected = chi2_contingency(observed)\n",
    "\n",
    "# Print the test statistics and p-value\n",
    "print(\"Chi-square test statistic:\", chi2)\n",
    "print(\"p-value:\", p)\n",
    "\n",
    "# Check if the result is statistically significant\n",
    "alpha = 0.05\n",
    "if p < alpha:\n",
    "    print(\"There is a significant association between smoking status and lung cancer diagnosis.\")\n",
    "else:\n",
    "    print(\"There is no significant association between smoking status and lung cancer diagnosis.\")\n"
   ]
  },
  {
   "cell_type": "markdown",
   "id": "572ebe15",
   "metadata": {},
   "source": [
    "### Q10. A study was conducted to determine if the proportion of people who prefer milk chocolate, dark chocolate, or white chocolate is different in the U.S. versus the U.K. A random sample of 500 people from the U.S. and a random sample of 500 people from the U.K. were surveyed. The results are shown in the contingency table below. Conduct a chi-square test for independence to determine if there is a significant association between chocolate preference and country of origin.\n",
    "\n",
    "Milk Chocolate Dark Chocolate White Chocolate\n",
    "\n",
    "- U.S. (n=500) 200 150 150\n",
    "- U.K. (n=500) 225 175 100\n",
    "\n",
    "### Use a significance level of 0.01.\n"
   ]
  },
  {
   "cell_type": "code",
   "execution_count": 21,
   "id": "61bcee63",
   "metadata": {},
   "outputs": [
    {
     "name": "stdout",
     "output_type": "stream",
     "text": [
      "Chi-square test statistic: 13.393665158371041\n",
      "p-value: 0.0012348168997745918\n",
      "There is a significant association between chocolate preference and country of origin.\n"
     ]
    }
   ],
   "source": [
    "import numpy as np\n",
    "from scipy.stats import chi2_contingency\n",
    "\n",
    "# Contingency table\n",
    "observed = np.array([[200, 150, 150],\n",
    "                     [225, 175, 100]])\n",
    "\n",
    "# Perform chi-square test for independence\n",
    "chi2, p, dof, expected = chi2_contingency(observed)\n",
    "\n",
    "# Print the test statistics and p-value\n",
    "print(\"Chi-square test statistic:\", chi2)\n",
    "print(\"p-value:\", p)\n",
    "\n",
    "# Check if the result is statistically significant\n",
    "alpha = 0.01\n",
    "if p < alpha:\n",
    "    print(\"There is a significant association between chocolate preference and country of origin.\")\n",
    "else:\n",
    "    print(\"There is no significant association between chocolate preference and country of origin.\")\n"
   ]
  },
  {
   "cell_type": "markdown",
   "id": "3be043c9",
   "metadata": {},
   "source": [
    "### Q11. A random sample of 30 people was selected from a population with an unknown mean and standard deviation. The sample mean was found to be 72 and the sample standard deviation was found to be 10. Conduct a hypothesis test to determine if the population mean is significantly different from 70. Use a significance level of 0.05."
   ]
  },
  {
   "cell_type": "code",
   "execution_count": 22,
   "id": "3fbc0ace",
   "metadata": {},
   "outputs": [
    {
     "name": "stdout",
     "output_type": "stream",
     "text": [
      "t-statistic: 1.0954451150103321\n",
      "p-value: 0.2823362372860698\n",
      "The population mean is not significantly different from 70.\n"
     ]
    }
   ],
   "source": [
    "from scipy.stats import t\n",
    "\n",
    "# Sample statistics\n",
    "sample_mean = 72\n",
    "sample_std = 10\n",
    "sample_size = 30\n",
    "\n",
    "# Null hypothesis value\n",
    "null_mean = 70\n",
    "\n",
    "# Calculate the test statistic\n",
    "t_stat = (sample_mean - null_mean) / (sample_std / (sample_size ** 0.5))\n",
    "\n",
    "# Degrees of freedom\n",
    "df = sample_size - 1\n",
    "\n",
    "# Calculate the p-value (two-tailed test)\n",
    "p = 2 * (1 - t.cdf(abs(t_stat), df))\n",
    "\n",
    "# Print the test statistic and p-value\n",
    "print(\"t-statistic:\", t_stat)\n",
    "print(\"p-value:\", p)\n",
    "\n",
    "# Check if the result is statistically significant\n",
    "alpha = 0.05\n",
    "if p < alpha:\n",
    "    print(\"The population mean is significantly different from 70.\")\n",
    "else:\n",
    "    print(\"The population mean is not significantly different from 70.\")\n"
   ]
  }
 ],
 "metadata": {
  "kernelspec": {
   "display_name": "Python 3 (ipykernel)",
   "language": "python",
   "name": "python3"
  },
  "language_info": {
   "codemirror_mode": {
    "name": "ipython",
    "version": 3
   },
   "file_extension": ".py",
   "mimetype": "text/x-python",
   "name": "python",
   "nbconvert_exporter": "python",
   "pygments_lexer": "ipython3",
   "version": "3.10.9"
  }
 },
 "nbformat": 4,
 "nbformat_minor": 5
}

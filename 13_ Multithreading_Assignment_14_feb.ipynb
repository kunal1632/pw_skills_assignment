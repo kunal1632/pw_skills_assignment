{
 "cells": [
  {
   "cell_type": "markdown",
   "id": "dbd9a235",
   "metadata": {},
   "source": [
    "### Q1. what is multithreading in python? hy is it used? Name the module used to handle threads in python"
   ]
  },
  {
   "cell_type": "markdown",
   "id": "9566e707",
   "metadata": {},
   "source": [
    "Multithreading in Python enables concurrent execution of multiple threads within a program, achieving parallelism and efficient utilization of CPU resources. It is used to handle tasks that can be executed independently and do not rely on each other. The threading module in Python provides the necessary tools and functionality to create, manage, and synchronize threads."
   ]
  },
  {
   "cell_type": "markdown",
   "id": "0c40ccdf",
   "metadata": {},
   "source": [
    "### Q2. Why threading module used? write the use of the following functions\n",
    "1. activeCount()\n",
    "2. currentThread()\n",
    "3. enumerate()"
   ]
  },
  {
   "cell_type": "markdown",
   "id": "0643276b",
   "metadata": {},
   "source": [
    "The threading module in Python is used for handling threads. It provides a high-level interface for creating, managing, and synchronizing threads in a program."
   ]
  },
  {
   "cell_type": "markdown",
   "id": "c328800e",
   "metadata": {},
   "source": [
    "The activeCount() function is used to get the number of currently active threads in a Python program. It returns the count of threads that are currently alive and executing. It can be useful for monitoring and managing the concurrency of a program.\n",
    "\n",
    "The currentThread() function returns the currently executing thread object. It is used to obtain a reference to the thread from within the thread itself. This can be helpful for identifying the current thread, accessing its attributes, or performing thread-specific operations.\n",
    "\n",
    "The enumerate() function returns a list of all currently active Thread objects in the program. It allows you to iterate over all active threads and perform operations or access attributes of each thread."
   ]
  },
  {
   "cell_type": "markdown",
   "id": "9fbe1505",
   "metadata": {},
   "source": [
    "### Q3. Explain the following functions\n",
    "1. run()\n",
    "2. start()\n",
    "3. join()\n",
    "4. isAlive()"
   ]
  },
  {
   "cell_type": "markdown",
   "id": "82ebdb4a",
   "metadata": {},
   "source": [
    "The run() method is the entry point for the thread's activity. It is the method that is executed when the start() method is called on a thread. \n",
    "\n",
    "The start() method is used to start the execution of a thread. It creates a new thread and calls the run() method of the thread. The code inside the run() method is executed concurrently in a separate thread.\n",
    "\n",
    "The join() method is used to wait for a thread to complete its execution. It blocks the calling thread until the target thread finishes. This is useful when you want to ensure that certain operations happen only after a thread has finished executing.\n",
    "\n",
    " The isAlive() method is used to check if a thread is currently alive or active. It returns True if the thread is still running, and False otherwise."
   ]
  },
  {
   "cell_type": "markdown",
   "id": "d790e960",
   "metadata": {},
   "source": [
    "### Q4. Write a python program to create two threads. Thread one must print the list of squares and thread two must print the list of cubes"
   ]
  },
  {
   "cell_type": "code",
   "execution_count": 3,
   "id": "4fb7b847",
   "metadata": {},
   "outputs": [
    {
     "name": "stdout",
     "output_type": "stream",
     "text": [
      "the square of 1 is 1\n",
      "the square of 2 is 4\n",
      "the square of 3 is 9\n",
      "the square of 4 is 16\n",
      "the square of 5 is 25\n",
      "the square of 6 is 36\n",
      "the square of 7 is 49\n",
      "the square of 8 is 64\n",
      "the square of 9 is 81\n",
      "the square of 10 is 100\n",
      "the square of 11 is 121\n",
      "the square of 12 is 144\n",
      "the square of 13 is 169\n",
      "the square of 14 is 196\n",
      "the square of 15 is 225\n",
      "the square of 16 is 256\n",
      "the square of 17 is 289\n",
      "the square of 18 is 324\n",
      "the square of 19 is 361\n",
      "the square of 20 is 400\n",
      "the cube of 1 is 1\n",
      "the cube of 2 is 8\n",
      "the cube of 3 is 27\n",
      "the cube of 4 is 64\n",
      "the cube of 5 is 125\n",
      "the cube of 6 is 216\n",
      "the cube of 7 is 343\n",
      "the cube of 8 is 512\n",
      "the cube of 9 is 729\n",
      "the cube of 10 is 1000\n",
      "the cube of 11 is 1331\n",
      "the cube of 12 is 1728\n",
      "the cube of 13 is 2197\n",
      "the cube of 14 is 2744\n",
      "the cube of 15 is 3375\n",
      "the cube of 16 is 4096\n",
      "the cube of 17 is 4913\n",
      "the cube of 18 is 5832\n",
      "the cube of 19 is 6859\n",
      "the cube of 20 is 8000\n"
     ]
    }
   ],
   "source": [
    "import threading\n",
    "\n",
    "def square():\n",
    "    for i in range(1,21):\n",
    "        print(f\"the square of {i} is {i**2}\")\n",
    "        \n",
    "def cube():\n",
    "    for i in range(1,21):\n",
    "        print(f\"the cube of {i} is {i**3}\")\n",
    "    \n",
    "thread1 = threading.Thread(target=square)\n",
    "thread2 = threading.Thread(target=cube)\n",
    "\n",
    "thread1.start()\n",
    "thread2.start()"
   ]
  },
  {
   "cell_type": "markdown",
   "id": "90a42e98",
   "metadata": {},
   "source": [
    "### Q5. State advantages and disadvantages of multithreading"
   ]
  },
  {
   "cell_type": "markdown",
   "id": "cb9d9b4f",
   "metadata": {},
   "source": [
    "advantages of Multithreading:\n",
    "\n",
    "1. Increased performance and resource utilization through concurrent execution.\n",
    "2. Improved responsiveness and user experience by handling background tasks while maintaining interactivity.\n",
    "3. Efficient sharing of data and resources among threads, promoting modularity and code organization.\n",
    "\n",
    "Disadvantages of Multithreading:\n",
    "\n",
    "1. Complexity and synchronization challenges, such as race conditions and deadlocks.\n",
    "2. Increased memory overhead due to each thread requiring additional resources.\n",
    "3. Difficulties in debugging and testing multithreaded applications, especially in handling concurrent execution and potential race conditions."
   ]
  },
  {
   "cell_type": "markdown",
   "id": "0a25d07b",
   "metadata": {},
   "source": [
    "### Q6. Explain deadlocks and race conditions."
   ]
  },
  {
   "cell_type": "markdown",
   "id": "895819ed",
   "metadata": {},
   "source": [
    "Deadlock: Deadlock is a situation where two or more threads are blocked indefinitely, waiting for each other to release resources, resulting in a system halt or performance degradation.\n",
    "\n",
    "Race Condition: A race condition is a flaw in concurrent systems where the behavior of the system depends on the relative timing or interleaving of events, leading to unexpected and undesired results due to concurrent access to shared resources.\n",
    "\n"
   ]
  }
 ],
 "metadata": {
  "kernelspec": {
   "display_name": "Python 3 (ipykernel)",
   "language": "python",
   "name": "python3"
  },
  "language_info": {
   "codemirror_mode": {
    "name": "ipython",
    "version": 3
   },
   "file_extension": ".py",
   "mimetype": "text/x-python",
   "name": "python",
   "nbconvert_exporter": "python",
   "pygments_lexer": "ipython3",
   "version": "3.10.9"
  }
 },
 "nbformat": 4,
 "nbformat_minor": 5
}

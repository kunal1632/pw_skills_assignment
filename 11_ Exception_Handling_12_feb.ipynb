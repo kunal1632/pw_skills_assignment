{
 "cells": [
  {
   "cell_type": "markdown",
   "id": "e7c9a6cf",
   "metadata": {},
   "source": [
    "### Q1. What is an Exception in python? Write the difference between Exceptions and syntax errors"
   ]
  },
  {
   "cell_type": "markdown",
   "id": "7bd06652",
   "metadata": {},
   "source": [
    "An exception in Python is an event that occurs during the execution of a program, which disrupts the normal flow of the program's instructions. It is a way to handle and recover from runtime errors or exceptional situations that may occur during program execution.\n",
    "\n",
    "Exceptions are runtime errors or exceptional conditions that occur during program execution and can be handled using exception handling mechanisms. Syntax errors, on the other hand, are mistakes in the code's structure that violate the rules of the Python language's syntax and prevent the program from running until fixed."
   ]
  },
  {
   "cell_type": "markdown",
   "id": "42078eed",
   "metadata": {},
   "source": [
    "### Q2. What happens when an exception is not handled? Explain with an example"
   ]
  },
  {
   "cell_type": "markdown",
   "id": "960cc10c",
   "metadata": {},
   "source": [
    "When an exception is not handled, it leads to program termination and an error message is displayed to the user. The program execution is halted at the point where the exception occurs, and any remaining code is not executed."
   ]
  },
  {
   "cell_type": "code",
   "execution_count": 8,
   "id": "bc860a03",
   "metadata": {},
   "outputs": [
    {
     "name": "stdout",
     "output_type": "stream",
     "text": [
      "cant devide by zero\n"
     ]
    }
   ],
   "source": [
    "try:\n",
    "    ans=10/0\n",
    "except ZeroDivisionError:\n",
    "        print(\"cant devide by zero\")\n",
    "    "
   ]
  },
  {
   "cell_type": "markdown",
   "id": "7a209f70",
   "metadata": {},
   "source": [
    "### Q3. Which Python statements are used to catch and handle exceptions? Explain with an example"
   ]
  },
  {
   "cell_type": "markdown",
   "id": "a5e2f309",
   "metadata": {},
   "source": [
    "In Python, the try and except statements are used to catch and handle exceptions.\n",
    "\n",
    "The try block is used to enclose the code that may raise an exception. If an exception occurs within the try block, the execution is immediately transferred to the except block. The except block specifies the type of exception to catch and provides the code to handle the exception."
   ]
  },
  {
   "cell_type": "markdown",
   "id": "d0dbd95d",
   "metadata": {},
   "source": [
    "### Q4. Explain with an example:\n",
    "\n",
    "1. try and else\n",
    "2. finally\n",
    "3. raise"
   ]
  },
  {
   "cell_type": "code",
   "execution_count": 9,
   "id": "4c6c3753",
   "metadata": {},
   "outputs": [
    {
     "name": "stdout",
     "output_type": "stream",
     "text": [
      "Enter a numerator: 1\n",
      "Enter a denominator: 2\n",
      "The division result is: 0.5\n"
     ]
    }
   ],
   "source": [
    "try:\n",
    "    num1 = int(input(\"Enter a numerator: \"))\n",
    "    num2 = int(input(\"Enter a denominator: \"))\n",
    "    result = num1 / num2\n",
    "except ValueError:\n",
    "    print(\"Invalid input. Please enter integers.\")\n",
    "except ZeroDivisionError:\n",
    "    print(\"Error: Division by zero is not allowed.\")\n",
    "else:\n",
    "    print(f\"The division result is: {result}\")\n"
   ]
  },
  {
   "cell_type": "code",
   "execution_count": 11,
   "id": "e2bd5ac4",
   "metadata": {},
   "outputs": [
    {
     "name": "stdout",
     "output_type": "stream",
     "text": [
      "Enter the first number: 1\n",
      "Enter the second number: 10\n",
      "The result of division is: 0.1\n",
      "Finally block executed.\n"
     ]
    }
   ],
   "source": [
    "try:\n",
    "    num1 = int(input(\"Enter the first number: \"))\n",
    "    num2 = int(input(\"Enter the second number: \"))\n",
    "    result = num1 / num2\n",
    "    print(f\"The result of division is: {result}\")\n",
    "except ValueError:\n",
    "    print(\"Invalid input. Please enter integers.\")\n",
    "finally:\n",
    "    print(\"Finally block executed.\")\n"
   ]
  },
  {
   "cell_type": "code",
   "execution_count": 12,
   "id": "0529dde7",
   "metadata": {},
   "outputs": [
    {
     "name": "stdout",
     "output_type": "stream",
     "text": [
      "Name cannot be empty\n"
     ]
    }
   ],
   "source": [
    "def greet(name):\n",
    "    if not name:\n",
    "        raise ValueError(\"Name cannot be empty\")\n",
    "    else:\n",
    "        print(f\"Hello, {name}!\")\n",
    "\n",
    "try:\n",
    "    greet(\"\")\n",
    "except ValueError as e:\n",
    "    print(str(e))\n"
   ]
  },
  {
   "cell_type": "markdown",
   "id": "87d5c5e7",
   "metadata": {},
   "source": [
    "### Q5. What are Custom Exceptions in python? Why do we need Custom Exceptions? Explain with an example"
   ]
  },
  {
   "cell_type": "markdown",
   "id": "cb9ca73c",
   "metadata": {},
   "source": [
    "Custom exceptions in Python are user-defined exceptions that allow developers to create their own specialized exception classes. These exceptions can be raised and caught just like built-in exceptions in Python."
   ]
  },
  {
   "cell_type": "markdown",
   "id": "ceadb2d9",
   "metadata": {},
   "source": [
    "### Q6. Create custom exception class. Use this class to handle an exception."
   ]
  },
  {
   "cell_type": "code",
   "execution_count": 14,
   "id": "626f35a5",
   "metadata": {},
   "outputs": [
    {
     "name": "stdout",
     "output_type": "stream",
     "text": [
      "The balance is less then the requested amount\n"
     ]
    }
   ],
   "source": [
    "class inficent_ammount_error(Exception):\n",
    "    pass\n",
    "def withdrawl(balance ,amount):\n",
    "    if balance<amount:\n",
    "        raise inficent_ammount_error(\"The balance is less then the requested amount\")\n",
    "    else:\n",
    "        balance=balance-amount\n",
    "        print(f\"Withdrawl successful and the balance left is{balance}\")\n",
    "try:    \n",
    "    withdrawl(35000,55000)\n",
    "except inficent_ammount_error as e:\n",
    "    print(str(e))"
   ]
  }
 ],
 "metadata": {
  "kernelspec": {
   "display_name": "Python 3 (ipykernel)",
   "language": "python",
   "name": "python3"
  },
  "language_info": {
   "codemirror_mode": {
    "name": "ipython",
    "version": 3
   },
   "file_extension": ".py",
   "mimetype": "text/x-python",
   "name": "python",
   "nbconvert_exporter": "python",
   "pygments_lexer": "ipython3",
   "version": "3.10.9"
  }
 },
 "nbformat": 4,
 "nbformat_minor": 5
}

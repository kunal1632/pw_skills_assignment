{
 "cells": [
  {
   "cell_type": "markdown",
   "id": "1cdfd016",
   "metadata": {},
   "source": [
    "### Q1. What is a database? Differentiate between SQL and NoSQL databases."
   ]
  },
  {
   "cell_type": "markdown",
   "id": "0dae2788",
   "metadata": {},
   "source": [
    "A database is a structured collection of data that is organized, stored, and managed to enable efficient data storage, retrieval, and manipulation. It serves as a central repository for data used by applications.\n",
    "\n",
    "difference between sql and NOsql are:\n",
    "1. SQL databases follow a relational data model and utilize SQL as the query language. They have predefined schemas, enforce data consistency, and are suitable for complex relationships and structured data.\n",
    "2. NoSQL databases encompass various data models like key-value, document, columnar, or graph. They provide flexibility, scalability, and high performance, making them ideal for unstructured or semi-structured data, distributed systems, and horizontal scaling.\n",
    "3. Examples of SQL databases include MySQL, PostgreSQL, and Oracle, while popular NoSQL databases include MongoDB, Cassandra, and Redis."
   ]
  },
  {
   "cell_type": "markdown",
   "id": "adbd6433",
   "metadata": {},
   "source": [
    "### Q2. What is DDL? Explain why CREATE, DROP, ALTER, and TRUNCATE are used with an example."
   ]
  },
  {
   "cell_type": "markdown",
   "id": "8fc0dbe7",
   "metadata": {},
   "source": [
    "DL stands for Data Definition Language, which is a subset of SQL (Structured Query Language) used to define and manage the structure and organization of a database. DDL statements are used to create, modify, and delete database objects such as tables, indexes, and constraints.\n",
    "\n",
    "The CREATE statement is used to create new database objects, such as tables, views, indexes, or schemas.\n",
    "Example: CREATE TABLE statement is used to create a new table. \n",
    "\n",
    "The DROP statement is used to remove or delete existing database objects from the database.\n",
    "Example: DROP TABLE statement is used to remove a table\n",
    "\n",
    "The ALTER statement is used to modify the structure or properties of existing database objects.\n",
    "Example: ALTER TABLE statement is used to add, modify, or delete columns in an existing table\n",
    "\n",
    "he TRUNCATE statement is used to remove all the data from a table while keeping the structure intact.\n",
    "Example: TRUNCATE TABLE statement is used to delete all rows from a table."
   ]
  },
  {
   "cell_type": "markdown",
   "id": "8016dcd6",
   "metadata": {},
   "source": [
    "### Q3. What is DML? Explain INSERT, UPDATE, and DELETE with an example."
   ]
  },
  {
   "cell_type": "markdown",
   "id": "3c1eced4",
   "metadata": {},
   "source": [
    "DML stands for Data Manipulation Language, which is a subset of SQL (Structured Query Language) used to manage and manipulate the data within a database. DML statements are used to insert, update, and delete data from tables.\n",
    "\n",
    "The INSERT statement is used to add new rows of data into a table.\n",
    "Example: INSERT INTO statement is used to insert data into a table.\n",
    "\n",
    "The UPDATE statement is used to modify existing data within a table.\n",
    "Example: UPDATE statement is used to update data in a table.\n",
    "\n",
    "The DELETE statement is used to remove specific rows or all rows from a table.\n",
    "Example: DELETE FROM statement is used to delete data from a table. "
   ]
  },
  {
   "cell_type": "markdown",
   "id": "f00b1db6",
   "metadata": {},
   "source": [
    "### Q4. What is DQL? Explain SELECT with an example."
   ]
  },
  {
   "cell_type": "markdown",
   "id": "0c1ee0c0",
   "metadata": {},
   "source": [
    "DQL stands for Data Query Language, which is a subset of SQL used to retrieve and query data from a database. DQL statements, primarily the SELECT statement, are used to retrieve data from one or more tables.\n",
    "\n",
    "The SELECT statement is used to retrieve data from one or more tables in a database.\n",
    "SELECT * FROM customers;\n",
    "\n"
   ]
  },
  {
   "cell_type": "markdown",
   "id": "e6d0519e",
   "metadata": {},
   "source": [
    "### Q5. Explain Primary Key and Foreign Key."
   ]
  },
  {
   "cell_type": "markdown",
   "id": "72b46cc7",
   "metadata": {},
   "source": [
    "\n",
    "#### Primary Key:\n",
    "\n",
    "1. A primary key is a column or set of columns that uniquely identifies each record in a table.\n",
    "2. It ensures data integrity and uniqueness within the table.\n",
    "3. A table can have only one primary key, and it is used to establish relationships with other tables.\n",
    "\n",
    "#### Foreign Key:\n",
    "\n",
    "1. A foreign key is a column or set of columns that references the primary key of another table.\n",
    "2. It establishes a relationship between two tables, enforcing referential integrity.\n",
    "3. Foreign keys help maintain data consistency and enable relational connections between tables."
   ]
  },
  {
   "cell_type": "markdown",
   "id": "1bd70ef9",
   "metadata": {},
   "source": [
    "### Q6. Write a python code to connect MySQL to python. Explain the cursor() and execute() method."
   ]
  },
  {
   "cell_type": "code",
   "execution_count": null,
   "id": "70caefb8",
   "metadata": {},
   "outputs": [],
   "source": [
    "import mysql.connector\n",
    "\n",
    "connection = mysql.connector.connect(\n",
    "    host=\"localhost\",\n",
    "    user=\"kunal\",\n",
    "    password=\"kunaldhand\",\n",
    "    database=\"test\"\n",
    ")\n",
    "\n",
    "\n",
    "if connection.is_connected():\n",
    "    print(\"Connected to MySQL\")\n",
    "\n",
    "connection.close()"
   ]
  },
  {
   "cell_type": "markdown",
   "id": "a39ca36d",
   "metadata": {},
   "source": [
    "#### cursor\n",
    "1. The cursor() method is used to create a cursor object, which is responsible for executing SQL queries and fetching data from the database.\n",
    "2. The cursor object allows you to interact with the database and perform operations like executing queries, fetching data, and managing transactions.\n",
    "#### execute\n",
    "1. The execute() method is used to execute SQL queries through the cursor object.\n",
    "2. It takes the SQL query as a parameter and executes it on the connected MySQL database.\n"
   ]
  },
  {
   "cell_type": "markdown",
   "id": "4cb34d4a",
   "metadata": {},
   "source": [
    "### Q7. Give the order of execution of SQL clauses in an SQL query."
   ]
  },
  {
   "cell_type": "markdown",
   "id": "83c84ffa",
   "metadata": {},
   "source": [
    "1. ROM: Specifies the table or tables from which to retrieve data.\n",
    "2. WHERE: Filters the rows based on specified conditions.\n",
    "3. GROUP BY: Groups the rows based on specified columns.\n",
    "4. HAVING: Filters the groups based on specified conditions.\n",
    "5. SELECT: Specifies the columns to retrieve from the selected table(s).\n",
    "6. DISTINCT: Eliminates duplicate rows from the result set.\n",
    "7. ORDER BY: Sorts the result set based on specified columns.\n",
    "8. LIMIT/OFFSET: Restricts the number of rows returned or skips a specified number of rows.\n",
    "9. UNION/INTERSECT/EXCEPT: Combines the result sets of multiple queries.\n",
    "10. INSERT: Inserts new rows into a table.\n",
    "11. UPDATE: Modifies existing rows in a table.\n",
    "12. DELETE: Deletes rows from a table."
   ]
  }
 ],
 "metadata": {
  "kernelspec": {
   "display_name": "Python 3 (ipykernel)",
   "language": "python",
   "name": "python3"
  },
  "language_info": {
   "codemirror_mode": {
    "name": "ipython",
    "version": 3
   },
   "file_extension": ".py",
   "mimetype": "text/x-python",
   "name": "python",
   "nbconvert_exporter": "python",
   "pygments_lexer": "ipython3",
   "version": "3.10.9"
  }
 },
 "nbformat": 4,
 "nbformat_minor": 5
}
